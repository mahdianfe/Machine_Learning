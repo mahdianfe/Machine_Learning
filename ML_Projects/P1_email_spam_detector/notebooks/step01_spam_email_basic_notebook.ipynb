{
 "cells": [
  {
   "metadata": {
    "ExecuteTime": {
     "end_time": "2025-05-01T11:43:02.543749Z",
     "start_time": "2025-05-01T11:43:02.540669Z"
    }
   },
   "cell_type": "code",
   "source": [
    "import os\n",
    "import pandas as pd\n",
    "\n"
   ],
   "id": "ddccfd410dcca3fc",
   "outputs": [],
   "execution_count": 3
  },
  {
   "metadata": {},
   "cell_type": "markdown",
   "source": [
    "---\n",
    " # اکسترکت یا استخراج فایل ها"
   ],
   "id": "8364253bba7b6a2b"
  },
  {
   "cell_type": "code",
   "execution_count": null,
   "id": "initial_id",
   "metadata": {
    "collapsed": true
   },
   "outputs": [],
   "source": [
    "#برای خارج کردن از حالت زیپ کدهای زیر را در ترمینال مینویسیم\n",
    "\n",
    "# tar -xvjf 20021010_easy_ham.tar.bz2\n",
    "#توجه که 20021010_easy_ham.tar.bz2 اسم خود فایل است\n",
    "\n",
    "# tar -xvjf 20021010_spam.tar.bz2"
   ]
  },
  {
   "metadata": {},
   "cell_type": "markdown",
   "source": [
    "---\n",
    "# خواندن فایل ها"
   ],
   "id": "bacd5f5cacd08373"
  },
  {
   "metadata": {
    "ExecuteTime": {
     "end_time": "2025-05-01T11:44:53.461034Z",
     "start_time": "2025-05-01T11:44:50.401562Z"
    }
   },
   "cell_type": "code",
   "source": [
    "#خواندن فایل -----------\n",
    "def load_emails_from_folder(folder):\n",
    "    emails = []\n",
    "    for filename in os.listdir(folder):\n",
    "    # یه پوشه داریم به اسم spam/ که پر از فایل ایمیله.\n",
    "    # os.listdir(folder) مثل اینه که بری داخل اون پوشه و اسم همه‌ی فایل‌ها رو بخونی.\n",
    "\n",
    "        path = os.path.join(folder, filename)\n",
    "        # فرض کن داری با فولدر spam/ کار می‌کنی.\n",
    "        # برای خوندن فایل، نیاز به آدرس کاملش داری\n",
    "        # مزیتش اینه که روی همه‌ی سیستم‌عامل‌ها (ویندوز، لینوکس، مک) درست کار می‌کنه.\n",
    "\n",
    "        with open(path, 'r', encoding='latin-1') as f:\n",
    "        # encoding='latin-1' → چون بعضی ایمیل‌ها کاراکترهای خاص دارن که با utf-8 باز نمی‌شن.\n",
    "            emails.append(f.read())\n",
    "    return emails\n",
    "\n",
    "spam_emails = load_emails_from_folder('data/spam')\n",
    "ham_emails = load_emails_from_folder('data/easy_ham')\n",
    "\n",
    "print(f\"Loaded {len(spam_emails)} spam emails\")\n",
    "print(f\"Loaded {len(ham_emails)} ham emails\")\n"
   ],
   "id": "2c4565910cc049d8",
   "outputs": [
    {
     "name": "stdout",
     "output_type": "stream",
     "text": [
      "Loaded 501 spam emails\n",
      "Loaded 2551 ham emails\n"
     ]
    }
   ],
   "execution_count": 4
  },
  {
   "metadata": {},
   "cell_type": "markdown",
   "source": [
    "---\n",
    "# دید کلی از دیتاست"
   ],
   "id": "410a7b96a3079f60"
  },
  {
   "metadata": {
    "ExecuteTime": {
     "end_time": "2025-05-01T11:56:34.641945Z",
     "start_time": "2025-05-01T11:56:34.630777Z"
    }
   },
   "cell_type": "code",
   "source": [
    "import pandas as pd\n",
    "\n",
    "# ایجاد دیتافریم برای ایمیل‌های هرزنامه\n",
    "spam_df = pd.DataFrame({'text': spam_emails, 'label': 1}) # 1 برای هرزنامه\n",
    "\n",
    "# ایجاد دیتافریم برای ایمیل‌های غیر هرزنامه\n",
    "ham_df = pd.DataFrame({'text': ham_emails, 'label': 0}) # 0 برای غیر هرزنامه\n",
    "\n",
    "# ترکیب دو دیتافریم\n",
    "df = pd.concat([spam_df, ham_df], ignore_index=True)\n",
    "\n",
    "print(\"نمایش چند ردیف اول دیتافریم ترکیب شده:\")\n",
    "print(df.head())\n",
    "\n",
    "print(\"\\nاطلاعات کلی دیتافریم ترکیب شده:\")\n",
    "df.info()\n",
    "\n",
    "print(\"\\nتعداد ایمیل‌های هرزنامه و غیر هرزنامه:\")\n",
    "print(df['label'].value_counts())\n",
    "\n",
    "# نمایش چند نمونه از متن ایمیل\n",
    "print(\"\\nنمونه هایی از متن ایمیل:\")\n",
    "for i in range(3):  # نمایش 3 نمونه\n",
    "    print(f\"\\nنمونه {i+1} (برچسب: {df['label'][i]}):\")\n",
    "    print(df['text'][i][:200], \"...\")  # نمایش 200 کاراکتر اول هر ایمیل"
   ],
   "id": "d6c904713ec59133",
   "outputs": [
    {
     "name": "stdout",
     "output_type": "stream",
     "text": [
      "نمایش چند ردیف اول دیتافریم ترکیب شده:\n",
      "                                                text  label\n",
      "0  mv 1 00001.bfc8d64d12b325ff385cca8d07b84288\\nm...      1\n",
      "1  From 12a1mailbot1@web.de  Thu Aug 22 13:17:22 ...      1\n",
      "2  From ilug-admin@linux.ie  Thu Aug 22 13:27:39 ...      1\n",
      "3  From sabrina@mx3.1premio.com  Thu Aug 22 14:44...      1\n",
      "4  From wsup@playful.com  Thu Aug 22 16:17:00 200...      1\n",
      "\n",
      "اطلاعات کلی دیتافریم ترکیب شده:\n",
      "<class 'pandas.core.frame.DataFrame'>\n",
      "RangeIndex: 3052 entries, 0 to 3051\n",
      "Data columns (total 2 columns):\n",
      " #   Column  Non-Null Count  Dtype \n",
      "---  ------  --------------  ----- \n",
      " 0   text    3052 non-null   object\n",
      " 1   label   3052 non-null   int64 \n",
      "dtypes: int64(1), object(1)\n",
      "memory usage: 47.8+ KB\n",
      "\n",
      "تعداد ایمیل‌های هرزنامه و غیر هرزنامه:\n",
      "label\n",
      "0    2551\n",
      "1     501\n",
      "Name: count, dtype: int64\n",
      "\n",
      "نمونه هایی از متن ایمیل:\n",
      "\n",
      "نمونه 1 (برچسب: 1):\n",
      "mv 1 00001.bfc8d64d12b325ff385cca8d07b84288\n",
      "mv 10 00010.7f5fb525755c45eb78efc18d7c9ea5aa\n",
      "mv 100 00100.c60d1c697136b07c947fa180ba3e0441\n",
      "mv 101 00101.2dfd7ee79ae439b8d9c38e783a137efa\n",
      "mv 102 00102.2e3969 ...\n",
      "\n",
      "نمونه 2 (برچسب: 1):\n",
      "From 12a1mailbot1@web.de  Thu Aug 22 13:17:22 2002\n",
      "Return-Path: <12a1mailbot1@web.de>\n",
      "Delivered-To: zzzz@localhost.example.com\n",
      "Received: from localhost (localhost [127.0.0.1])\n",
      "\tby phobos.labs.example. ...\n",
      "\n",
      "نمونه 3 (برچسب: 1):\n",
      "From ilug-admin@linux.ie  Thu Aug 22 13:27:39 2002\n",
      "Return-Path: <ilug-admin@linux.ie>\n",
      "Delivered-To: zzzz@localhost.example.com\n",
      "Received: from localhost (localhost [127.0.0.1])\n",
      "\tby phobos.labs.example. ...\n"
     ]
    }
   ],
   "execution_count": 8
  },
  {
   "metadata": {},
   "cell_type": "markdown",
   "source": [
    "---\n",
    "# تبدیل ایمیل‌ها به ویژگی (feature extraction)\n",
    "#### ما نمی‌تونیم متن خام رو مستقیماً به مدل بدیم. پس باید تبدیلش کنیم به عددی:"
   ],
   "id": "f26b5971df1f7933"
  },
  {
   "metadata": {
    "ExecuteTime": {
     "end_time": "2025-05-01T18:15:58.845287Z",
     "start_time": "2025-05-01T18:15:57.695988Z"
    }
   },
   "cell_type": "code",
   "source": [
    "from sklearn.feature_extraction.text import TfidfVectorizer\n",
    "\n",
    "vectorizer = TfidfVectorizer(stop_words='english', max_features=1000)\n",
    "#می‌گوید که کلمات توقف (stop words) زبان انگلیسی را نادیده بگیرد.مانند \"the\"، \"a\"، \"is\"، \"are\" و غیره. با حذف این کلمات، تمرکز مدل بر روی کلمات مهم‌تر خواهد بود.\n",
    "\n",
    "#فقط ۱۰۰۰ کلمه‌ی مهم‌تر و پرتکرارتر را از بین تمام کلمات موجود در همه ایمیل‌ها نگه دار و بقیه را نادیده بگیر\n",
    "\n",
    "X = vectorizer.fit_transform(spam_emails + ham_emails)\n",
    "y = [1]*len(spam_emails) + [0]*len(ham_emails)\n",
    "#فرض کن 3 ایمیل اسپم داریم\n",
    "# اون‌وقت len(spam_emails) می‌شه 3. حالا: [1] * 3\n",
    "# مساوی می‌شه با: [1, 1, 1]\n",
    "# # یعنی برای ۳ ایمیل اسپم، ۳ عدد ۱ تولید کردیم. همین کار برای ایمیل‌های معمولی:\n",
    "# [0] * len(ham_emails)\n",
    "# در نتیجه:\n",
    "# y = [1, 1, 1, 0, 0, 0]\n"
   ],
   "id": "878c0e70b0420937",
   "outputs": [],
   "execution_count": 12
  },
  {
   "metadata": {},
   "cell_type": "markdown",
   "source": [
    "---\n",
    "# آموزش مدل"
   ],
   "id": "471e4fa1515f7397"
  },
  {
   "metadata": {
    "ExecuteTime": {
     "end_time": "2025-05-01T18:16:02.554853Z",
     "start_time": "2025-05-01T18:16:02.171133Z"
    }
   },
   "cell_type": "code",
   "source": [
    "from sklearn.model_selection import train_test_split\n",
    "from sklearn.naive_bayes import MultinomialNB\n",
    "\n",
    "from sklearn.metrics import classification_report\n",
    "\n",
    "X_train, X_test, y_train, y_test = train_test_split(X, y, test_size=0.2, random_state=42)\n",
    "\n",
    "model = MultinomialNB()\n",
    "model.fit(X_train, y_train)\n",
    "\n",
    "y_pred = model.predict(X_test)\n",
    "print(classification_report(y_test, y_pred))\n",
    "\n",
    "# تا اینجا چی ساختیم؟\n",
    "# مثل اینه که یه ماشین داری که وقتی یه ایمیل بهش می‌دی، بهت می‌گه \"این اسپمه یا نه؟\"\n",
    "# و برای این‌کار، خودش اول متن رو عددی می‌کنه، بعد مدل یادگرفته‌ش رو روی اون اجرا می‌کنه."
   ],
   "id": "44c6c673732046f9",
   "outputs": [
    {
     "name": "stdout",
     "output_type": "stream",
     "text": [
      "              precision    recall  f1-score   support\n",
      "\n",
      "           0       0.97      1.00      0.99       497\n",
      "           1       0.99      0.88      0.93       114\n",
      "\n",
      "    accuracy                           0.98       611\n",
      "   macro avg       0.98      0.94      0.96       611\n",
      "weighted avg       0.98      0.98      0.97       611\n",
      "\n"
     ]
    }
   ],
   "execution_count": 13
  },
  {
   "metadata": {},
   "cell_type": "code",
   "outputs": [],
   "execution_count": null,
   "source": "",
   "id": "b6ede5d126b07075"
  }
 ],
 "metadata": {
  "kernelspec": {
   "display_name": "Python 3",
   "language": "python",
   "name": "python3"
  },
  "language_info": {
   "codemirror_mode": {
    "name": "ipython",
    "version": 2
   },
   "file_extension": ".py",
   "mimetype": "text/x-python",
   "name": "python",
   "nbconvert_exporter": "python",
   "pygments_lexer": "ipython2",
   "version": "2.7.6"
  }
 },
 "nbformat": 4,
 "nbformat_minor": 5
}
