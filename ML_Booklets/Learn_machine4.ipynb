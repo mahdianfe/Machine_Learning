{
 "nbformat": 4,
 "nbformat_minor": 0,
 "metadata": {
  "colab": {
   "provenance": []
  },
  "kernelspec": {
   "name": "python3",
   "display_name": "Python 3 (ipykernel)",
   "language": "python"
  },
  "language_info": {
   "name": "python"
  }
 },
 "cells": [
  {
   "metadata": {},
   "cell_type": "markdown",
   "source": ""
  },
  {
   "metadata": {},
   "cell_type": "code",
   "outputs": [],
   "execution_count": null,
   "source": [
    "\"\"\" نکته برداری از سایت های:\n",
    "https://faradars.org/courses/machine-learning-using-python-fvpht0091\n",
    "و چت جی پی تی و جیمینی\n",
    "\"\"\""
   ]
  },
  {
   "metadata": {},
   "cell_type": "markdown",
   "source": ""
  },
  {
   "metadata": {},
   "cell_type": "markdown",
   "source": [
    "---\n",
    "# مدلهای خطی\n",
    "\"\"\"\n",
    "1. در بیشتر موارد، وقتی در حوزه یادگیری ماشین و آمار از \"مدل خطی\" صحبت می‌شود، منظور \"رگرسیون خطی\" است\n",
    " \n",
    "2. اگرچه رگرسیون خطی به ظاهر یک مدل پیش‌بینی است، اما در پس زمینه آن، الگوریتم‌های بهینه‌سازی برای یافتن بهترین پارامترهای مدل در حال کار هستند. بنابراین، آموزش مدل‌های خطی در پایتون بدون پرداختن به این مباحث، کامل نخواهد بود\n",
    "\n",
    "\n",
    "3. برای درک بهتر مدل‌های خطی، مباحث را به ترتیب زیر می‌توانید دنبال کنید:\n",
    "\n",
    " مفهوم رگرسیون خطی:\n",
    " \n",
    "            رابطه خطی بین متغیرها\n",
    "            متغیرهای مستقل و وابسته\n",
    "            هدف رگرسیون خطی\n",
    "            انواع رگرسیون خطی (ساده، چندگانه)\n",
    "                 \n",
    "تابع هزینه (Cost Function):\n",
    "\n",
    "            اهمیت تابع هزینه\n",
    "            انواع توابع هزینه (میانگین مربعات خطا)\n",
    "            هدف کمینه کردن تابع هزینه\n",
    "             \n",
    " \n",
    "الگوریتم‌های بهینه‌سازی:\n",
    "\n",
    "            گرادیان کاهشی (Gradient Descent)\n",
    "                انواع گرادیان کاهشی (بچ، تصادفی)\n",
    "            معادله نرمال (Normal Equations)\n",
    "            انتخاب الگوریتم مناسب\n",
    "            \n",
    "\n",
    "پیاده‌سازی مدل‌های خطی در پایتون:\n",
    "\n",
    "            استفاده از کتابخانه‌های Scikit-learn\n",
    "            آموزش مدل\n",
    "            ارزیابی مدل\n",
    "            \n",
    "مباحث تکمیلی:\n",
    "     \n",
    "            بایاس و واریانس (Bias-Variance Tradeoff)\n",
    "            بیش‌برازش و کم‌برازش\n",
    "            منحنی‌های یادگیری\n",
    "    \"\"\""
   ]
  },
  {
   "metadata": {},
   "cell_type": "markdown",
   "source": [
    "مفهوم رگرسیون خطی\n",
    "\n",
    "    رگرسیون خطی یک روش آماری است که برای مدل‌سازی رابطه بین یک متغیر وابسته (که می‌خواهیم پیش‌بینی کنیم) و یک یا چند متغیر مستقل (که برای پیش‌بینی استفاده می‌کنیم) به کار می‌رود. هدف اصلی این روش، یافتن یک رابطه خطی است که بهترین برازش را با داده‌ها داشته باشد.\n",
    "\n",
    "رابطه خطی بین متغیرها\n",
    "\n",
    "    در رگرسیون خطی، فرض بر این است که بین متغیرهای مستقل و وابسته یک رابطه خطی وجود دارد. این رابطه به صورت یک خط مستقیم نمایش داده می‌شود. به عبارت دیگر، تغییرات در متغیر وابسته به صورت خطی با تغییرات در متغیرهای مستقل مرتبط است.\n",
    "\n",
    "متغیرهای مستقل و وابسته\n",
    "\n",
    "    متغیر وابسته (Dependent Variable): متغیری است که می‌خواهیم مقدار آن را پیش‌بینی کنیم. این متغیر معمولاً با نماد \"Y\" نشان داده می‌شود.\n",
    "    متغیرهای مستقل (Independent Variables): متغیرهایی هستند که برای پیش‌بینی متغیر وابسته استفاده می‌شوند. این متغیرها معمولاً با نماد \"X\" نشان داده می‌شوند.\n",
    "\n",
    "هدف رگرسیون خطی\n",
    "\n",
    "هدف اصلی رگرسیون خطی، یافتن بهترین خطی است که رابطه بین متغیرهای مستقل و وابسته را توصیف می‌کند. این \"بهترین خط\" به گونه‌ای انتخاب می‌شود که خطا بین مقادیر پیش‌بینی شده و مقادیر واقعی کمینه شود.\n",
    "\n",
    "انواع رگرسیون خطی\n",
    "\n",
    "    رگرسیون خطی ساده (Simple Linear Regression): در این نوع رگرسیون، تنها یک متغیر مستقل برای پیش‌بینی متغیر وابسته وجود دارد. رابطه بین این دو متغیر به صورت یک خط مستقیم نمایش داده می‌شود.\n",
    "    رگرسیون خطی چندگانه (Multiple Linear Regression): در این نوع رگرسیون، بیش از یک متغیر مستقل برای پیش‌بینی متغیر وابسته وجود دارد. رابطه بین متغیرها به صورت یک ابرصفحه (hyperplane) در فضای چندبعدی نمایش داده می‌شود."
   ]
  },
  {
   "metadata": {},
   "cell_type": "markdown",
   "source": [
    "\"\"\"\n",
    "_________________\n",
    "# بهینه‌سازی (Optimization):\n",
    "    فرآیندی برای پیدا کردن بهترین مقدار (ماکزیمم یا مینیمم) برای یک تابع تحت شرایط مشخص.\n",
    "    هدف فقط کاهش خطا نیست، بلکه یافتن پارامترهایی است که عملکرد کلی مدل را بهبود بخشد\n",
    "    \n",
    "____________________\n",
    "\n",
    "#  کمینه‌سازی (Minimization)\n",
    "    \n",
    "    کمینه‌سازی (Minimization) به فرآیند پیدا کردن کمترین مقدار یک تابع گفته می‌شود. به عبارت دیگر، هدف از کمینه‌سازی، یافتن مقادیر ورودی (متغیرها) است که باعث می‌شود تابع به کمترین مقدار ممکن برسد.\n",
    "    \n",
    "نوع خاصی از بهینه‌سازیه که به‌جای ماکزیمم، دنبال کمترین مقدار تابع می‌گردیم     بهینه‌سازی مفهوم گسترده‌تری است و می‌تواند شامل بیشینه هم شود\n",
    "     \n",
    "____________________\n",
    "\n",
    "# روش‌های کمینه‌سازی:\n",
    "\n",
    "معادله نرمال (Normal Equation):\n",
    "\n",
    "    این روش، همانطور که قبلاً توضیح داده شد، یک روش مستقیم برای محاسبه پارامترهای بهینه در رگرسیون خطی است.\n",
    "    برای مجموعه‌های داده کوچک تا متوسط، سریع و کارآمد است.\n",
    "    محاسبه معکوس ماتریس در این روش، برای مجموعه‌های داده بزرگ، بسیار پرهزینه است.\n",
    "\n",
    "گرادیان کاهشی (Gradient Descent):\n",
    "\n",
    "    این روش یک الگوریتم تکراری است که با حرکت در جهت منفی گرادیان تابع، به سمت کمینه آن حرکت می‌کند.\n",
    "    انواع گرادیان کاهشی:\n",
    "        گرادیان کاهشی دسته‌ای (Batch Gradient Descent): از کل مجموعه داده برای محاسبه گرادیان استفاده می‌کند.\n",
    "        گرادیان کاهشی تصادفی (Stochastic Gradient Descent - SGD): از یک نمونه تصادفی در هر تکرار استفاده می‌کند.\n",
    "        مینی بچ گرادیان دیسنت (Mini-batch Gradient Descent): از یک دسته کوچک از نمونه‌ها در هر تکرار استفاده می‌کند.\n",
    "        یعنی مثلا بج های صدتا صدتایی \n",
    "        \n",
    "\n",
    "الگوریتم‌های بهینه‌سازی پیشرفته:\n",
    "\n",
    "    - L-BFGS (Limited-memory Broyden–Fletcher–Goldfarb–Shanno):\n",
    "        این الگوریتم یک روش شبه-نیوتن است که برای کمینه‌سازی توابع غیرخطی استفاده می‌شود.\n",
    "        L-BFGS نسبت به الگوریتم نیوتن-رافسون، حافظه کمتری مصرف می‌کند و برای مجموعه‌های داده بزرگ مناسب‌تر است.\n",
    "        این الگوریتم از تخمین‌هایی از ماتریس هسین (Hessian) استفاده می‌کند تا جهت حرکت به سمت کمینه را تعیین کند.\n",
    "        \n",
    "    - SAG (Stochastic Average Gradient):\n",
    "        این الگوریتم یک روش گرادیان تصادفی است که برای کمینه‌سازی توابع هدف محدب استفاده می‌شود.\n",
    "        SAG نسبت به SGD، همگرایی سریع‌تری دارد و برای مجموعه‌های داده بزرگ مناسب است.\n",
    "        این الگوریتم میانگین گرادیان‌های محاسبه شده در تکرارهای قبلی را ذخیره می‌کند.\n",
    "\n",
    "    نکته جالب:\n",
    "     L-BFGS یا Newton روش‌هایی هستن که نه‌تنها شیب رو حس می‌کنن، بلکه شکل منحنی رو هم بررسی می‌کنن و تخمین می‌زنن که دقیقاً پایین دره کجاست هوشمندتر حرکت می‌کنن\n",
    "\n",
    "        \n",
    "    - SAGA (Stochastic Average Gradient Algorithm):\n",
    "        این الگوریتم بهبود یافته SAG است که برای توابع هدف غیر محدب نیز قابل استفاده است.\n",
    "        SAGA نسبت به SAG، همگرایی پایدارتری دارد و برای مجموعه‌های داده بزرگ مناسب است.\n",
    "        \n",
    "\n",
    "    - Newton-Raphson:\n",
    "        این الگوریتم یک روش تکراری است که از مشتقات اول و دوم تابع برای پیدا کردن کمینه استفاده می‌کند.\n",
    "        Newton-Raphson نسبت به گرادیان کاهشی، همگرایی سریع‌تری دارد، اما محاسبه مشتقات دوم می‌تواند پرهزینه باشد.\n",
    "        \n",
    "\n",
    "    - Conjugate Gradient:\n",
    "        این الگوریتم یک روش تکراری است که برای کمینه‌سازی توابع درجه دوم استفاده می‌شود.\n",
    "        Conjugate Gradient نسبت به گرادیان کاهشی، همگرایی سریع‌تری دارد و برای مجموعه‌های داده بزرگ مناسب است. \n",
    "           \n",
    "________________________________________\n",
    "\n",
    "\n",
    "\n",
    "# وقتی می‌گوییم \"پر هزینه\" در محاسبات:\n",
    "\n",
    "، منظورمان این است که انجام آن محاسبات به منابع محاسباتی زیادی (مانند زمان پردازش، حافظه و توان محاسباتی) نیاز دارد. در مورد معادله نرمال، \"پر هزینه\" بودن به چند عامل بستگی دارد:\n",
    "\n",
    "1. معکوس ماتریس:\n",
    "\n",
    "    معادله نرمال شامل محاسبه معکوس ماتریس (X^T * X)^-1 است.\n",
    "    محاسبه معکوس یک ماتریس، به ویژه برای ماتریس‌های بزرگ، از نظر محاسباتی بسیار پرهزینه است.\n",
    "    هرچه اندازه ماتریس (تعداد ویژگی‌ها) بزرگتر باشد، زمان و منابع مورد نیاز برای محاسبه معکوس آن به طور قابل توجهی افزایش می‌یابد.\n",
    "\n",
    "2. اندازه مجموعه داده:\n",
    "\n",
    "    وقتی مجموعه داده بسیار بزرگ باشد، ماتریس X (ماتریس ویژگی‌ها) نیز بزرگ می‌شود.\n",
    "    این امر باعث می‌شود محاسبه (X^T * X) و معکوس آن بسیار زمان‌بر و پرهزینه شود.\n",
    "    به عبارت دیگر، با افزایش تعداد نمونه‌ها (ردیف‌های داده) و تعداد ویژگی‌ها (ستون‌های داده)، هزینه محاسباتی معادله نرمال به طور تصاعدی افزایش می‌یابد.\n",
    "\n",
    "3. محدودیت‌های حافظه:\n",
    "\n",
    "    برای مجموعه‌های داده بسیار بزرگ، ذخیره ماتریس X و محاسبه معکوس آن ممکن است به حافظه بسیار زیادی نیاز داشته باشد.\n",
    "    این امر می‌تواند باعث ایجاد مشکلات حافظه و کاهش عملکرد سیستم شود.\n",
    "\n",
    "\"\"\""
   ]
  },
  {
   "metadata": {},
   "cell_type": "markdown",
   "source": [
    "---\n",
    "\"\"\"\n",
    "# گرادیان چیست:\n",
    "    \n",
    "     گرادیان به ما می‌گوید که با حرکت در کدام جهت، مقدار تابع با بیشترین سرعت افزایش می‌یابد.\n",
    "     \n",
    "    ___________________________\n",
    "    تعریف ریاضی گرادیان:\n",
    "\n",
    "    گرادیان یک تابع چند متغیره، برداری است که از مشتقات جزئی آن تابع نسبت به هر یک از متغیرها تشکیل شده است.\n",
    "    این بردار، جهت بیشترین افزایش تابع و نرخ تغییر آن در آن جهت را نشان می‌دهد.\n",
    "      گرادیان به ما می‌گوید که یک تابع در جهات مختلف چگونه تغییر می‌کند\n",
    "      \n",
    "    فرض کنید یک تابع چند متغیره مانند f(x, y) داریم.\n",
    "    مشتق جزئی این تابع نسبت به x، نرخ تغییر تابع را نسبت به x نشان می‌دهد، در حالی که y ثابت است.\n",
    "    به طور مشابه، مشتق جزئی نسبت به y، نرخ تغییر تابع را نسبت به y نشان می‌دهد، در حالی که x ثابت است.\n",
    "    گرادیان، برداری است که از این مشتقات جزئی تشکیل شده است. به عنوان مثال، گرادیان f(x, y) به صورت (∂f/∂x, ∂f/∂y) نشان داده می‌شود.\n",
    "    \n",
    "جهت و نرخ تغییر:\n",
    "\n",
    "    بردار گرادیان، جهتی را نشان می‌دهد که در آن، مقدار تابع با بیشترین سرعت افزایش می‌یابد.\n",
    "    اندازه بردار گرادیان، نرخ تغییر تابع در آن جهت را نشان می‌دهد.\n",
    "    به عبارت دیگر، هرچه اندازه گرادیان بزرگتر باشد، نرخ تغییر تابع در آن جهت بیشتر است.\n",
    "\n",
    "    ___________________________\n",
    "        \n",
    "     # کاربردهای گرادیان:\n",
    "    \n",
    "        بهینه‌سازی:\n",
    "            در الگوریتم‌های بهینه‌سازی مانند گرادیان کاهشی (Gradient Descent)، از گرادیان برای پیدا کردن کمینه یک تابع استفاده می‌شود.\n",
    "            با حرکت در جهت منفی گرادیان، به سمت کمینه تابع حرکت می‌کنیم.\n",
    "            \n",
    "        یادگیری ماشین:\n",
    "            در یادگیری ماشین، از گرادیان برای به‌روزرسانی پارامترهای مدل و کاهش تابع هزینه (Loss Function) استفاده می‌شود.\n",
    "            این امر باعث بهبود عملکرد مدل می‌شود.\n",
    "            \n",
    "        پردازش تصویر:\n",
    "            در پردازش تصویر، از گرادیان برای تشخیص لبه‌ها و تغییرات شدت روشنایی در تصاویر استفاده می‌شود.\n",
    "__________________________________________\n",
    "\n",
    "#  گرادیانتدیسنت:\n",
    "گرادیان دیسنت یک الگوریتم بهینه‌سازی است که برای پیدا کردن کمینه یک تابع استفاده می‌شود.\n",
    "\n",
    "خود به تنهایی به معنای کمینه‌سازی نیست، بلکه به فرآیند حرکت به سمت کمینه یک تابع اشاره دارد.\n",
    "دیسنت به معنای \"فرود\" یا \"کاهش\" است\n",
    "دیسنت، فرآیند حرکت به سمت کمینه یک تابع است.\n",
    "\n",
    "گرادیانت دیسنت قلب تپنده‌ی بسیاری از الگوریتم‌های یادگیری ماشینه، اما تفاوت‌هایی که بین ابزارهای مختلف مثل Scikit-learn و TensorFlow وجود داره گاهی آدم رو گیج می‌کنه.\n",
    "\n",
    "مفهوم تابع هزینه:\n",
    "loss function\n",
    "\n",
    "    تابع هزینه، که به آن تابع زیان یا تابع خطا نیز گفته می‌شود، معیاری است که نشان می‌دهد مدل شما چقدر خوب عمل می‌کند. به عبارت دیگر، این تابع تفاوت بین مقادیر پیش‌بینی شده توسط مدل و مقادیر واقعی را اندازه‌گیری می‌کند. هدف این است که پارامترهای مدل را طوری تنظیم کنیم که این تفاوت (یا هزینه) به حداقل برسد.\n",
    "شینه‌سازی (Maximization) نیز باشد \n",
    "\n",
    "#_________________\n",
    "\n",
    "\n",
    "مفهوم گرادیانت دیسنت (Gradient Descent) چیست؟\n",
    "\n",
    "    گرادیانت دیسنت یه روش عددی برای کمینه کردن تابع هزینه (loss function) هست.\n",
    "    مثلاً تو می‌خوای یه مدل خطی بسازی که به بهترین شکل ممکن داده‌ها رو پیش‌بینی کنه؛ یعنی می‌خوای پارامترهای مدل (مثل شیب خط یا وزن‌ها) رو طوری تنظیم کنی که خطات کم بشه\n",
    "    \n",
    "تشبیه شهودی گرادیانت دیسنت:\n",
    "    \n",
    "    فرض کن وسط یه دره تاریک وایسادی و دنبال پایین‌ترین نقطه‌ی دره‌ای. ولی نمی‌تونی دور و برت رو ببینی. فقط یه کار بلدی: پا رو یه ذره بذاری در جهت سراشیبی.\n",
    "    \n",
    "    هر بار پا رو می‌ذاری اونجایی که زمین شیب داره. اگه دائم این کارو بکنی، کم‌کم میری به پایین‌ترین نقطه‌ی دره. اون پایین‌ترین نقطه یعنی: کمترین مقدار تابع هزینه.\n",
    "    \n",
    "    گرادیانت دیسنت دقیقاً همینو تو دنیای ریاضی انجام می‌ده:\n",
    "        تابع شیب‌دار = تابع خطا (Loss)\n",
    "    \n",
    "        جهت شیب = گرادیانت (مشتق تابع)\n",
    "    \n",
    "        هر قدم به سمت پایین = آپدیت پارامترهای مدل\n",
    "\n",
    "\n",
    "فرمول کلی گرادیان دیسنت در ریاضی:\n",
    "θ := θ - α * ∇J(θ)\n",
    "\n",
    "    توضیح اجزای فرمول:\n",
    "        θ: پارامترهایی که می‌خواهیم یاد بگیریم (مانند وزن‌ها). و درواقع مقادیری هستند که رفتار و عملکرد مدل را تعیین می‌کنند.\n",
    "        \n",
    "        تنظیم برای دقت: هدف از یادگیری، یافتن مقادیری برای تتا است که مدل را تا حد امکان دقیق و کارآمد کند.\n",
    "        یادگیری خودکار: الگوریتم گرادیان دیسنت به طور خودکار این پارامترها را از داده‌ها یاد می‌گیرد.\n",
    "        به زبان ساده، تتا مثل پیچ‌های تنظیم یک دستگاه است که با تنظیم آن‌ها، عملکرد دستگاه را بهینه می‌کنیم.\n",
    "\n",
    "\n",
    "        α: نرخ یادگیری (learning rate)، که اندازه قدم‌هایی که در جهت گرادیان برمی‌داریم را \n",
    "        تعیین می‌کند. که یک پارامتر مهم است که باید با دقت انتخاب شود. یک نرخ یادگیری خیلی بزرگ می‌تواند باعث شود که الگوریتم همگرا نشود، و یک نرخ یادگیری خیلی کوچک می‌تواند باعث شود که الگوریتم خیلی کند همگرا شود.\n",
    "        \n",
    "        ∇J(θ): گرادیان یا شیب تابع هزینه (loss function) نسبت به پارامترها. \n",
    "\"\"\""
   ]
  },
  {
   "metadata": {},
   "cell_type": "markdown",
   "source": [
    "\"\"\"\n",
    "# انواع گرادیانت دیسنت:\n",
    "#________________\n",
    "\n",
    "✅ a) Batch Gradient Descent\n",
    " گرادیانت کاهشی دسته ای یا گرادیانت دیسنت معمولی\n",
    "\n",
    "    کل دیتاست رو استفاده می‌کنه برای هر قدم\n",
    "    دقیق، ولی کند و حافظه‌بر برای دیتاست‌های بزرگ\n",
    "\n",
    "📦 مثال: مثل اینه که قبل از برداشتن هر قدم در دره، کل نقشه رو ببینی و با دقت حساب کنی کجا بری.\n",
    "\n",
    "    اما سایکیت لرن از بچ استفاده نمیکنه چون:\n",
    "     اگه نقشه کامل دره رو داری، لازم نیست با قدم قدم رفتن پایین بری. یه خط‌کش برمی‌داشتی، دقیق حساب میکنی که پایین‌ترین نقطه کجاست. تا زمان کمتری صرف بشه\n",
    "     بنابراین به جای بچ گرادیانت دیسنت از  معادله نرمال (Normal Equation) استفاده می‌کنه:\n",
    "     مثل اینه که به‌جای اینکه بری پله پله به پایین دره، یه فرمول داری که مستقیم می‌گه پایین‌ترین نقطه‌ی دره کجاست! اما باز هم برای داده های کوچک و متوسط قابل استفاده است\n",
    "     \n",
    "________________________\n",
    "\n",
    "✅ b) Stochastic Gradient Descent (SGD)\n",
    "گرادیان کاهشی تصادفی \n",
    "\n",
    "    هر بار فقط یک داده از دیتاست رو استفاده می‌کنه\n",
    "\n",
    "    خیلی سریع، ولی نویزی\n",
    "    \n",
    "    📦 مثل اینه که چشم بسته فقط با یه حسگر کوچیک قدم برمی‌داری، سریع میری جلو، ولی شاید مسیرت خیلی صاف نباشه.\n",
    "________________________\n",
    "\n",
    "✅ c) Mini-batch Gradient Descent\n",
    "\n",
    "    بین این دو تاست: هر بار یه \"بَچ\" کوچک از داده‌ها رو استفاده می‌کنه (مثلاً 32 تا، 64 تا ...)\n",
    "\n",
    "    تعادل خوبی بین دقت و سرعت داره\n",
    "    سرعت بالا (تقریبا مانند SGD)\n",
    "    البته کمی کندتر هست اما اگر مینی بچ سایز مناسبی را انتخاب کنید میتونه تقریبا برابر استوکستیک باشه چون از محاسبات برداری استفاده میکنه\n",
    "      \n",
    "    همگرایی پایدارتر (نسبت به SGD)\n",
    "    نوساناتش کمتر از استوکستیک است\n",
    "    \n",
    "    📦 مثل اینه که یه گروه راهنما همراهت هستن که منطقه کوچکی رو می‌گردن و بهت می‌گن کجا بری.\n",
    "\n",
    "    یعنی مثلا بج های صدتا صدتایی\n",
    " \n",
    "    در دیپ لرنینگ این روش رو زیاد میبینیم\n",
    "    در داخل کتابخانه سایکت لرن نداریمش\n",
    "    برای الگوریتم های مبتنی بر شبکه عصبی که در سایکیت لرن موجود نیستند، از کتابخانه های دیگری مانند tensorflow و pytorch استفاده میشود.\n",
    "\"\"\""
   ]
  },
  {
   "metadata": {},
   "cell_type": "markdown",
   "source": [
    "---\n",
    "# Batch Gradient Descent\n",
    "\"\"\"\n",
    "####وقتی تعداد داده ها خیلی زیاد باشه از گرادیانت دیسنت استفاده میکنیم\n",
    "که خانواده ای از الگوریتم بهینه سازی هستش که کارشون ایجاد راه حل های اپتیمال است\n",
    "\n",
    "مشکل در اینجا اهسته بودنش است بنابراین به سراغ استوکستیک گرادیانت دیسنت میرویم\n",
    "\"\"\"\n",
    "\n",
    "\n",
    "#  سایکیت لرن به‌جای Batch Gradient Descent چی کار می‌کنه؟\n",
    "\"\"\"\n",
    " گزینه‌های Scikit-learn برای یادگیری مدل‌های خطی:\n",
    "1. Normal Equation (برای LinearRegression)\n",
    "    فقط برای داده‌های کوچک و مدل‌های خطی ساده\n",
    "    دقیق و تحلیلی\n",
    "\n",
    "2. حل‌های عددی مثل sag یا lbfgs:\n",
    "\n",
    "(برای LogisticRegression, SGDClassifier, Ridge, Lasso)\n",
    "\"\"\""
   ]
  },
  {
   "metadata": {},
   "cell_type": "markdown",
   "source": [
    "\"\"\"\n",
    "آیا این مفاهیم Gradient Descent و... در Classification مطرح نمی‌شن؟»\n",
    "✅ جواب: اتفاقاً دقیقاً همین‌جاها خیلی زیاد مطرح می‌شن!\n",
    "\n",
    "🔹 الگوریتم‌هایی مثل:\n",
    "\n",
    "    Logistic Regression\n",
    "\n",
    "    Neural Networks\n",
    "\n",
    "    Support Vector Machines (در حالت‌های خاص)\n",
    "\n",
    "    و حتی بعضی مدل‌های غیرخطی دیگه\n",
    "\n",
    "همه‌اشون برای یادگیری، باید یه تابع هزینه (loss function) رو کمینه کنن.\n",
    "برای کمینه کردن، باید گرادیانت بگیری → یعنی Gradient Descent دقیقاً وسط ماجراست.\n",
    "\n",
    "📌 پس حتی اگه مدلت Classification باشه، الگوریتم بهینه‌سازی (Gradient Descent یا مشتقاتش) همچنان استفاده می‌شه.\n",
    "\n",
    "#----------\n",
    "\n",
    "    توی Classification مهم‌ترین بحث، انتخاب تابع هزینه (Loss Function) درسته: مثلاً\n",
    "    \n",
    "        Binary Cross-Entropy (برای دودویی)\n",
    "        Categorical Cross-Entropy (برای چندکلاسه)\n",
    "\n",
    "    ولی کمینه کردن همون تابع هزینه با Gradient Descent انجام می‌شه.\n",
    "\n",
    " تشبیه: تو Classification داری یه نقشه مسیریابی انتخاب می‌کنی (loss function)، اما ماشینت که حرکت می‌کنه با موتور Gradient Descent حرکت می‌کنه.\n",
    "\n",
    "\"\"\""
   ]
  },
  {
   "cell_type": "code",
   "metadata": {
    "id": "kl9or6Rt9tc-",
    "ExecuteTime": {
     "end_time": "2025-04-12T19:24:09.340569Z",
     "start_time": "2025-04-12T19:24:07.477717Z"
    }
   },
   "source": [
    "import numpy as np\n",
    "import matplotlib.pyplot as plt"
   ],
   "outputs": [],
   "execution_count": 2
  },
  {
   "cell_type": "code",
   "source": [
    "m = 2000\n",
    "X = np.random.rand(m, 1)\n",
    "y = 5 + 2*X + np.random.randn(m, 1)"
   ],
   "metadata": {
    "id": "923YQ3kk5K22",
    "ExecuteTime": {
     "end_time": "2025-04-12T19:24:09.618352Z",
     "start_time": "2025-04-12T19:24:09.342109Z"
    }
   },
   "outputs": [],
   "execution_count": 3
  },
  {
   "cell_type": "code",
   "source": [
    "plt.plot(X, y, \"r.\")\n",
    "# عبارت \"r.\"یعنی نقاط قرمز"
   ],
   "metadata": {
    "colab": {
     "base_uri": "https://localhost:8080/",
     "height": 282
    },
    "id": "QbAnF_ZQKyPm",
    "outputId": "cb34c4bc-25d4-4adb-a831-874d0e56094e",
    "ExecuteTime": {
     "end_time": "2025-04-12T19:24:09.898949Z",
     "start_time": "2025-04-12T19:24:09.619374Z"
    }
   },
   "outputs": [
    {
     "data": {
      "text/plain": [
       "[<matplotlib.lines.Line2D at 0x268058caed0>]"
      ]
     },
     "execution_count": 4,
     "metadata": {},
     "output_type": "execute_result"
    },
    {
     "data": {
      "text/plain": [
       "<Figure size 640x480 with 1 Axes>"
      ],
      "image/png": "[encoded data removed]"
     },
     "metadata": {},
     "output_type": "display_data"
    }
   ],
   "execution_count": 4
  },
  {
   "cell_type": "markdown",
   "source": [
    "---\n",
    "# Normal Equation"
   ],
   "metadata": {
    "id": "zoFxk-JT78yS"
   }
  },
  {
   "cell_type": "code",
   "source": [
    "from sklearn.preprocessing import add_dummy_feature"
   ],
   "metadata": {
    "id": "E5-alQFlK3WT",
    "ExecuteTime": {
     "end_time": "2025-04-12T19:24:17.007660Z",
     "start_time": "2025-04-12T19:24:09.899453Z"
    }
   },
   "outputs": [],
   "execution_count": 5
  },
  {
   "cell_type": "code",
   "source": [
    "# ساخت نرمال ایکوئشن یا ساخت تتا هت،که از تابع هزینه  MSE ثابت به دست امد \n",
    "Xnew = add_dummy_feature(X)\n",
    "theta_hat = np.linalg.inv(Xnew.T @ Xnew) @ Xnew.T @ \n",
    "\n",
    "#  np.linalg.inv برای اینورس کردن\n",
    "# عبارت دات .T یعنی ترنسپوز\n",
    "# ضرب ماتریسی را به صورت @ میگذارند"
   ],
   "metadata": {
    "id": "AhSu_geZL0Hf",
    "ExecuteTime": {
     "end_time": "2025-04-12T19:24:17.020883Z",
     "start_time": "2025-04-12T19:24:17.007660Z"
    }
   },
   "outputs": [
    {
     "ename": "SyntaxError",
     "evalue": "invalid syntax (2286133673.py, line 3)",
     "output_type": "error",
     "traceback": [
      "  \u001B[36mCell\u001B[39m\u001B[36m \u001B[39m\u001B[32mIn[6]\u001B[39m\u001B[32m, line 3\u001B[39m\n\u001B[31m    \u001B[39m\u001B[31mtheta_hat = np.linalg.inv(Xnew.T @ Xnew) @ Xnew.T @\u001B[39m\n                                                        ^\n\u001B[31mSyntaxError\u001B[39m\u001B[31m:\u001B[39m invalid syntax\n"
     ]
    }
   ],
   "execution_count": 6
  },
  {
   "cell_type": "code",
   "source": [
    "theta_hat"
   ],
   "metadata": {
    "colab": {
     "base_uri": "https://localhost:8080/"
    },
    "id": "gg-SU1CQL6su",
    "outputId": "30d85f88-aad4-4b46-cfde-a0f16f9df43e"
   },
   "outputs": [],
   "execution_count": null
  },
  {
   "cell_type": "code",
   "source": [
    "X_test = np.array([[1.5], [2.5],[3.5]])\n",
    "X_test = add_dummy_feature(X_test)\n",
    "X_test @ theta_hat"
   ],
   "metadata": {
    "colab": {
     "base_uri": "https://localhost:8080/"
    },
    "id": "tt_ZJbiSMmBw",
    "outputId": "513f114e-1eee-4848-9fc9-6f4f097dcb5b"
   },
   "outputs": [],
   "execution_count": null
  },
  {
   "cell_type": "code",
   "source": [
    "X_test = np.array([[0], [1]])\n",
    "X_test_new = add_dummy_feature(X_test)\n",
    "y_pred = X_test_new @ theta_hat"
   ],
   "metadata": {
    "id": "JTIebnVMN2Zk"
   },
   "outputs": [],
   "execution_count": null
  },
  {
   "cell_type": "code",
   "source": [
    "y_pred"
   ],
   "metadata": {
    "colab": {
     "base_uri": "https://localhost:8080/"
    },
    "id": "wZx5QJjPOXQ9",
    "outputId": "fb43dcfc-5723-4fda-a14c-a0b7687dacde"
   },
   "outputs": [],
   "execution_count": null
  },
  {
   "cell_type": "code",
   "source": [
    "plt.plot(X, y, \"r.\")\n",
    "plt.plot(X_test, y_pred, lw=2)"
   ],
   "metadata": {
    "colab": {
     "base_uri": "https://localhost:8080/",
     "height": 282
    },
    "id": "hwmB447UNFhi",
    "outputId": "3838749e-17fa-49ba-bcf5-6c78e863c584"
   },
   "outputs": [],
   "execution_count": null
  },
  {
   "metadata": {},
   "cell_type": "markdown",
   "source": [
    " # کار بالا را سایکیت لرن به راحتی انجام میده\n",
    " #### البته از روش سریع تری استفاده میکنه"
   ]
  },
  {
   "cell_type": "code",
   "source": [
    "from sklearn.linear_model import LinearRegression"
   ],
   "metadata": {
    "id": "j2JoLdi-OC-S",
    "ExecuteTime": {
     "end_time": "2025-04-12T19:24:17.029689Z",
     "start_time": "2025-04-12T19:24:17.029689Z"
    }
   },
   "outputs": [],
   "execution_count": null
  },
  {
   "cell_type": "code",
   "source": [
    "lr = LinearRegression()\n",
    "lr.fit(X, y)"
   ],
   "metadata": {
    "colab": {
     "base_uri": "https://localhost:8080/",
     "height": 74
    },
    "id": "cY3aUyiUOe1i",
    "outputId": "800715a6-ba70-4744-e5dd-c1bd77a5fd71"
   },
   "outputs": [],
   "execution_count": null
  },
  {
   "cell_type": "code",
   "source": [
    "lr.intercept_, lr.coef_\n",
    "# intercept همان عرض از مبدأ است"
   ],
   "metadata": {
    "colab": {
     "base_uri": "https://localhost:8080/"
    },
    "id": "uScAvz3SOnYj",
    "outputId": "c57c3694-5e03-4ede-924f-0296b9fa5585",
    "ExecuteTime": {
     "end_time": "2025-04-12T19:24:17.033246Z",
     "start_time": "2025-04-12T19:24:17.032231Z"
    }
   },
   "outputs": [],
   "execution_count": null
  },
  {
   "cell_type": "code",
   "source": [
    "lr.predict(X_test)"
   ],
   "metadata": {
    "colab": {
     "base_uri": "https://localhost:8080/"
    },
    "id": "K6BjeTz7Oqjd",
    "outputId": "0758b60b-9cca-4835-e93e-740bc6723735",
    "ExecuteTime": {
     "end_time": "2025-04-12T19:24:17.034249Z",
     "start_time": "2025-04-12T19:24:17.033246Z"
    }
   },
   "outputs": [],
   "execution_count": null
  },
  {
   "metadata": {},
   "cell_type": "markdown",
   "source": ""
  },
  {
   "cell_type": "code",
   "source": [
    "m = Xnew.shape[0]\n",
    "eta = 0.1"
   ],
   "metadata": {
    "id": "pzX7shF_9Tjh"
   },
   "outputs": [],
   "execution_count": null
  },
  {
   "cell_type": "code",
   "source": [
    "np.random.seed(40)\n",
    "theta = np.random.randn(2, 1)\n",
    "\n",
    "number_of_epochs = 1000\n",
    "# تعداد ایپاک یعنی تعداد ایترشن و یا تکرار انجام فرمول\n",
    "\n",
    "for epoch in range(number_of_epochs):\n",
    "  grad_ = 2/m * Xnew.T @ (Xnew @ theta - y)\n",
    "  theta = theta - eta*grad_"
   ],
   "metadata": {
    "id": "J9WksvJE9dVC",
    "ExecuteTime": {
     "end_time": "2025-04-12T19:24:17.036289Z",
     "start_time": "2025-04-12T19:24:17.035271Z"
    }
   },
   "outputs": [],
   "execution_count": null
  },
  {
   "cell_type": "code",
   "source": [
    "theta"
   ],
   "metadata": {
    "colab": {
     "base_uri": "https://localhost:8080/"
    },
    "id": "Kg6hYYwm95of",
    "outputId": "4a1bfa04-9f3f-4d89-d53f-0b90550ed637",
    "ExecuteTime": {
     "end_time": "2025-04-12T19:24:17.036289Z",
     "start_time": "2025-04-12T19:24:17.036289Z"
    }
   },
   "outputs": [],
   "execution_count": null
  },
  {
   "cell_type": "markdown",
   "source": [
    "---\n",
    "# Stochastic Gradient Descent\n",
    "# دستی\n",
    "\"\"\"\n",
    "- معمولا این روش سریع تر از بچ گرادیانت دیسنت است\n",
    "- بی نظم بودن تابع هزینه را حل میکنه\n",
    "\n",
    "\"\"\""
   ],
   "metadata": {
    "id": "TQlIr5QvJqP8"
   }
  },
  {
   "cell_type": "code",
   "source": [
    "def learning_rate_schedule(t):\n",
    "  t0, t1 = 2, 40\n",
    "  return t0 / (t + t1)"
   ],
   "metadata": {
    "id": "Ne4i10wlLf2Y"
   },
   "outputs": [],
   "execution_count": null
  },
  {
   "cell_type": "code",
   "source": [
    "np.random.seed(40)\n",
    "theta = np.random.randn(2, 1)\n",
    "\n",
    "number_of_epochs = 100\n",
    "\n",
    "for epoch in range(number_of_epochs):\n",
    "  for instance in range(m):\n",
    "    random_index = np.random.randint(m)\n",
    "    x_index = Xnew[random_index : random_index + 1]\n",
    "    y_index = y[random_index : random_index + 1]\n",
    "    grad_ = 2 * x_index.T @ (x_index @ theta - y_index)\n",
    "    eta = learning_rate_schedule(epoch * m + instance)\n",
    "    theta = theta - eta * grad_\n",
    "      \n",
    "# learning_rate_schedule برنام های نرخ یادگیری است که  کمک کنند است تا.."
   ],
   "metadata": {
    "id": "H1nHuvUf-zmD"
   },
   "outputs": [],
   "execution_count": null
  },
  {
   "cell_type": "code",
   "source": [
    "theta"
   ],
   "metadata": {
    "colab": {
     "base_uri": "https://localhost:8080/"
    },
    "id": "7cF_cyyBNrpB",
    "outputId": "d8c74774-641c-4557-a51e-833c9268862e"
   },
   "outputs": [],
   "execution_count": null
  },
  {
   "metadata": {},
   "cell_type": "markdown",
   "source": [
    "# Stochastic Gradient Descent\n",
    "# توسط سایکیت لرن"
   ]
  },
  {
   "cell_type": "code",
   "source": [
    "from sklearn.linear_model import SGDRegressor"
   ],
   "metadata": {
    "id": "IRy47FGGNvKf"
   },
   "outputs": [],
   "execution_count": null
  },
  {
   "cell_type": "code",
   "source": [
    "sgd = SGDRegressor(max_iter=1000, tol=0.0001, early_stopping=True,\n",
    "             n_iter_no_change=10, random_state=40, penalty=None)\n",
    "\n",
    "# زمانی که early_stopping=True باشه در اینصورت میاد تعدادی از ایترشن ها را در نظر میگره و (این تعداد را با مقداری که در n_iter_no_change دادیم در نظر میگیره) که اگر در این تعداد ایترشن پشت سر هم بهبودی نبینه . و معیار تغییر هم تولارنس tol است. در اینصورت پروسه را متوقف کن\n",
    "# عبارت random_state هم که برای قابل تکرار بودنش هست\n",
    "# عبارت penalty=None\n",
    "# توجه شود که پارشال فیت یه دونه از ایپاک ها رو اجرا میکنه برای زمانی که بخواهیم چیز خاصی را چک کنید و کنترل بیشتری داشته باشیم   "
   ],
   "metadata": {
    "id": "u_9Xu1JNYamS"
   },
   "outputs": [],
   "execution_count": null
  },
  {
   "cell_type": "code",
   "source": [
    "sgd.fit(X, y.flatten())\n",
    "# توجه که ایکس باید به صورت ستون باشه که هست میتوایند  با کد X.shape ببینیدش\n",
    "# ولی وای باید یک بردار باشه برای همین فلتش کردیم"
   ],
   "metadata": {
    "colab": {
     "base_uri": "https://localhost:8080/",
     "height": 91
    },
    "id": "f8iQAtYxYq_L",
    "outputId": "83c80386-b108-405c-b182-215c372941a6"
   },
   "outputs": [],
   "execution_count": null
  },
  {
   "cell_type": "code",
   "source": [
    "sgd.coef_\n",
    "# ضریب را با کد coef_ میتونیم ببینیمش"
   ],
   "metadata": {
    "colab": {
     "base_uri": "https://localhost:8080/"
    },
    "id": "O9412aBRY_JE",
    "outputId": "cb8bfbc7-81d5-44eb-fa35-b9b55877972e"
   },
   "outputs": [],
   "execution_count": null
  },
  {
   "cell_type": "code",
   "source": [
    "sgd.intercept_\n",
    "# همان عرض از مبدأ را میده"
   ],
   "metadata": {
    "colab": {
     "base_uri": "https://localhost:8080/"
    },
    "id": "o6vu1fjbZCRJ",
    "outputId": "95b07ac9-19e7-440b-eb47-772bda9ae32a"
   },
   "outputs": [],
   "execution_count": null
  },
  {
   "cell_type": "markdown",
   "source": [
    "---\n",
    "# Polynomial Regression\n",
    "\"\"\"\n",
    "رگرسیون چند جمله‌ای (Polynomial Regression) یک تکنیک قدرتمند در یادگیری ماشین است که برای مدل‌سازی روابط غیرخطی بین متغیرها استفاده می‌شود. این روش، رگرسیون خطی را با افزودن جملات چند جمله‌ای به مدل گسترش می‌دهد و به آن امکان می‌دهد الگوهای پیچیده‌تر در داده‌ها را ثبت کند.\n",
    "\n",
    "مفهوم رگرسیون چند جمله‌ای:\n",
    "\n",
    "در رگرسیون خطی، فرض می‌کنیم که رابطه بین متغیرهای مستقل و وابسته خطی است. با این حال، در بسیاری از موارد، این فرض صادق نیست و رابطه بین متغیرها می‌تواند غیرخطی باشد. رگرسیون چند جمله‌ای با افزودن جملات چند جمله‌ای (مانند x^2، x^3 و غیره) به مدل، این امکان را فراهم می‌کند که روابط غیرخطی را مدل‌سازی کنیم.\n",
    "\n",
    "مزایای رگرسیون چند جمله‌ای:\n",
    "\n",
    "    انعطاف‌پذیری: رگرسیون چند جمله‌ای می‌تواند طیف گسترده‌ای از الگوهای داده را مدل‌سازی کند.\n",
    "    دقت: در مواردی که رابطه بین متغیرها غیرخطی است، رگرسیون چند جمله‌ای می‌تواند دقت پیش‌بینی بهتری نسبت به رگرسیون خطی ارائه دهد.\n",
    "    تفسیرپذیری: ضرایب مدل رگرسیون چند جمله‌ای قابل تفسیر هستند و می‌توانند اطلاعات مفیدی در مورد رابطه بین متغیرها ارائه دهند.\n",
    "\n",
    "معایب رگرسیون چند جمله‌ای:\n",
    "\n",
    "    بیش‌برازش (Overfitting): افزایش درجه چند جمله‌ای می‌تواند منجر به بیش‌برازش شود، به این معنی که مدل به داده‌های آموزشی بسیار نزدیک می‌شود و عملکرد آن بر روی داده‌های جدید کاهش می‌یابد.\n",
    "    پیچیدگی محاسباتی: با افزایش درجه چند جمله‌ای، پیچیدگی محاسباتی مدل افزایش می‌یابد.\n",
    "    حساسیت به داده‌های پرت: رگرسیون چند جمله‌ای می‌تواند به داده‌های پرت حساس باشد.\n",
    "\n",
    "کاربردهای رگرسیون چند جمله‌ای:\n",
    "\n",
    "    پیش‌بینی روند: رگرسیون چند جمله‌ای می‌تواند برای پیش‌بینی روندهای غیرخطی در داده‌ها، مانند رشد جمعیت یا تغییرات قیمت، استفاده شود.\n",
    "    برازش منحنی: رگرسیون چند جمله‌ای می‌تواند برای برازش منحنی‌های پیچیده به داده‌ها استفاده شود.\n",
    "    مهندسی: رگرسیون چند جمله‌ای در مهندسی برای مدل‌سازی روابط غیرخطی بین متغیرها در فرآیندهای مختلف استفاده می‌شود.\n",
    "    اقتصاد: رگرسیون چند جمله‌ای در اقتصاد برای مدل‌سازی روابط غیرخطی بین متغیرهای اقتصادی استفاده می‌شود.\n",
    "    علوم اجتماعی: رگرسیون چند جمله‌ای در علوم اجتماعی برای مدل‌سازی روابط غیرخطی بین متغیرهای اجتماعی استفاده می‌شود.\n",
    "\n",
    "نکات مهم:\n",
    "\n",
    "    انتخاب درجه مناسب برای چند جمله‌ای بسیار مهم است. درجه بسیار پایین می‌تواند منجر به کم‌برازش شود، در حالی که درجه بسیار بالا می‌تواند منجر به بیش‌برازش شود.\n",
    "    برای جلوگیری از بیش‌برازش، می‌توان از تکنیک‌های منظم‌سازی (regularization) استفاده کرد.\n",
    "    رگرسیون چند جمله‌ای یک ابزار قدرتمند است، اما باید با دقت و با در نظر گرفتن محدودیت‌های آن استفاده شود. \n",
    "\"\"\""
   ],
   "metadata": {
    "id": "dg3ccPTph8z2"
   }
  },
  {
   "metadata": {},
   "cell_type": "markdown",
   "source": [
    "\"\"\"\n",
    "PolynomialFeatures جزئی از\n",
    "   Polynomial Regression است \n",
    "\"\"\""
   ]
  },
  {
   "cell_type": "code",
   "source": [
    "np.random.seed(40)\n",
    "m = 1000\n",
    "X = 5 * np.random.rand(m, 1) - 4\n",
    "y = 0.7 * X**2 + X + 3 + np.random.randn(m, 1)"
   ],
   "metadata": {
    "id": "_GJa-XYIZErD"
   },
   "outputs": [],
   "execution_count": null
  },
  {
   "cell_type": "code",
   "source": [
    "plt.plot(X, y, \"r.\")"
   ],
   "metadata": {
    "colab": {
     "base_uri": "https://localhost:8080/",
     "height": 282
    },
    "id": "fseb26x3iUEZ",
    "outputId": "aefdaf38-6b6e-4a60-88c3-cfd93bfaba64",
    "ExecuteTime": {
     "end_time": "2025-04-12T19:24:17.045987Z",
     "start_time": "2025-04-12T19:24:17.044969Z"
    }
   },
   "outputs": [],
   "execution_count": null
  },
  {
   "cell_type": "code",
   "source": [
    "from sklearn.preprocessing import PolynomialFeatures"
   ],
   "metadata": {
    "id": "L36D3LmDiWXA"
   },
   "outputs": [],
   "execution_count": null
  },
  {
   "cell_type": "code",
   "source": [
    "polynomial_X = PolynomialFeatures(degree=2, include_bias=False)\n",
    "#آیا ویژگی ثابت ۱ (bias) رو به عنوان اولین ستون اضافه کنه یا نه؟\n",
    "    # True → ستون اول همیشه 1 هست (برای θ0θ0​)\n",
    "    # False → ستون 1 حذف می‌شه. اغلب در Scikit-learn باید False بذاری چون مدل‌هایش خودشون bias دارن.\n",
    "\n",
    "#interaction_only=True/False\n",
    "# اگر True باشه، فقط ترکیب ضرب دوتایی بین ویژگی‌ها رو می‌ده — بدون توان‌های بالا:\n",
    "\n",
    "#حالت interaction_only=False\n",
    "# خروجی شامل همه‌ی ترکیبات ممکن چندجمله‌ای از ویژگی‌ها می‌شود:\n",
    "# x1, x2, x1^2, x2^2, x1*x2, x1^3, x1^2*x2, x1*x2^2, x2^3, ...\n",
    "\n",
    "# حالت interaction_only=True:\n",
    "# فقط ضرب ویژگی‌های متفاوت (بدون توان‌های تکراری):\n",
    "# x1, x2, x1*x2, x1*x2*x3, ...\n",
    "\n",
    "\n",
    "# 📌هدف اصلی PolynomialFeatures چیه؟\n",
    "#     تبدیل کردن یک مدل خطی ساده به مدلی که بتونه روابط غیرخطی رو مدل کنه\n",
    "        # - بدون اینکه خود مدل غیرخطی بشه\n",
    "        # - فقط با اضافه کردن ویژگی‌های مشتق‌شده\n",
    "        \n",
    "# 📌 در واقع PolynomialFeatures فقط یک مرحله پیش‌پردازش (feature engineering) است. خودش به‌تنهایی هیچ مدل‌سازی انجام نمی‌ده.\n",
    "# یعنی فقط X (ورودی) رو تبدیل می‌کنه — ولی هیچ کاری با y (هدف) و یادگیری پارامترها نمی‌کنه.\n",
    "\n",
    "# پس📌  \"Polynomial Regression\" شامل چه اجزاییه؟\n",
    "# Polynomial Regression = PolynomialFeatures + LinearRegression\n",
    "    #1. PolynomialFeatures:\n",
    "    # ورودی‌ها رو به ویژگی‌های چندجمله‌ای تبدیل می‌کنه\n",
    "    \n",
    "    #2. LinearRegression:\n",
    "    # مدل\tروی اون ویژگی‌های جدید، یک مدل خطی می‌سازه و پارامترها رو یاد می‌گیره\n",
    "    \n",
    "     #3. Pipeline:\n",
    "    # این دوتا رو به هم می‌چسبونه برای راحتی کار. که اختیاری است\n",
    "\n",
    "\n",
    "X_polynomial = polynomial_X.fit_transform(X)"
   ],
   "metadata": {
    "id": "GMFHPje3jhO3",
    "ExecuteTime": {
     "end_time": "2025-04-12T19:24:17.048011Z",
     "start_time": "2025-04-12T19:24:17.048011Z"
    }
   },
   "outputs": [],
   "execution_count": null
  },
  {
   "metadata": {},
   "cell_type": "markdown",
   "source": [
    "\n",
    "\"\"\"\n",
    " هدف اصلی PolynomialFeatures چیه؟\n",
    "    تبدیل کردن یک مدل خطی ساده به مدلی که بتونه روابط غیرخطی رو مدل کنه\n",
    " \n",
    "_____________________\n",
    "   \n",
    "آیا «تبدیل ورودی‌ها به غیرخطی ولی استفاده از مدل خطی» مزیت محسوب میشه؟\n",
    "        ✅ بله، مزیت مهمیه. چون:\n",
    "        \n",
    "        🔹 مزیت ۱: سادگی مدل\n",
    "        \n",
    "            مدل همچنان خطی از نظر پارامترها می‌مونه.\n",
    "        \n",
    "            یعنی حلش سریع و پایدار می‌مونه (convex optimization)\n",
    "        \n",
    "        🔹 مزیت ۲: قابلیت مدل‌سازی روابط غیرخطی\n",
    "        \n",
    "            حتی اگر yy رابطه‌ای غیرخطی با xx داشته باشه، ما اون رابطه رو از طریق چندجمله‌ای‌ها مدل می‌کنیم.\n",
    "        \n",
    "        🔹 مزیت ۳: تحلیل‌پذیر بودن\n",
    "        \n",
    "            چون مدل خطی باقی می‌مونه، فهمیدن تأثیر هر ویژگی (interpretability) ساده‌تره نسبت به مدل‌های غیرخطی پیچیده مثل Neural Networks.\n",
    "\n",
    "_____________________\n",
    "\n",
    "📦 تشبیه شهودی: فرض کن فقط بلدیم با خط‌کش (مدل خطی) کار کنیم، اما داده‌هامون منحنی‌ن. با خم‌کردن محور xها (ویژگی‌سازی غیرخطی)، کاری می‌کنیم که تو فضای جدید، همون منحنی‌ها مثل خط به‌نظر برسن → حالا خط‌کش‌مون (مدل خطی) جواب می‌ده!\n",
    "\n",
    "_____________________  \n",
    "\n",
    "آیا باعث Overfitting میشه؟\n",
    "🔥 بله، اگر حواست نباشه شدیداً مستعد overfittingـه!\n",
    "چرا؟\n",
    "\n",
    "    وقتی degree بزرگ بشه، تعداد ویژگی‌ها خیلی زیاد می‌شن.\n",
    "\n",
    "    برای مثال با 5 ویژگی اولیه و degree=3، تعداد ویژگی‌ها می‌تونه به 35 برسه!\n",
    "    \n",
    "_____________________\n",
    "\n",
    "آیا برای Classification هم کاربرد داره؟\n",
    "✅ بله! اتفاقاً خیلی هم مهمه در بعضی مسائل:\n",
    "\n",
    "    اگر داده‌ها در فضای اصلی خطی جدانشدنی باشن (non-linearly separable)، با چندجمله‌ای کردن ویژگی‌ها می‌تونی فضای داده رو تغییر بدی تا بشه خطی جداسازی کرد.\n",
    "\n",
    " مثلاً مثل کاری که SVM با kernel polynomial انجام می‌ده، ولی با ویژگی‌های واقعی.\n",
    "    \n",
    "\"\"\""
   ]
  },
  {
   "cell_type": "code",
   "source": [
    "X_polynomial.shape"
   ],
   "metadata": {
    "colab": {
     "base_uri": "https://localhost:8080/"
    },
    "id": "8r1LC7G2jwiv",
    "outputId": "61d2d835-e057-4b5c-8def-9d81a75042ec"
   },
   "outputs": [],
   "execution_count": null
  },
  {
   "cell_type": "code",
   "source": [
    "X_polynomial[0]"
   ],
   "metadata": {
    "colab": {
     "base_uri": "https://localhost:8080/"
    },
    "id": "y7ugrFVzjyN8",
    "outputId": "e2cf330b-0482-46fb-bf4a-38d1b329b6a0"
   },
   "outputs": [],
   "execution_count": null
  },
  {
   "cell_type": "code",
   "source": [
    "lin_reg = LinearRegression()\n",
    "lin_reg.fit(X_polynomial, y)"
   ],
   "metadata": {
    "colab": {
     "base_uri": "https://localhost:8080/",
     "height": 74
    },
    "id": "hkllvtQ_j4c1",
    "outputId": "2877e6a6-8a64-4ee9-b1e7-a79e3052bb7d",
    "ExecuteTime": {
     "end_time": "2025-04-12T19:24:17.051029Z",
     "start_time": "2025-04-12T19:24:17.051029Z"
    }
   },
   "outputs": [],
   "execution_count": null
  },
  {
   "cell_type": "code",
   "source": [
    "lin_reg.intercept_, lin_reg.coef_"
   ],
   "metadata": {
    "colab": {
     "base_uri": "https://localhost:8080/"
    },
    "id": "KkpzwtmbkFQv",
    "outputId": "4aeac74d-b609-462f-9cb6-df0bd9302e3e"
   },
   "outputs": [],
   "execution_count": null
  },
  {
   "cell_type": "code",
   "source": [
    "X_new = np.linspace(-4, 1, 1000).reshape(1000, 1)\n",
    "X_new_polynomial = polynomial_X.transform(X_new)\n",
    "y_new = lin_reg.predict(X_new_polynomial)"
   ],
   "metadata": {
    "id": "aARakPVKkq5Z",
    "ExecuteTime": {
     "end_time": "2025-04-12T19:24:17.052547Z",
     "start_time": "2025-04-12T19:24:17.052547Z"
    }
   },
   "outputs": [],
   "execution_count": null
  },
  {
   "cell_type": "code",
   "source": [
    "plt.plot(X, y, \"r.\")\n",
    "plt.plot(X_new, y_new, \"b-\", lw=2.5)"
   ],
   "metadata": {
    "colab": {
     "base_uri": "https://localhost:8080/",
     "height": 282
    },
    "id": "3lkPS0-JkJh8",
    "outputId": "e8fe600a-05f5-4ff5-8e0c-222928c925b6",
    "ExecuteTime": {
     "end_time": "2025-04-12T19:24:17.053558Z",
     "start_time": "2025-04-12T19:24:17.053558Z"
    }
   },
   "outputs": [],
   "execution_count": null
  },
  {
   "metadata": {},
   "cell_type": "markdown",
   "source": "# ------------"
  },
  {
   "cell_type": "code",
   "source": [
    "from sklearn.model_selection import learning_curve"
   ],
   "metadata": {
    "id": "mgJexM3QklB1",
    "ExecuteTime": {
     "end_time": "2025-04-12T19:24:17.054598Z",
     "start_time": "2025-04-12T19:24:17.054598Z"
    }
   },
   "outputs": [],
   "execution_count": null
  },
  {
   "cell_type": "code",
   "source": [
    "train_size, train_score, validation_score = learning_curve(\n",
    "    LinearRegression(), X, y,\n",
    "    train_sizes=np.linspace(0.01, 1.0, 100), \n",
    "    cv = 5,\n",
    "    scoring=\"neg_root_mean_squared_error\"\n",
    ")"
   ],
   "metadata": {
    "id": "zXNKOtj1qkHZ"
   },
   "outputs": [],
   "execution_count": null
  },
  {
   "cell_type": "code",
   "source": [
    "train_error = -train_score.mean(axis=1)\n",
    "validation_error = -validation_score.mean(axis=1)"
   ],
   "metadata": {
    "id": "F7RQbyH6rcDJ",
    "ExecuteTime": {
     "end_time": "2025-04-12T19:24:17.056618Z",
     "start_time": "2025-04-12T19:24:17.056618Z"
    }
   },
   "outputs": [],
   "execution_count": null
  },
  {
   "cell_type": "code",
   "source": [
    "plt.plot(train_size, train_error, \"b-\", lw=2.5, label=\"train\")\n",
    "plt.plot(train_size, validation_error, \"r-\", lw=2.5, label=\"validation\")\n",
    "plt.legend()"
   ],
   "metadata": {
    "colab": {
     "base_uri": "https://localhost:8080/",
     "height": 282
    },
    "id": "TslO0gBTrk_G",
    "outputId": "012f437f-7917-4baa-d1a4-8bcdb31171c5",
    "ExecuteTime": {
     "end_time": "2025-04-12T19:24:17.057626Z",
     "start_time": "2025-04-12T19:24:17.056618Z"
    }
   },
   "outputs": [],
   "execution_count": null
  },
  {
   "metadata": {},
   "cell_type": "markdown",
   "source": "---"
  },
  {
   "cell_type": "code",
   "source": [
    "from sklearn.pipeline import make_pipeline\n",
    "\n",
    "polynomial_reg = make_pipeline(\n",
    "    PolynomialFeatures(degree=2, include_bias=False),\n",
    "    LinearRegression()\n",
    ")\n",
    "\n",
    "train_size, train_score, validation_score = learning_curve(\n",
    "    polynomial_reg, X, y,\n",
    "    train_sizes=np.linspace(0.01, 1.0, 100), \n",
    "    cv = 5,\n",
    "    scoring=\"neg_root_mean_squared_error\"\n",
    ")"
   ],
   "metadata": {
    "id": "6JNxXuJNsK8T",
    "ExecuteTime": {
     "end_time": "2025-04-12T19:24:17.058636Z",
     "start_time": "2025-04-12T19:24:17.057626Z"
    }
   },
   "outputs": [],
   "execution_count": null
  },
  {
   "cell_type": "code",
   "source": [
    "train_error = -train_score.mean(axis=1)\n",
    "validation_error = -validation_score.mean(axis=1)"
   ],
   "metadata": {
    "id": "f5FZzgCitx6I"
   },
   "outputs": [],
   "execution_count": null
  },
  {
   "cell_type": "code",
   "source": [
    "plt.plot(train_size, train_error, \"b-\", lw=2.5, label=\"train\")\n",
    "plt.plot(train_size, validation_error, \"r-\", lw=2.5, label=\"validation\")\n",
    "plt.axis([0, 800, 0, 2])\n",
    "plt.legend()"
   ],
   "metadata": {
    "colab": {
     "base_uri": "https://localhost:8080/",
     "height": 286
    },
    "id": "wqIDoTb0t1hh",
    "outputId": "7e270f95-0d69-493f-d8e5-3d5f674f8a32"
   },
   "outputs": [],
   "execution_count": null
  },
  {
   "metadata": {},
   "cell_type": "markdown",
   "source": [
    "---\n",
    "\"\"\"\n",
    "در یادگیری ماشین، هدف ساخت مدلی است که بتواند به خوبی داده‌های جدید را پیش‌بینی کند. خطای پیش‌بینی مدل از سه جزء تشکیل شده است: بایاس (Bias)، واریانس (Variance) و خطای کاهش‌ناپذیر (Irreducible Error).\n",
    "\n",
    "    بایاس (Bias):\n",
    "        بایاس به خطای ناشی از ساده‌سازی بیش از حد مدل اشاره دارد.\n",
    "        مدل با بایاس بالا، فرضیات ساده‌ای را در مورد داده‌ها در نظر می‌گیرد و نمی‌تواند الگوهای پیچیده را به خوبی یاد بگیرد.\n",
    "        مدل‌های با بایاس بالا معمولاً دچار کم‌برازش (Underfitting) می‌شوند.\n",
    "        به زبان ساده تر یعنی مدل ما به اندازه کافی خوب نیست که بتواند الگو هارا یاد بگیرد.\n",
    "    واریانس (Variance):\n",
    "        واریانس به خطای ناشی از حساسیت بیش از حد مدل به نوسانات داده‌های آموزشی اشاره دارد.\n",
    "        مدل با واریانس بالا، الگوهای تصادفی و نویز موجود در داده‌های آموزشی را نیز یاد می‌گیرد و نمی‌تواند به خوبی به داده‌های جدید تعمیم پیدا کند.\n",
    "        مدل‌های با واریانس بالا معمولاً دچار بیش‌برازش (Overfitting) می‌شوند.\n",
    "        به زبان ساده تر یعنی مدل ما داده های اموزش را خیلی خوب یادگرفته و در داده های جدید عملکرد خوبی ندارد.\n",
    "    خطای کاهش‌ناپذیر (Irreducible Error):\n",
    "        این خطا ناشی از نویز و عدم قطعیت ذاتی در داده‌ها است و نمی‌توان آن را با بهبود مدل کاهش داد.\n",
    "        این خطا یک حد پایین برای خطای پیش‌بینی مدل تعیین می‌کند.\n",
    "        یعنی حتی بهترین مدل هم این خطا را دارد.\n",
    "\n",
    "موازنه بایاس-واریانس (Bias-Variance Tradeoff):\n",
    "\n",
    "    هدف در یادگیری ماشین، یافتن موازنه مناسب بین بایاس و واریانس است.\n",
    "    کاهش بایاس معمولاً منجر به افزایش واریانس و بالعکس می‌شود.\n",
    "    انتخاب مدل مناسب، به پیچیدگی داده‌ها و هدف مسئله بستگی دارد.\n",
    "    \n",
    "\"\"\""
   ]
  },
  {
   "metadata": {},
   "cell_type": "markdown",
   "source": [
    "---\n",
    "\"\"\"\n",
    "\n",
    "نرم در ریاضی چیست؟\n",
    "\n",
    "    نرم (Norm) مفهومی در ریاضیات است که به عنوان تابعی برای سنجش «اندازه» یا «طول» بردارها در فضاهای برداری تعریف می‌شود. به بیان ساده، نرم یک بردار، مقدار مثبتی است که نشان‌دهنده فاصله آن بردار از مبدأ مختصات است.\n",
    "    \n",
    "\n",
    "_______________\n",
    "\n",
    "L در نرم به انواع مختلف نرم‌ها اشاره دارد، مانند:\n",
    "\n",
    "    نرم L1: مجموع قدر مطلق مقادیر بردار.\n",
    "    نرم L2: ریشه دوم مجموع مربعات مقادیر بردار (نرم اقلیدسی).\n",
    "\n",
    "این نمادها برای تمایز بین انواع مختلف نرم‌ها استفاده می‌شوند، زیرا هر کدام ویژگی‌ها و کاربردهای متفاوتی دارند. \n",
    "\n",
    "\"\"\""
   ]
  },
  {
   "cell_type": "markdown",
   "source": [
    "\"\"\"\n",
    "---\n",
    "# Ridge\n",
    "Ridge در سایکیت‌لِرن (Scikit-learn):\n",
    "\n",
    "    رگرسیون Ridge یک روش بهینه‌سازی است که برای بهبود عملکرد مدل‌های رگرسیون خطی در شرایط خاص استفاده می‌شود. \n",
    "    Ridge یک مدل رگرسیون خطی است که از روش تنظیم L2 برای جلوگیری از بیش‌برازش (overfitting) استفاده می‌کند.\n",
    "\n",
    "_____________________    \n",
    "\n",
    "ویژگی‌های کلیدی Ridge:\n",
    "\n",
    "        تنظیم L2: Ridge با افزودن یک عبارت جریمه به تابع زیان رگرسیون خطی، ضرایب مدل را کوچک می‌کند. این کار از بزرگ شدن بیش از حد ضرایب و در نتیجه، از بیش‌برازش جلوگیری می‌کند.\n",
    "        \n",
    "_____________________\n",
    "\n",
    "پارامتر آلفا (alpha):\n",
    "\n",
    "     پارامتر آلفا، قدرت تنظیم L2 را کنترل می‌کند. هر چه آلفا بزرگ‌تر باشد، تنظیم قوی‌تر است و ضرایب کوچک‌تر می‌شوند.\n",
    "\n",
    "fit_intercept:\n",
    "\n",
    "    این پارامتر یک مقدار بولی (True یا False) می‌گیرد.\n",
    "    اگر مقدار آن True باشد (مقدار پیش‌فرض)، یک عرض از مبدأ (intercept) برای مدل محاسبه می‌شود.\n",
    "    اگر مقدار آن False باشد، عرض از مبدأ محاسبه نمی‌شود و مدل از مبدأ مختصات عبور می‌کند.\n",
    "\n",
    "normalize:\n",
    "\n",
    "    این پارامتر نیز یک مقدار بولی می‌گیرد.\n",
    "    اگر مقدار آن True باشد، ویژگی‌های ورودی قبل از آموزش مدل نرمال‌سازی می‌شوند.\n",
    "    نرمال سازی به این معنی هست که همه ویژگی ها در یک مقیاس یکسان قرار بگیرند.\n",
    "\n",
    "solver:\n",
    "\n",
    "    این پارامتر الگوریتم حل مسئله بهینه‌سازی را مشخص می‌کند.\n",
    "    مقادیر مختلفی را می‌تواند بپذیرد، مانند 'auto', 'svd', 'cholesky', 'lsqr', 'sparse_cg', 'sag', و 'saga'.\n",
    "    انتخاب الگوریتم مناسب به اندازه داده‌ها و ویژگی‌های آن‌ها بستگی دارد.\n",
    "\n",
    "random_state:\n",
    "\n",
    "    این پارامتر برای کنترل تصادفی بودن الگوریتم‌هایی است که از اعداد تصادفی استفاده می‌کنند.\n",
    "    با تعیین یک مقدار ثابت برای این پارامتر، می‌توان نتایج را قابل تکرار کرد.\n",
    "        \n",
    "_____________________\n",
    "\n",
    "        کاربردها: Ridge برای داده‌هایی که دارای همبستگی بالا بین ویژگی‌ها هستند، مناسب است. همچنین، در مواردی که تعداد ویژگی‌ها بیشتر از تعداد نمونه‌ها است، می‌تواند مفید باشد.\n",
    "        \n",
    "_____________________\n",
    "        مزایا: جلوگیری از بیش‌برازش، پایداری مدل، عملکرد خوب در داده‌های همبسته.\n",
    "        \n",
    "\n",
    "        معایب: ممکن است دقت مدل را در مقایسه با رگرسیون خطی ساده، کاهش دهد.\n",
    "        \n",
    "\"\"\""
   ],
   "metadata": {
    "id": "mpkTQ3ty8ln8"
   }
  },
  {
   "metadata": {},
   "cell_type": "markdown",
   "source": [
    "# تابع هدف رگرسیون Ridge\n",
    "#  یا فرمول کمینه‌سازی Ridge\n",
    "\"\"\"\n",
    "||y - Xw||^2_2 + alpha * ||w||^2_2\n",
    "علامت دو خط عمودی پشت سر هم، نشان‌دهنده «نرم» (norm) یک بردار است.\n",
    "||...||^2_2: نرم L2 (اقلیدسی) خطاهای پیش‌بینی، که به توان دو رسیده است.\n",
    "||w||^2 در واقع نرم L2 (اقلیدسی) یک بردار، طول آن بردار را نشان می‌دهد\n",
    "\n",
    "این فرمول شامل دو بخش است:\n",
    "\n",
    "    بخش اول (||y - Xw||^2_2): این بخش، خطای مربعات میانگین (MSE) را نشان می‌دهد و هدف آن کمینه‌سازی خطای پیش‌بینی مدل است.\n",
    "    بخش دوم (alpha * ||w||^2_2): این بخش، عبارت تنظیم L2 (Ridge) است و هدف آن جلوگیری از بیش‌برازش مدل با کوچک کردن ضرایب است.\n",
    "\n",
    "در واقع، رگرسیون Ridge با اضافه کردن عبارت تنظیم L2 به تابع هدف رگرسیون خطی ساده، سعی می‌کند موازنه مناسبی بین خطای پیش‌بینی و پیچیدگی مدل ایجاد کند.\n",
    "\"\"\""
   ]
  },
  {
   "metadata": {},
   "cell_type": "markdown",
   "source": [
    "# کاربردهای اصلی رگرسیون Ridge:\n",
    "\n",
    "کاهش بیش‌برازش:\n",
    "\n",
    "        وقتی مدل‌های رگرسیون خطی با تعداد زیادی متغیر مواجه می‌شوند، ممکن است به جای یادگیری الگوهای کلی، نویز موجود در داده‌های آموزشی را نیز یاد بگیرند. این موضوع منجر به بیش‌برازش می‌شود، یعنی مدل روی داده‌های آموزشی عملکرد بسیار خوبی دارد، اما روی داده‌های جدید عملکرد ضعیفی ارائه می‌دهد.\n",
    "        رگرسیون Ridge با اضافه کردن یک عبارت جریمه (penalty) به تابع هزینه، ضرایب مدل را کوچک می‌کند و از بیش‌برازش جلوگیری می‌کند.\n",
    "        \n",
    "\n",
    "حل مشکل هم‌خطی چندگانه:\n",
    "\n",
    "        هم‌خطی چندگانه زمانی رخ می‌دهد که بین متغیرهای مستقل در داده‌ها همبستگی بالایی وجود داشته باشد. این موضوع می‌تواند باعث ناپایدار شدن ضرایب مدل رگرسیون خطی شود.\n",
    "        رگرسیون Ridge با کوچک کردن ضرایب، تأثیر هم‌خطی چندگانه را کاهش می‌دهد و مدل را پایدارتر می‌کند.\n",
    "\n",
    "\n",
    "\n",
    "مسائل با تعداد متغیرهای زیاد:\n",
    "\n",
    "        در مسائلی که تعداد متغیرهای مستقل بیشتر از تعداد نمونه‌ها است، رگرسیون خطی معمولی نمی‌تواند ضرایب مدل را به طور منحصر به فرد تخمین بزند.\n",
    "        رگرسیون Ridge در این شرایط می‌تواند ضرایب مدل را تخمین بزند و مدل را پایدار کند.\n",
    "        \n",
    "\n",
    "\n",
    "پیش‌بینی‌های پایدار:\n",
    "\n",
    "        رگرسیون Ridge به دلیل کوچک کردن ضرایب مدل، پیش‌بینی‌های پایدارتری را ارائه می‌دهد. این موضوع در مواردی که داده‌ها دارای نویز هستند، اهمیت زیادی دارد."
   ]
  },
  {
   "cell_type": "code",
   "source": [
    "from sklearn.linear_model import Ridge"
   ],
   "metadata": {
    "id": "Z2GhJu-28oaV",
    "ExecuteTime": {
     "end_time": "2025-04-12T19:24:17.061192Z",
     "start_time": "2025-04-12T19:24:17.061192Z"
    }
   },
   "outputs": [],
   "execution_count": null
  },
  {
   "cell_type": "code",
   "source": [
    "X.shape"
   ],
   "metadata": {
    "colab": {
     "base_uri": "https://localhost:8080/"
    },
    "id": "3waBLCWSBINs",
    "outputId": "533f4f45-b6ce-4af7-f948-66ba2253d120",
    "ExecuteTime": {
     "end_time": "2025-04-12T19:24:17.062221Z",
     "start_time": "2025-04-12T19:24:17.062221Z"
    }
   },
   "outputs": [],
   "execution_count": null
  },
  {
   "cell_type": "code",
   "source": [
    "ridge_regression = Ridge(alpha=0.1)\n",
    "ridge_regression.fit(X, y)"
   ],
   "metadata": {
    "colab": {
     "base_uri": "https://localhost:8080/",
     "height": 74
    },
    "id": "bOELTUdrAwwO",
    "outputId": "631660fd-5eec-4dd1-beb1-8b82244ceb18"
   },
   "outputs": [],
   "execution_count": null
  },
  {
   "metadata": {},
   "cell_type": "markdown",
   "source": [
    "---\n",
    "\"\"\"\n",
    " 1. مدل Lasso چیست؟\n",
    "\n",
    "    رگرسیون Lasso (Least Absolute Shrinkage and Selection Operator) یک روش تنظیم (Regularization) در رگرسیون خطی است که برای جلوگیری از بیش‌برازش (Overfitting) و انتخاب ویژگی‌های مهم (Feature Selection) استفاده می‌شود.\n",
    "    Lasso با اضافه کردن یک عبارت جریمه L1 به تابع هزینه (Loss Function)، ضرایب مدل را کوچک می‌کند و برخی از آن‌ها را به صفر می‌رساند. این ویژگی باعث می‌شود که Lasso بتواند ویژگی‌های غیرضروری را حذف کند و مدل را ساده‌تر کند.\n",
    "\n",
    "\n",
    "2. فرق Ridge با Lasso:\n",
    "\n",
    "        نوع تنظیم:\n",
    "        Ridge از تنظیم L2 استفاده می‌کند، که ضرایب را کوچک می‌کند اما آن‌ها را به صفر نمی‌رساند.\n",
    "        Lasso از تنظیم L1 استفاده می‌کند، که ضرایب را کوچک می‌کند و برخی از آن‌ها را به صفر می‌رساند.\n",
    "        \n",
    "        انتخاب ویژگی:\n",
    "            Ridge نمی‌تواند ویژگی‌ها را حذف کند.\n",
    "            Lasso می‌تواند ویژگی‌های غیرضروری را حذف کند و مدل را ساده‌تر کند.\n",
    "    \n",
    "        کاربرد:\n",
    "            Ridge برای کاهش بیش‌برازش در شرایطی که تعداد زیادی ویژگی همبسته وجود دارد، مناسب است.\n",
    "            Lasso برای انتخاب ویژگی‌های مهم و ساده‌سازی مدل در شرایطی که تعداد زیادی ویژگی غیرضروری وجود دارد، مناسب است.\n",
    "\n",
    "3. فرق کاربردشان چیست؟\n",
    "\n",
    "        Ridge:\n",
    "            زمانی که تمام متغیرها به نوعی در پیش بینی ها تاثیرگذار هستند کاربرد دارد.\n",
    "            زمانی که هم خطی چندگانه وجود دارد کاربرد دارد.\n",
    "        Lasso:\n",
    "            زمانی که تعداد زیادی متغیر غیرضروری وجود دارد کاربرد دارد.\n",
    "            برای ساده سازی مدل و کاهش پیچیدگی مدل کاربرد دارد.\n",
    "            برای انتخاب ویژگی های مهم و حذف ویژگی های غیرضروری کاربرد دارد.\n",
    "\n",
    "4. فرمول Lasso \n",
    "\n",
    "||y - Xw||^2_2 + alpha * ||w||_1\n",
    "\n",
    "    در این فرمول:\n",
    "        ||y - Xw||^2_2 مجموع مربعات خطا (MSE) را نشان می‌دهد.\n",
    "        alpha * ||w||_1 عبارت جریمه L1 است.\n",
    "        ||w||_1 نرم L1 بردار ضرایب (w) را نشان می‌دهد.\n",
    "\"\"\"        "
   ]
  },
  {
   "metadata": {},
   "cell_type": "markdown",
   "source": [
    "---\n",
    "# Elastic Net \n",
    "\"\"\"\n",
    " Elastic Net چیست و چیزهای لازم را بگو؟\n",
    "\n",
    "    Elastic Net یک روش تنظیم (Regularization) در رگرسیون خطی است که ترکیبی از تنظیم L1 (Lasso) و تنظیم L2 (Ridge) است.\n",
    "    این روش با اضافه کردن یک عبارت جریمه ترکیبی از L1 و L2 به تابع هزینه (Loss Function)، ضرایب مدل را کوچک می‌کند و برخی از آن‌ها را به صفر می‌رساند.\n",
    "    Elastic Net مزایای هر دو روش Lasso و Ridge را ترکیب می‌کند و می‌تواند مشکلاتی مانند هم‌خطی چندگانه (Multicollinearity) و وجود ویژگی‌های غیرضروری را به طور همزمان حل کند.\n",
    "    پارامتر l1_ratio در Elastic Net، موازنه بین تنظیم L1 و L2 را کنترل می‌کند.\n",
    "        اگر l1_ratio برابر با 1 باشد، Elastic Net معادل Lasso است.\n",
    "        اگر l1_ratio برابر با 0 باشد، Elastic Net معادل Ridge است.\n",
    "        مقادیر بین 0 و 1، ترکیبی از تنظیم L1 و L2 را اعمال می‌کنند.\n",
    "        \n",
    "Elastic Net در شرایطی که تعداد زیادی ویژگی همبسته و غیرضروری وجود دارد، عملکرد خوبی ارائه می‌دهد.\n",
    "        \n",
    "\"\"\""
   ]
  },
  {
   "metadata": {},
   "cell_type": "markdown",
   "source": [
    "---\n",
    "# بهینه سازی ها در رگرشن و کلسیفیکشن\n",
    "\"\"\"\n",
    "SGD (گرادیان کاهشی تصادفی):\n",
    "\n",
    "    هم برای رگرسیون و هم برای طبقه‌بندی قابل استفاده است.\n",
    "    برای کمینه‌سازی تابع هزینه مدل‌های یادگیری ماشین استفاده می‌شود.\n",
    "    در طبقه‌بندی، معمولاً با توابع فعال‌سازی مانند سیگموئید یا سافتمکس ترکیب می‌شود.\n",
    "\n",
    "گرادیان کاهشی معمولی (Gradient Descent):\n",
    "\n",
    "    هم برای رگرسیون و هم برای طبقه بندی استفاده میشود.\n",
    "    روش پایه برای بهینه سازی مدل است که اس جی دی هم از ان گرفته شده است.\n",
    "\n",
    "آدام (Adam):\n",
    "\n",
    "    هم برای رگرسیون و هم برای طبقه بندی استفاده میشود.\n",
    "    یک الگوریتم بهینه سازی تطبیقی است که به طور گسترده در یادگیری عمیق استفاده میشود.\n",
    "\n",
    "RMSprop:\n",
    "\n",
    "    هم برای رگرسیون و هم برای طبقه بندی استفاده میشود.\n",
    "    یک الگوریتم بهینه سازی تطبیقی است که برای حل مشکلات نرخ یادگیری در اس جی دی طراحی شده است.\n",
    "\n",
    "Ridge:\n",
    "\n",
    "    هم برای رگرسیون و هم برای طبقه‌بندی قابل استفاده است.\n",
    "    با اضافه کردن تنظیم L2 به تابع هزینه، از بیش‌برازش جلوگیری می‌کند.\n",
    "    برای طبقه‌بندی، معمولاً با رگرسیون لجستیک Ridge ترکیب می‌شود.\n",
    "\n",
    "Lasso:\n",
    "\n",
    "    هم برای رگرسیون و هم برای طبقه‌بندی قابل استفاده است.\n",
    "    با اضافه کردن تنظیم L1 به تابع هزینه، از بیش‌برازش جلوگیری می‌کند و انتخاب ویژگی را انجام می‌دهد.\n",
    "    برای طبقه‌بندی، معمولاً با رگرسیون لجستیک Lasso ترکیب می‌شود.\n",
    "\n",
    "Elastic Net:\n",
    "\n",
    "    هم برای رگرسیون و هم برای طبقه‌بندی قابل استفاده است.\n",
    "    ترکیبی از تنظیم L1 و L2 است و مزایای هر دو روش را ارائه می‌دهد.\n",
    "    برای طبقه‌بندی، معمولاً با رگرسیون لجستیک Elastic Net ترکیب می‌شود.\n",
    "\"\"\""
   ]
  },
  {
   "metadata": {},
   "cell_type": "markdown",
   "source": [
    "---\n",
    "دیتاست آیریس (Iris dataset) یک مجموعه داده چند متغیره است که توسط رونالد فیشر، آماردان و گیاه‌شناس بریتانیایی، در سال 1936 معرفی شد. این مجموعه داده به دلیل سادگی و کاربرد فراوانش، به یکی از محبوب‌ترین مجموعه‌های داده در حوزه یادگیری ماشین و آمار تبدیل شده است.\n",
    "\n",
    "ویژگی‌های اصلی دیتاست آیریس:\n",
    "\n",
    "    محتوا: این مجموعه داده شامل 150 نمونه از گل‌های زنبق است که به سه گونه مختلف تقسیم می‌شوند:\n",
    "        Setosa (سِتوسا)\n",
    "        Versicolor (وِرسی‌کالِر)\n",
    "        Virginica (ویرجینیکا)\n",
    "    ویژگی‌ها: برای هر نمونه گل، چهار ویژگی اندازه‌گیری شده است:\n",
    "        طول کاسبرگ (Sepal Length)\n",
    "        عرض کاسبرگ (Sepal Width)\n",
    "        طول گلبرگ (Petal Length)\n",
    "        عرض گلبرگ (Petal Width)\n",
    "    کاربرد: از این مجموعه داده به طور گسترده برای آموزش و آزمایش الگوریتم‌های طبقه‌بندی در یادگیری ماشین استفاده می‌شود.\n",
    "    سادگی: دیتاست آیریس به دلیل تعداد کم ویژگی‌ها و نمونه‌ها، برای شروع کار با الگوریتم‌های یادگیری ماشین بسیار مناسب است.\n",
    "\n",
    "کاربردهای رایج دیتاست آیریس:\n",
    "\n",
    "    آموزش الگوریتم‌های طبقه‌بندی مانند k-نزدیک‌ترین همسایه (k-NN)، ماشین بردار پشتیبان (SVM) و درخت تصمیم (Decision Tree)\n",
    "    ارزیابی عملکرد الگوریتم‌های طبقه‌بندی\n",
    "    آشنایی با مفاهیم پایه‌ای یادگیری ماشین و داده‌کاوی"
   ]
  },
  {
   "cell_type": "markdown",
   "source": [
    "---\n",
    "# Logistic regression\n",
    "\"\"\"\n",
    "در نامش رگرشن امده اما برای کلسیفیکشن استفاده میشه \n",
    "یعنی برای گسسته است نه پیوسته\n",
    "\n",
    "تخمین احتمال است\n",
    "\n",
    "\"\"\""
   ],
   "metadata": {
    "id": "iIJq6_AEhsUp"
   }
  },
  {
   "cell_type": "code",
   "source": [
    "from sklearn.datasets import load_iris"
   ],
   "metadata": {
    "id": "bIJb9JybBOQ3",
    "ExecuteTime": {
     "end_time": "2025-04-12T19:24:17.064243Z",
     "start_time": "2025-04-12T19:24:17.063233Z"
    }
   },
   "outputs": [],
   "execution_count": null
  },
  {
   "cell_type": "code",
   "source": [
    "iris_df = load_iris(as_frame=True)\n",
    "# چون میخواهیم به صورت دیتا فریم برگرداند as_frame=True را قرار دادیم"
   ],
   "metadata": {
    "id": "za4Q4B3gh42B"
   },
   "outputs": [],
   "execution_count": null
  },
  {
   "cell_type": "code",
   "source": [
    "list(iris_df)"
   ],
   "metadata": {
    "colab": {
     "base_uri": "https://localhost:8080/"
    },
    "id": "84r_pcxfiCuK",
    "outputId": "d5c30bd8-32e5-44ef-d348-bb4d900e4f4c"
   },
   "outputs": [],
   "execution_count": null
  },
  {
   "cell_type": "code",
   "source": [
    "iris_df.target_names"
   ],
   "metadata": {
    "colab": {
     "base_uri": "https://localhost:8080/"
    },
    "id": "GqQ1emKgiGe1",
    "outputId": "41c46b45-b9a8-4bb7-c547-2406de695c84"
   },
   "outputs": [],
   "execution_count": null
  },
  {
   "cell_type": "code",
   "source": [
    "X = iris_df.data[[\"petal length (cm)\"]].values\n",
    "y = iris_df.target_names\n",
    "\n",
    "#iris_df.data:\n",
    "    # این متد به بخش ویژگی‌های ورودی (features) دیتاست آیریس دسترسی پیدا می‌کند.\n",
    "    \n",
    "    \n",
    "# iris_df.target:\n",
    "#     این متد به بخش متغیر هدف (target variable) دیتاست آیریس دسترسی پیدا می‌کند.\n",
    "#     متغیر هدف، گونه گل زنبق را برای هر نمونه مشخص می‌کن"
   ],
   "metadata": {
    "id": "0J1YT-GriYOT"
   },
   "outputs": [],
   "execution_count": null
  },
  {
   "cell_type": "code",
   "source": [
    "y = iris_df.target_names[iris_df.target] == \"setosa\"\n",
    "y.shape"
   ],
   "metadata": {
    "colab": {
     "base_uri": "https://localhost:8080/"
    },
    "id": "x6HtfAHBirCI",
    "outputId": "97e87a88-c7ef-44d6-8c26-f5eabd92449d"
   },
   "outputs": [],
   "execution_count": null
  },
  {
   "cell_type": "code",
   "source": [
    "from sklearn.model_selection import train_test_split"
   ],
   "metadata": {
    "id": "kaszN0MzjZgb"
   },
   "outputs": [],
   "execution_count": null
  },
  {
   "cell_type": "code",
   "source": [
    "X_train, X_test, y_train, y_test = train_test_split(X, y, random_state=40)"
   ],
   "metadata": {
    "id": "D7pBJ23NiycT"
   },
   "outputs": [],
   "execution_count": null
  },
  {
   "cell_type": "code",
   "source": [
    "from sklearn.linear_model import LogisticRegression"
   ],
   "metadata": {
    "id": "w4T9eAdhjgg3"
   },
   "outputs": [],
   "execution_count": null
  },
  {
   "cell_type": "code",
   "source": [
    "lr = LogisticRegression(random_state=40)"
   ],
   "metadata": {
    "id": "s8OMdIQnjn-H"
   },
   "outputs": [],
   "execution_count": null
  },
  {
   "cell_type": "code",
   "source": [
    "lr.fit(X_train, y_train)"
   ],
   "metadata": {
    "colab": {
     "base_uri": "https://localhost:8080/",
     "height": 74
    },
    "id": "0NlrEIwPjwsq",
    "outputId": "a38de775-9460-43ec-9b53-62f04d443c35"
   },
   "outputs": [],
   "execution_count": null
  },
  {
   "cell_type": "code",
   "source": [
    "iris_df.data[\"petal length (cm)\"].max()"
   ],
   "metadata": {
    "colab": {
     "base_uri": "https://localhost:8080/"
    },
    "id": "c4G6zGM0jzKA",
    "outputId": "33e8baec-21d3-4d04-a601-205e31d28070"
   },
   "outputs": [],
   "execution_count": null
  },
  {
   "cell_type": "code",
   "source": [
    "iris_df.data[\"petal width (cm)\"].min()"
   ],
   "metadata": {
    "colab": {
     "base_uri": "https://localhost:8080/"
    },
    "id": "7p9dmWTOTrQb",
    "outputId": "533dc345-0bbc-41fc-b6a3-cb1341ba363d"
   },
   "outputs": [],
   "execution_count": null
  },
  {
   "cell_type": "code",
   "source": [
    "X_pred = np.linspace(0, 7, 1000).reshape(-1, 1)\n",
    "y_prob = lr.predict_proba(X_pred)"
   ],
   "metadata": {
    "id": "lZe6Vyhcj_8z"
   },
   "outputs": [],
   "execution_count": null
  },
  {
   "cell_type": "code",
   "source": [
    "y_prob"
   ],
   "metadata": {
    "colab": {
     "base_uri": "https://localhost:8080/"
    },
    "id": "px28xpT2CAy0",
    "outputId": "676ea26c-100b-421b-999f-40923beb75e0"
   },
   "outputs": [],
   "execution_count": null
  },
  {
   "cell_type": "code",
   "source": [
    "lr.classes_"
   ],
   "metadata": {
    "colab": {
     "base_uri": "https://localhost:8080/"
    },
    "id": "BaavYZ0BDh5A",
    "outputId": "e5b50a17-a041-461f-8c7e-631929a5281e"
   },
   "outputs": [],
   "execution_count": null
  },
  {
   "cell_type": "code",
   "source": [
    "db = X_pred[y_prob[:, 0] >= 0.5][0, 0]\n",
    "#مرز تصمیم"
   ],
   "metadata": {
    "id": "lcKRzzZvCCKE"
   },
   "outputs": [],
   "execution_count": null
  },
  {
   "cell_type": "code",
   "source": [
    "db"
   ],
   "metadata": {
    "colab": {
     "base_uri": "https://localhost:8080/"
    },
    "id": "_vp3QATmEwUj",
    "outputId": "155cc1e9-baa0-437f-b591-b221a2a39c37"
   },
   "outputs": [],
   "execution_count": null
  },
  {
   "cell_type": "code",
   "source": [
    "plt.plot(X_pred, y_prob[:, 0], \"--r\", lw=2, label=\"Not Setosa\")\n",
    "plt.plot(X_pred, y_prob[:, 1], \"--b\", lw=2, label=\"Setosa\")\n",
    "plt.plot([db, db], [0, 1], \"k:\", lw=2, label=\"db\")\n",
    "plt.xlabel(\"petal length (cm)\")\n",
    "plt.legend()"
   ],
   "metadata": {
    "colab": {
     "base_uri": "https://localhost:8080/",
     "height": 296
    },
    "id": "t7KkXMx3DDME",
    "outputId": "5786943c-e3b6-4742-8c5d-215a244596fc"
   },
   "outputs": [],
   "execution_count": null
  },
  {
   "cell_type": "code",
   "source": [
    "lr.predict([[2.5], [2.8], [3.5]])"
   ],
   "metadata": {
    "colab": {
     "base_uri": "https://localhost:8080/"
    },
    "id": "rZLd024XELwR",
    "outputId": "155dcc6d-2da1-4a59-f88a-d3667e112407"
   },
   "outputs": [],
   "execution_count": null
  },
  {
   "metadata": {},
   "cell_type": "markdown",
   "source": [
    "---\n",
    "\"\"\"حالا کار قبل را که با یک فیچر بود را میخواهیم با دوتا فیچر انجام دهیم\"\"\""
   ]
  },
  {
   "cell_type": "code",
   "source": [
    "X = iris_df.data[[\"petal length (cm)\", \"petal width (cm)\"]].values\n",
    "y = iris_df.target_names[iris_df.target] == \"setosa\"\n",
    "X_train, X_test, y_train, y_test = train_test_split(X, y, random_state=40)"
   ],
   "metadata": {
    "id": "ncBvii4kFYKF",
    "ExecuteTime": {
     "end_time": "2025-04-12T19:24:17.081990Z",
     "start_time": "2025-04-12T19:24:17.081990Z"
    }
   },
   "outputs": [],
   "execution_count": null
  },
  {
   "cell_type": "code",
   "source": [
    "lr = LogisticRegression(random_state=40)\n",
    "lr.fit(X, y)"
   ],
   "metadata": {
    "colab": {
     "base_uri": "https://localhost:8080/",
     "height": 74
    },
    "id": "bCb0ew9QSv4u",
    "outputId": "0a025a84-554e-44d1-df24-060f81ebc07d",
    "ExecuteTime": {
     "end_time": "2025-04-12T19:24:17.083004Z",
     "start_time": "2025-04-12T19:24:17.083004Z"
    }
   },
   "outputs": [],
   "execution_count": null
  },
  {
   "cell_type": "code",
   "source": [
    "petal_length, petal_width = np.meshgrid(\n",
    "    np.linspace(0, 7, 1000).reshape(-1, 1),\n",
    "    np.linspace(0, 3, 1000).reshape(-1, 1)\n",
    ")"
   ],
   "metadata": {
    "id": "lV1vEbsASw4r",
    "ExecuteTime": {
     "end_time": "2025-04-12T19:24:17.084043Z",
     "start_time": "2025-04-12T19:24:17.084043Z"
    }
   },
   "outputs": [],
   "execution_count": null
  },
  {
   "cell_type": "code",
   "source": [
    "petal_length.shape"
   ],
   "metadata": {
    "colab": {
     "base_uri": "https://localhost:8080/"
    },
    "id": "rnYnd_wBPkIr",
    "outputId": "5863bb12-7aee-4893-ee21-18a66788ed38",
    "ExecuteTime": {
     "end_time": "2025-04-12T19:24:17.085057Z",
     "start_time": "2025-04-12T19:24:17.085057Z"
    }
   },
   "outputs": [],
   "execution_count": null
  },
  {
   "cell_type": "code",
   "source": [
    "petal_length.flatten().shape"
   ],
   "metadata": {
    "colab": {
     "base_uri": "https://localhost:8080/"
    },
    "id": "xkr6qSy7UFdY",
    "outputId": "653a5a67-b810-473b-bcfc-4855d047c197"
   },
   "outputs": [],
   "execution_count": null
  },
  {
   "cell_type": "code",
   "source": [
    "X_pred = np.c_[petal_length.flatten(), petal_width.flatten()]"
   ],
   "metadata": {
    "id": "M80BHu6eT-bF"
   },
   "outputs": [],
   "execution_count": null
  },
  {
   "cell_type": "code",
   "source": [
    "X_pred.shape"
   ],
   "metadata": {
    "colab": {
     "base_uri": "https://localhost:8080/"
    },
    "id": "2R1d7z2tUNig",
    "outputId": "1cbd6281-4de5-4961-df5b-eb05d3d2a24b"
   },
   "outputs": [],
   "execution_count": null
  },
  {
   "cell_type": "code",
   "source": [
    "y_prob = lr.predict_proba(X_pred)"
   ],
   "metadata": {
    "id": "5Yb---nrUP8O"
   },
   "outputs": [],
   "execution_count": null
  },
  {
   "cell_type": "code",
   "source": [
    "y_prob.shape"
   ],
   "metadata": {
    "colab": {
     "base_uri": "https://localhost:8080/"
    },
    "id": "B9KIfKsEkgZj",
    "outputId": "72470e54-2b1d-42d1-e123-d1f949a8a6e9"
   },
   "outputs": [],
   "execution_count": null
  },
  {
   "cell_type": "code",
   "source": [
    "y_prob_2d = y_prob[:, 1].reshape(petal_length.shape)"
   ],
   "metadata": {
    "id": "pvTKdq0DPWhG"
   },
   "outputs": [],
   "execution_count": null
  },
  {
   "cell_type": "code",
   "source": [
    "import matplotlib as mpl"
   ],
   "metadata": {
    "id": "LWNqvdA_UQmN"
   },
   "outputs": [],
   "execution_count": null
  },
  {
   "cell_type": "code",
   "source": [
    "lr.classes_"
   ],
   "metadata": {
    "colab": {
     "base_uri": "https://localhost:8080/"
    },
    "id": "2EVgdyluUbDf",
    "outputId": "9d22b88f-8356-4989-aa58-9e2648055d12"
   },
   "outputs": [],
   "execution_count": null
  },
  {
   "cell_type": "code",
   "source": [
    "X_pred[y_prob[:, 0] >= 0.5]"
   ],
   "metadata": {
    "id": "8cCrzDY9UjVV",
    "outputId": "09b8fa71-3ab6-4909-e825-0f10468681e3",
    "colab": {
     "base_uri": "https://localhost:8080/"
    }
   },
   "outputs": [],
   "execution_count": null
  },
  {
   "cell_type": "code",
   "source": [
    "lr.coef_"
   ],
   "metadata": {
    "colab": {
     "base_uri": "https://localhost:8080/"
    },
    "id": "DPEFVs0cnCe7",
    "outputId": "13015d75-1b68-48c2-d236-8d0e7fe5d37b"
   },
   "outputs": [],
   "execution_count": null
  },
  {
   "cell_type": "code",
   "source": [
    "lr.intercept_"
   ],
   "metadata": {
    "colab": {
     "base_uri": "https://localhost:8080/"
    },
    "id": "DjHkrIytZbvj",
    "outputId": "c801cc4f-ccf1-4448-a6d3-adce6353dff6"
   },
   "outputs": [],
   "execution_count": null
  },
  {
   "cell_type": "code",
   "source": [
    "petal_length_vector = np.array([0, 7])\n",
    "db = -((lr.intercept_ + lr.coef_[0, 0]*petal_length_vector)/lr.coef_[0, 1])\n",
    "\n",
    "# در خط قبلی معادله خطی که مدل رگرسیون لجستیک برای طبقه‌بندی استفاده می‌کند به صورت زیر است:\n",
    "# که اورده اونطرف تساوی برای همین منفی شده\n",
    "# z = lr.intercept_ + lr.coef_[0, 0] * petal_length + lr.coef_[0, 1] * petal_width"
   ],
   "metadata": {
    "id": "KinlnavKZWXt"
   },
   "outputs": [],
   "execution_count": null
  },
  {
   "cell_type": "code",
   "source": [
    "db"
   ],
   "metadata": {
    "colab": {
     "base_uri": "https://localhost:8080/"
    },
    "id": "ORc2fMVpaFYP",
    "outputId": "4bff710f-6ac1-40bd-b5e2-3144f2e63b83",
    "ExecuteTime": {
     "end_time": "2025-04-12T19:24:17.096741Z",
     "start_time": "2025-04-12T19:24:17.096741Z"
    }
   },
   "outputs": [],
   "execution_count": null
  },
  {
   "metadata": {
    "ExecuteTime": {
     "end_time": "2025-04-12T19:24:17.097752Z",
     "start_time": "2025-04-12T19:24:17.097752Z"
    }
   },
   "cell_type": "code",
   "source": [
    "fig, ax = plt.subplots()\n",
    "ax1 = ax.contour(petal_length,\n",
    "                 petal_width,\n",
    "                 y_prob[:, 1].reshape(petal_length.shape),\n",
    "                 )\n",
    "plt.colorbar(ax1)\n"
   ],
   "outputs": [],
   "execution_count": null
  },
  {
   "cell_type": "code",
   "source": [
    "fig, ax = plt.subplots()\n",
    "ax1 = ax.contour(petal_length,\n",
    "                 petal_width,\n",
    "                 y_prob[:, 1].reshape(petal_length.shape),\n",
    "                 cmap=plt.cm.brg)\n",
    "plt.clabel(ax1)\n",
    "# لیبل میزنه روی خط ها، یعنی مقادیر را مینویسه\n",
    "\n",
    "plt.plot(petal_length_vector, db, \"k\", lw=3)\n",
    "plt.axis([0, 7, 0, 3])\n",
    "\n",
    "plt.plot(X_train[y_train == 1, 0], X_train[y_train == 1, 1], \"gs\")\n",
    "# با صفر و یک دادن ایکس و ایگرگ را تعیین میکنه\n",
    "# که X_train[y_train == 1, 0] ایکس ما است و\n",
    "#  X_train[y_train == 1, 1] ایگرگ ما است\n",
    "#  که نتیچه نقاط سبز در سمت چپ است\n",
    " \n",
    "plt.plot(X_train[y_train == 0, 0], X_train[y_train == 0, 1], \"rs\")"
   ],
   "metadata": {
    "id": "JCuJQkxwQA3E",
    "colab": {
     "base_uri": "https://localhost:8080/",
     "height": 286
    },
    "outputId": "22005593-5a7b-4b1f-de37-43b09e27ec15"
   },
   "outputs": [],
   "execution_count": null
  },
  {
   "metadata": {},
   "cell_type": "markdown",
   "source": ""
  },
  {
   "cell_type": "markdown",
   "source": [
    "---\n",
    "# Softmax\n",
    "#### حالا میخواهیم باینری نباشه و هر سه کلاس را داشته باشیم\n",
    "\n",
    "\"\"\"\n",
    "در این کد، مسئله طبقه‌بندی چند کلاسه است، زیرا دیتاست آیریس شامل سه گونه گل زنبق است.\n",
    "مدل رگرسیون لجستیک، احتمالات تعلق هر نمونه به هر سه کلاس را محاسبه می‌کند.\n",
    "مدل، کلاسی را که بیشترین احتمال را دارد، به عنوان کلاس پیش‌بینی‌شده اعلام می‌کند.\n",
    "این کد یک مثال ساده از نحوه استفاده از رگرسیون لجستیک برای طبقه‌بندی چند کلاسه در پایتون است\n",
    "\"\"\""
   ],
   "metadata": {
    "id": "byRwLjBi0V1H"
   }
  },
  {
   "cell_type": "code",
   "source": [
    "X = iris_df.data[[\"petal length (cm)\", \"petal width (cm)\"]].values\n",
    "#این خط، ویژگی‌های ورودی (طول گلبرگ و عرض گلبرگ) را از دیتاست آیریس استخراج می‌کند.\n",
    "# این ویژگی‌ها برای پیش‌بینی گونه گل زنبق استفاده می‌شوند.\n",
    "\n",
    "y = iris_df[\"target\"]\n",
    "# این خط، کلاس گل زنبق را برای یک نمونه جدید با طول گلبرگ 2 سانتی‌متر و عرض گلبرگ 2 سانتی‌متر پیش‌بینی می‌کند.\n",
    "# این متغیر، گونه واقعی گل زنبق را برای هر نمونه مشخص می‌کند.\n",
    "\n",
    "X_train, X_test, y_train, y_test = train_test_split(X, y, random_state=40)"
   ],
   "metadata": {
    "id": "zbqGUfmaakF2"
   },
   "outputs": [],
   "execution_count": null
  },
  {
   "cell_type": "code",
   "source": [
    "lr = LogisticRegression(random_state=40)\n",
    "lr.fit(X_train, y_train)"
   ],
   "metadata": {
    "colab": {
     "base_uri": "https://localhost:8080/",
     "height": 74
    },
    "id": "lyCaARVc0ccK",
    "outputId": "7d6752b6-4efe-4352-c7f8-6ca30cd9b8ab"
   },
   "outputs": [],
   "execution_count": null
  },
  {
   "cell_type": "code",
   "source": [
    "lr.predict([[2, 2]])\n",
    "# این خط، کلاس گل زنبق را برای یک نمونه جدید با طول گلبرگ 2 سانتی‌متر و عرض گلبرگ 2 سانتی‌متر پیش‌بینی می‌کند.\n"
   ],
   "metadata": {
    "colab": {
     "base_uri": "https://localhost:8080/"
    },
    "id": "J8ztD57D0lzg",
    "outputId": "f38d8bb6-ba0e-4fec-d494-1e57a42a3efa",
    "ExecuteTime": {
     "end_time": "2025-04-12T19:24:17.101991Z",
     "start_time": "2025-04-12T19:24:17.100799Z"
    }
   },
   "outputs": [],
   "execution_count": null
  },
  {
   "cell_type": "code",
   "source": [
    "lr.predict_proba([[2, 2]])\n",
    "# این خط، احتمالات تعلق نمونه جدید به هر کلاس را پیش‌بینی می‌کند."
   ],
   "metadata": {
    "colab": {
     "base_uri": "https://localhost:8080/"
    },
    "id": "gngpj9Rf1Hb7",
    "outputId": "b4205457-f497-4a99-ee35-1ce629fe978e",
    "ExecuteTime": {
     "end_time": "2025-04-12T19:24:17.103005Z",
     "start_time": "2025-04-12T19:24:17.101991Z"
    }
   },
   "outputs": [],
   "execution_count": null
  },
  {
   "cell_type": "code",
   "source": [],
   "metadata": {
    "id": "VJfvLEPi1SHc",
    "ExecuteTime": {
     "end_time": "2025-04-12T19:24:17.103005Z",
     "start_time": "2025-04-12T19:24:17.103005Z"
    }
   },
   "outputs": [],
   "execution_count": null
  },
  {
   "metadata": {},
   "cell_type": "markdown",
   "source": [
    "---\n",
    "\"\"\"\n",
    "آنتروپی (Entropy) در یادگیری ماشین، به ویژه در الگوریتم‌های درخت تصمیم (Decision Tree)، یک مفهوم کلیدی برای اندازه‌گیری ناخالصی یا عدم قطعیت در یک مجموعه داده است. به عبارت دیگر، آنتروپی نشان می‌دهد که چقدر داده‌ها در یک گره از درخت تصمیم، مخلوط یا ناهمگن هستند.\n",
    "\n",
    "مفهوم آنتروپی در یادگیری ماشین:\n",
    "\n",
    "    ناخالصی داده‌ها:\n",
    "        در یک مسئله طبقه‌بندی، هدف این است که نمونه‌ها را به کلاس‌های مختلف تقسیم کنیم.\n",
    "        اگر در یک گره از درخت تصمیم، نمونه‌ها به طور مساوی بین کلاس‌های مختلف توزیع شده باشند، آن گره ناخالص است و آنتروپی بالایی دارد.\n",
    "        اگر تمام نمونه‌های یک گره به یک کلاس تعلق داشته باشند، آن گره خالص است و آنتروپی پایینی دارد (یا صفر است).\n",
    "    اندازه‌گیری عدم قطعیت:\n",
    "        آنتروپی به ما کمک می‌کند تا میزان عدم قطعیت در مورد کلاس یک نمونه را اندازه‌گیری کنیم.\n",
    "        هرچه آنتروپی بیشتر باشد، عدم قطعیت در مورد کلاس نمونه بیشتر است.\n",
    "\n",
    "فرمول آنتروپی:\n",
    "\n",
    "برای یک مجموعه داده با دو کلاس (باینری)، فرمول آنتروپی به صورت زیر است:\n",
    "\n",
    "Entropy(S) = -p(+)log2(p(+)) - p(-)log2(p(-))\n",
    "\n",
    "که در آن:\n",
    "\n",
    "    S: مجموعه داده\n",
    "    p(+): احتمال تعلق یک نمونه به کلاس مثبت\n",
    "    p(-): احتمال تعلق یک نمونه به کلاس منفی\n",
    "\n",
    "برای مجموعه‌های داده با چندین کلاس، فرمول آنتروپی به صورت زیر تعمیم داده می‌شود:\n",
    "\n",
    "Entropy(S) = -Σ(pi * log2(pi))\n",
    "\n",
    "که در آن:\n",
    "\n",
    "    pi: احتمال تعلق یک نمونه به کلاس i\n",
    "\n",
    "کاربرد آنتروپی در درخت تصمیم:\n",
    "\n",
    "    انتخاب ویژگی‌ها:\n",
    "        الگوریتم‌های درخت تصمیم از آنتروپی برای انتخاب بهترین ویژگی‌ها برای تقسیم داده‌ها در هر گره استفاده می‌کنند.\n",
    "        هدف این است که ویژگی‌ای را انتخاب کنیم که بیشترین کاهش را در آنتروپی ایجاد کند.\n",
    "        این کاهش آنتروپی به عنوان «بهره اطلاعاتی» (Information Gain) شناخته می‌شود.\n",
    "    ساخت درخت:\n",
    "        درخت تصمیم به صورت بازگشتی ساخته می‌شود، به این صورت که در هر گره، ویژگی‌ای انتخاب می‌شود که بیشترین بهره اطلاعاتی را داشته باشد.\n",
    "        این فرآیند تا زمانی ادامه می‌یابد که گره‌ها خالص شوند یا یک معیار توقف برآورده شود.\n",
    "\n",
    "مزایای استفاده از آنتروپی:\n",
    "\n",
    "    اندازه‌گیری ناخالصی: آنتروپی یک معیار کمی برای اندازه‌گیری ناخالصی داده‌ها است.\n",
    "    انتخاب ویژگی‌های مهم: آنتروپی به الگوریتم‌های درخت تصمیم کمک می‌کند تا ویژگی‌های مهم را برای طبقه‌بندی انتخاب کنند.\n",
    "    ساخت درخت‌های کارآمد: با استفاده از آنتروپی، می‌توان درخت‌های تصمیم کارآمدی ساخت که دقت بالایی در طبقه‌بندی دارند.\n",
    "    \n",
    "\"\"\""
   ]
  }
 ]
}
