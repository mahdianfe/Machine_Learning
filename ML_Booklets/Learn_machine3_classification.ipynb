{
 "nbformat": 4,
 "nbformat_minor": 0,
 "metadata": {
  "colab": {
   "provenance": []
  },
  "kernelspec": {
   "name": "python3",
   "display_name": "Python 3 (ipykernel)",
   "language": "python"
  },
  "language_info": {
   "name": "python"
  }
 },
 "cells": [
  {
   "metadata": {},
   "cell_type": "markdown",
   "source": [
    "---\n",
    "\"\"\"\n",
    "نکته برداری از سایت های:\n",
    "\n",
    "1. https://faradars.org/courses/machine-learning-using-python-fvpht0091\n",
    "\n",
    " 2. و چت جی پی تی و جیمینی\n",
    "\n",
    " \"\"\""
   ]
  },
  {
   "cell_type": "code",
   "source": [
    "# !pip uninstall scikit-learn\n",
    "# !pip install scikit-learn==1.2.1"
   ],
   "metadata": {
    "colab": {
     "base_uri": "https://localhost:8080/"
    },
    "id": "7I754kD-URDW",
    "outputId": "add6aeb7-15b4-44b7-c1bd-42ec81d1fc27",
    "ExecuteTime": {
     "end_time": "2025-04-06T09:32:39.565208Z",
     "start_time": "2025-04-06T09:32:39.562144Z"
    }
   },
   "outputs": [],
   "execution_count": 3
  },
  {
   "cell_type": "code",
   "metadata": {
    "id": "zmVDu-sWJ5dB",
    "colab": {
     "base_uri": "https://localhost:8080/",
     "height": 35
    },
    "outputId": "c9fe895a-6409-4fcb-ed82-016b1e761ba5",
    "ExecuteTime": {
     "end_time": "2025-04-06T09:32:41.423622Z",
     "start_time": "2025-04-06T09:32:41.417559Z"
    }
   },
   "source": [
    "import sklearn\n",
    "sklearn.__version__"
   ],
   "outputs": [
    {
     "data": {
      "text/plain": [
       "'1.6.1'"
      ]
     },
     "execution_count": 4,
     "metadata": {},
     "output_type": "execute_result"
    }
   ],
   "execution_count": 4
  },
  {
   "metadata": {},
   "cell_type": "markdown",
   "source": [
    "---\n",
    "# MNIST_dataset"
   ]
  },
  {
   "cell_type": "code",
   "source": [
    "from sklearn.datasets import fetch_openml\n",
    "\n",
    "# fetch_openml تابعی در scikit-learn است که برای دانلود و بارگیری مجموعه‌های داده از مخزن OpenML استفاده می‌شود.\n",
    "\n",
    "# OpenML یک پلتفرم آنلاین برای اشتراک‌گذاری مجموعه‌های داده، مدل‌های یادگیری ماشین و نتایج آزمایش‌ها است.\n",
    "\n",
    "#این تابع به شما امکان می‌دهد به راحتی به طیف گسترده‌ای از مجموعه‌های داده موجود در OpenML دسترسی پیدا کنید. "
   ],
   "metadata": {
    "id": "vQ6hcVb_UhNI",
    "ExecuteTime": {
     "end_time": "2025-04-06T09:32:41.711580Z",
     "start_time": "2025-04-06T09:32:41.470767Z"
    }
   },
   "outputs": [],
   "execution_count": 5
  },
  {
   "cell_type": "code",
   "source": [
    "mnist_dataset = fetch_openml(\"mnist_784\", as_frame=False)\n",
    "# mnist_784 : این نام مجموعه داده MNIST را در OpenML مشخص می‌کند. مجموعه داده MNIST شامل تصاویر دست‌نویس ارقام 0 تا 9 است.\n",
    "\n",
    "#as_frame=False : این آرگومان مشخص می‌کند که داده‌ها به عنوان یک DataFrame پانداز بارگیری نشوند، بلکه به عنوان یک آرایه NumPy بارگیری شوند. این کار معمولاً برای کارایی بیشتر در الگوریتم‌های یادگیری ماشین انجام می‌شود.\n"
   ],
   "metadata": {
    "colab": {
     "base_uri": "https://localhost:8080/"
    },
    "id": "jq02geQIUzFX",
    "outputId": "75535b65-9854-4e62-9670-212a36157e52",
    "ExecuteTime": {
     "end_time": "2025-04-06T09:32:45.503421Z",
     "start_time": "2025-04-06T09:32:41.712586Z"
    }
   },
   "outputs": [],
   "execution_count": 6
  },
  {
   "cell_type": "code",
   "source": [
    "mnist_dataset.data.shape\n",
    "\n",
    "\"\"\"\n",
    "در خروجی:\n",
    "784 پیکسل:\n",
    "\n",
    "    هر تصویر در مجموعه داده MNIST یک تصویر سیاه و سفید 28x28 پیکسلی است.\n",
    "    اگر تعداد پیکسل‌های ردیف‌ها و ستون‌ها را در هم ضرب کنیم (28 * 28)، به 784 می‌رسیم.\n",
    "    بنابراین، هر تصویر به عنوان یک آرایه یک بعدی از 784 مقدار پیکسل ذخیره می‌شود.\n",
    "\n",
    "70000:\n",
    "\n",
    "    نکته مهم: این عدد نشان‌دهنده تعداد کل تصاویر در مجموعه داده MNIST است. \n",
    "    و توجه شود که تعداد سطرها نیست.\n",
    "    به عبارت دیگر، مجموعه داده MNIST شامل 70000 تصویر دست‌نویس از ارقام 0 تا 9 است.\n",
    "\"\"\""
   ],
   "metadata": {
    "colab": {
     "base_uri": "https://localhost:8080/"
    },
    "id": "01KehNTBVDio",
    "outputId": "4ec5853e-0a06-4e92-9eea-97951f46df45",
    "ExecuteTime": {
     "end_time": "2025-04-06T09:32:45.509431Z",
     "start_time": "2025-04-06T09:32:45.504437Z"
    }
   },
   "outputs": [
    {
     "data": {
      "text/plain": [
       "'\\nدر خروجی:\\n784 پیکسل:\\n\\n    هر تصویر در مجموعه داده MNIST یک تصویر سیاه و سفید 28x28 پیکسلی است.\\n    اگر تعداد پیکسل\\u200cهای ردیف\\u200cها و ستون\\u200cها را در هم ضرب کنیم (28 * 28)، به 784 می\\u200cرسیم.\\n    بنابراین، هر تصویر به عنوان یک آرایه یک بعدی از 784 مقدار پیکسل ذخیره می\\u200cشود.\\n\\n70000:\\n\\n    نکته مهم: این عدد نشان\\u200cدهنده تعداد کل تصاویر در مجموعه داده MNIST است. \\n    و توجه شود که تعداد سطرها نیست.\\n    به عبارت دیگر، مجموعه داده MNIST شامل 70000 تصویر دست\\u200cنویس از ارقام 0 تا 9 است.\\n'"
      ]
     },
     "execution_count": 7,
     "metadata": {},
     "output_type": "execute_result"
    }
   ],
   "execution_count": 7
  },
  {
   "cell_type": "code",
   "source": [
    "mnist_dataset.target.shape"
   ],
   "metadata": {
    "colab": {
     "base_uri": "https://localhost:8080/"
    },
    "id": "pX4iwagCXaHg",
    "outputId": "68b40533-c2f2-4dc6-be43-5232455dd480",
    "ExecuteTime": {
     "end_time": "2025-04-06T09:32:45.518289Z",
     "start_time": "2025-04-06T09:32:45.510449Z"
    }
   },
   "outputs": [
    {
     "data": {
      "text/plain": [
       "(70000,)"
      ]
     },
     "execution_count": 8,
     "metadata": {},
     "output_type": "execute_result"
    }
   ],
   "execution_count": 8
  },
  {
   "cell_type": "code",
   "source": [
    "X, y = mnist_dataset.data, mnist_dataset.target"
   ],
   "metadata": {
    "id": "yfHVMXkHXmR4",
    "ExecuteTime": {
     "end_time": "2025-04-06T09:32:45.522485Z",
     "start_time": "2025-04-06T09:32:45.518289Z"
    }
   },
   "outputs": [],
   "execution_count": 9
  },
  {
   "cell_type": "code",
   "source": [
    "import matplotlib.pyplot as plt"
   ],
   "metadata": {
    "id": "_G9OVlx9XwE3",
    "ExecuteTime": {
     "end_time": "2025-04-06T09:32:46.691537Z",
     "start_time": "2025-04-06T09:32:45.522485Z"
    }
   },
   "outputs": [],
   "execution_count": 10
  },
  {
   "metadata": {},
   "cell_type": "markdown",
   "source": ""
  },
  {
   "cell_type": "code",
   "source": [
    "plt.imshow(X[100].reshape(28, 28), cmap=\"binary\")\n",
    "#هر تصویر یک ارایه یک بعدی از 784 پیکسل است \n",
    "#آرایه یک بعدی را به یک ماتریس دوبعدی با 28 ردیف و 28 ستون تبدیل کردیم.\n",
    "\n",
    "# برای سیاه و سفید cmap=\"binary\" را قرار میدیم"
   ],
   "metadata": {
    "colab": {
     "base_uri": "https://localhost:8080/",
     "height": 282
    },
    "id": "1MhizsDqX1i4",
    "outputId": "eaabb045-4f8d-4fd4-cb03-4052ba2108d1",
    "ExecuteTime": {
     "end_time": "2025-04-06T09:32:46.949089Z",
     "start_time": "2025-04-06T09:32:46.692612Z"
    }
   },
   "outputs": [
    {
     "data": {
      "text/plain": [
       "<matplotlib.image.AxesImage at 0x26a614b0e00>"
      ]
     },
     "execution_count": 11,
     "metadata": {},
     "output_type": "execute_result"
    },
    {
     "data": {
      "text/plain": [
       "<Figure size 640x480 with 1 Axes>"
      ],
      "image/png": "[encoded data removed]"
     },
     "metadata": {},
     "output_type": "display_data"
    }
   ],
   "execution_count": 11
  },
  {
   "cell_type": "code",
   "source": [
    "X_train, X_test, y_train, y_test = X[:60000], X[60000:], y[:60000], y[60000:]\n",
    "#اینکه 60000 را انتخاب کردیم چون عدد 60000 یک قرارداد استاندارد برای تقسیم مجموعه داده ها در  MNIST به مجموعه آموزشی و آزمایشی است "
   ],
   "metadata": {
    "id": "ruuPgshWX9fJ",
    "ExecuteTime": {
     "end_time": "2025-04-06T09:32:46.953456Z",
     "start_time": "2025-04-06T09:32:46.949593Z"
    }
   },
   "outputs": [],
   "execution_count": 12
  },
  {
   "metadata": {},
   "cell_type": "markdown",
   "source": [
    " # باینری کسیفیکشن\n",
    " ### چون دوتا دسته بندی داریم میگیم باینری چون یا مثلا 4 هست یا نه"
   ]
  },
  {
   "cell_type": "code",
   "source": [
    "# stochastic gradient descent calssifier sklearn\n",
    "#\"Stochastic\" استوکستیک به این معنی است که در هر مرحله از آموزش، الگوریتم از یک زیرمجموعه تصادفی (یا یک نمونه) از داده‌ها برای محاسبه گرادیان استفاده می‌کند، به جای استفاده از کل مجموعه داده. این کار باعث می‌شود آموزش سریع‌تر و کارآمدتر باشد، به خصوص برای مجموعه‌های داده بزرگ.\n",
    "from sklearn.linear_model import SGDClassifier"
   ],
   "metadata": {
    "id": "c-iIgJI1ZVWo",
    "ExecuteTime": {
     "end_time": "2025-04-06T09:32:46.959159Z",
     "start_time": "2025-04-06T09:32:46.955469Z"
    }
   },
   "outputs": [],
   "execution_count": 13
  },
  {
   "metadata": {
    "ExecuteTime": {
     "end_time": "2025-04-06T09:32:46.964599Z",
     "start_time": "2025-04-06T09:32:46.959159Z"
    }
   },
   "cell_type": "code",
   "source": "y_train\n",
   "outputs": [
    {
     "data": {
      "text/plain": [
       "array(['5', '0', '4', ..., '5', '6', '8'], shape=(60000,), dtype=object)"
      ]
     },
     "execution_count": 14,
     "metadata": {},
     "output_type": "execute_result"
    }
   ],
   "execution_count": 14
  },
  {
   "cell_type": "code",
   "source": [
    "y_train8 = (y_train == \"8\")\n",
    "y_test8 = (y_test == \"8\")\n",
    "\n",
    "# یعنی میگوییم جاهایی که 8 هست را y_train8 در نظر بگیر  "
   ],
   "metadata": {
    "id": "masHEjKEbbwo",
    "ExecuteTime": {
     "end_time": "2025-04-06T09:32:46.969796Z",
     "start_time": "2025-04-06T09:32:46.964599Z"
    }
   },
   "outputs": [],
   "execution_count": 15
  },
  {
   "cell_type": "code",
   "source": [
    "sgd = SGDClassifier()\n",
    "sgd.fit(X_train, y_train8)"
   ],
   "metadata": {
    "colab": {
     "base_uri": "https://localhost:8080/",
     "height": 74
    },
    "id": "Z_jxH-BabOzb",
    "outputId": "f8c0968c-4dcc-4665-d9f9-643420b640de",
    "ExecuteTime": {
     "end_time": "2025-04-06T09:33:10.926143Z",
     "start_time": "2025-04-06T09:32:46.969796Z"
    }
   },
   "outputs": [
    {
     "data": {
      "text/plain": [
       "SGDClassifier()"
      ],
      "text/html": [
       "<style>#sk-container-id-1 {\n",
       "  /* Definition of color scheme common for light and dark mode */\n",
       "  --sklearn-color-text: #000;\n",
       "  --sklearn-color-text-muted: #666;\n",
       "  --sklearn-color-line: gray;\n",
       "  /* Definition of color scheme for unfitted estimators */\n",
       "  --sklearn-color-unfitted-level-0: #fff5e6;\n",
       "  --sklearn-color-unfitted-level-1: #f6e4d2;\n",
       "  --sklearn-color-unfitted-level-2: #ffe0b3;\n",
       "  --sklearn-color-unfitted-level-3: chocolate;\n",
       "  /* Definition of color scheme for fitted estimators */\n",
       "  --sklearn-color-fitted-level-0: #f0f8ff;\n",
       "  --sklearn-color-fitted-level-1: #d4ebff;\n",
       "  --sklearn-color-fitted-level-2: #b3dbfd;\n",
       "  --sklearn-color-fitted-level-3: cornflowerblue;\n",
       "\n",
       "  /* Specific color for light theme */\n",
       "  --sklearn-color-text-on-default-background: var(--sg-text-color, var(--theme-code-foreground, var(--jp-content-font-color1, black)));\n",
       "  --sklearn-color-background: var(--sg-background-color, var(--theme-background, var(--jp-layout-color0, white)));\n",
       "  --sklearn-color-border-box: var(--sg-text-color, var(--theme-code-foreground, var(--jp-content-font-color1, black)));\n",
       "  --sklearn-color-icon: #696969;\n",
       "\n",
       "  @media (prefers-color-scheme: dark) {\n",
       "    /* Redefinition of color scheme for dark theme */\n",
       "    --sklearn-color-text-on-default-background: var(--sg-text-color, var(--theme-code-foreground, var(--jp-content-font-color1, white)));\n",
       "    --sklearn-color-background: var(--sg-background-color, var(--theme-background, var(--jp-layout-color0, #111)));\n",
       "    --sklearn-color-border-box: var(--sg-text-color, var(--theme-code-foreground, var(--jp-content-font-color1, white)));\n",
       "    --sklearn-color-icon: #878787;\n",
       "  }\n",
       "}\n",
       "\n",
       "#sk-container-id-1 {\n",
       "  color: var(--sklearn-color-text);\n",
       "}\n",
       "\n",
       "#sk-container-id-1 pre {\n",
       "  padding: 0;\n",
       "}\n",
       "\n",
       "#sk-container-id-1 input.sk-hidden--visually {\n",
       "  border: 0;\n",
       "  clip: rect(1px 1px 1px 1px);\n",
       "  clip: rect(1px, 1px, 1px, 1px);\n",
       "  height: 1px;\n",
       "  margin: -1px;\n",
       "  overflow: hidden;\n",
       "  padding: 0;\n",
       "  position: absolute;\n",
       "  width: 1px;\n",
       "}\n",
       "\n",
       "#sk-container-id-1 div.sk-dashed-wrapped {\n",
       "  border: 1px dashed var(--sklearn-color-line);\n",
       "  margin: 0 0.4em 0.5em 0.4em;\n",
       "  box-sizing: border-box;\n",
       "  padding-bottom: 0.4em;\n",
       "  background-color: var(--sklearn-color-background);\n",
       "}\n",
       "\n",
       "#sk-container-id-1 div.sk-container {\n",
       "  /* jupyter's `normalize.less` sets `[hidden] { display: none; }`\n",
       "     but bootstrap.min.css set `[hidden] { display: none !important; }`\n",
       "     so we also need the `!important` here to be able to override the\n",
       "     default hidden behavior on the sphinx rendered scikit-learn.org.\n",
       "     See: https://github.com/scikit-learn/scikit-learn/issues/21755 */\n",
       "  display: inline-block !important;\n",
       "  position: relative;\n",
       "}\n",
       "\n",
       "#sk-container-id-1 div.sk-text-repr-fallback {\n",
       "  display: none;\n",
       "}\n",
       "\n",
       "div.sk-parallel-item,\n",
       "div.sk-serial,\n",
       "div.sk-item {\n",
       "  /* draw centered vertical line to link estimators */\n",
       "  background-image: linear-gradient(var(--sklearn-color-text-on-default-background), var(--sklearn-color-text-on-default-background));\n",
       "  background-size: 2px 100%;\n",
       "  background-repeat: no-repeat;\n",
       "  background-position: center center;\n",
       "}\n",
       "\n",
       "/* Parallel-specific style estimator block */\n",
       "\n",
       "#sk-container-id-1 div.sk-parallel-item::after {\n",
       "  content: \"\";\n",
       "  width: 100%;\n",
       "  border-bottom: 2px solid var(--sklearn-color-text-on-default-background);\n",
       "  flex-grow: 1;\n",
       "}\n",
       "\n",
       "#sk-container-id-1 div.sk-parallel {\n",
       "  display: flex;\n",
       "  align-items: stretch;\n",
       "  justify-content: center;\n",
       "  background-color: var(--sklearn-color-background);\n",
       "  position: relative;\n",
       "}\n",
       "\n",
       "#sk-container-id-1 div.sk-parallel-item {\n",
       "  display: flex;\n",
       "  flex-direction: column;\n",
       "}\n",
       "\n",
       "#sk-container-id-1 div.sk-parallel-item:first-child::after {\n",
       "  align-self: flex-end;\n",
       "  width: 50%;\n",
       "}\n",
       "\n",
       "#sk-container-id-1 div.sk-parallel-item:last-child::after {\n",
       "  align-self: flex-start;\n",
       "  width: 50%;\n",
       "}\n",
       "\n",
       "#sk-container-id-1 div.sk-parallel-item:only-child::after {\n",
       "  width: 0;\n",
       "}\n",
       "\n",
       "/* Serial-specific style estimator block */\n",
       "\n",
       "#sk-container-id-1 div.sk-serial {\n",
       "  display: flex;\n",
       "  flex-direction: column;\n",
       "  align-items: center;\n",
       "  background-color: var(--sklearn-color-background);\n",
       "  padding-right: 1em;\n",
       "  padding-left: 1em;\n",
       "}\n",
       "\n",
       "\n",
       "/* Toggleable style: style used for estimator/Pipeline/ColumnTransformer box that is\n",
       "clickable and can be expanded/collapsed.\n",
       "- Pipeline and ColumnTransformer use this feature and define the default style\n",
       "- Estimators will overwrite some part of the style using the `sk-estimator` class\n",
       "*/\n",
       "\n",
       "/* Pipeline and ColumnTransformer style (default) */\n",
       "\n",
       "#sk-container-id-1 div.sk-toggleable {\n",
       "  /* Default theme specific background. It is overwritten whether we have a\n",
       "  specific estimator or a Pipeline/ColumnTransformer */\n",
       "  background-color: var(--sklearn-color-background);\n",
       "}\n",
       "\n",
       "/* Toggleable label */\n",
       "#sk-container-id-1 label.sk-toggleable__label {\n",
       "  cursor: pointer;\n",
       "  display: flex;\n",
       "  width: 100%;\n",
       "  margin-bottom: 0;\n",
       "  padding: 0.5em;\n",
       "  box-sizing: border-box;\n",
       "  text-align: center;\n",
       "  align-items: start;\n",
       "  justify-content: space-between;\n",
       "  gap: 0.5em;\n",
       "}\n",
       "\n",
       "#sk-container-id-1 label.sk-toggleable__label .caption {\n",
       "  font-size: 0.6rem;\n",
       "  font-weight: lighter;\n",
       "  color: var(--sklearn-color-text-muted);\n",
       "}\n",
       "\n",
       "#sk-container-id-1 label.sk-toggleable__label-arrow:before {\n",
       "  /* Arrow on the left of the label */\n",
       "  content: \"▸\";\n",
       "  float: left;\n",
       "  margin-right: 0.25em;\n",
       "  color: var(--sklearn-color-icon);\n",
       "}\n",
       "\n",
       "#sk-container-id-1 label.sk-toggleable__label-arrow:hover:before {\n",
       "  color: var(--sklearn-color-text);\n",
       "}\n",
       "\n",
       "/* Toggleable content - dropdown */\n",
       "\n",
       "#sk-container-id-1 div.sk-toggleable__content {\n",
       "  max-height: 0;\n",
       "  max-width: 0;\n",
       "  overflow: hidden;\n",
       "  text-align: left;\n",
       "  /* unfitted */\n",
       "  background-color: var(--sklearn-color-unfitted-level-0);\n",
       "}\n",
       "\n",
       "#sk-container-id-1 div.sk-toggleable__content.fitted {\n",
       "  /* fitted */\n",
       "  background-color: var(--sklearn-color-fitted-level-0);\n",
       "}\n",
       "\n",
       "#sk-container-id-1 div.sk-toggleable__content pre {\n",
       "  margin: 0.2em;\n",
       "  border-radius: 0.25em;\n",
       "  color: var(--sklearn-color-text);\n",
       "  /* unfitted */\n",
       "  background-color: var(--sklearn-color-unfitted-level-0);\n",
       "}\n",
       "\n",
       "#sk-container-id-1 div.sk-toggleable__content.fitted pre {\n",
       "  /* unfitted */\n",
       "  background-color: var(--sklearn-color-fitted-level-0);\n",
       "}\n",
       "\n",
       "#sk-container-id-1 input.sk-toggleable__control:checked~div.sk-toggleable__content {\n",
       "  /* Expand drop-down */\n",
       "  max-height: 200px;\n",
       "  max-width: 100%;\n",
       "  overflow: auto;\n",
       "}\n",
       "\n",
       "#sk-container-id-1 input.sk-toggleable__control:checked~label.sk-toggleable__label-arrow:before {\n",
       "  content: \"▾\";\n",
       "}\n",
       "\n",
       "/* Pipeline/ColumnTransformer-specific style */\n",
       "\n",
       "#sk-container-id-1 div.sk-label input.sk-toggleable__control:checked~label.sk-toggleable__label {\n",
       "  color: var(--sklearn-color-text);\n",
       "  background-color: var(--sklearn-color-unfitted-level-2);\n",
       "}\n",
       "\n",
       "#sk-container-id-1 div.sk-label.fitted input.sk-toggleable__control:checked~label.sk-toggleable__label {\n",
       "  background-color: var(--sklearn-color-fitted-level-2);\n",
       "}\n",
       "\n",
       "/* Estimator-specific style */\n",
       "\n",
       "/* Colorize estimator box */\n",
       "#sk-container-id-1 div.sk-estimator input.sk-toggleable__control:checked~label.sk-toggleable__label {\n",
       "  /* unfitted */\n",
       "  background-color: var(--sklearn-color-unfitted-level-2);\n",
       "}\n",
       "\n",
       "#sk-container-id-1 div.sk-estimator.fitted input.sk-toggleable__control:checked~label.sk-toggleable__label {\n",
       "  /* fitted */\n",
       "  background-color: var(--sklearn-color-fitted-level-2);\n",
       "}\n",
       "\n",
       "#sk-container-id-1 div.sk-label label.sk-toggleable__label,\n",
       "#sk-container-id-1 div.sk-label label {\n",
       "  /* The background is the default theme color */\n",
       "  color: var(--sklearn-color-text-on-default-background);\n",
       "}\n",
       "\n",
       "/* On hover, darken the color of the background */\n",
       "#sk-container-id-1 div.sk-label:hover label.sk-toggleable__label {\n",
       "  color: var(--sklearn-color-text);\n",
       "  background-color: var(--sklearn-color-unfitted-level-2);\n",
       "}\n",
       "\n",
       "/* Label box, darken color on hover, fitted */\n",
       "#sk-container-id-1 div.sk-label.fitted:hover label.sk-toggleable__label.fitted {\n",
       "  color: var(--sklearn-color-text);\n",
       "  background-color: var(--sklearn-color-fitted-level-2);\n",
       "}\n",
       "\n",
       "/* Estimator label */\n",
       "\n",
       "#sk-container-id-1 div.sk-label label {\n",
       "  font-family: monospace;\n",
       "  font-weight: bold;\n",
       "  display: inline-block;\n",
       "  line-height: 1.2em;\n",
       "}\n",
       "\n",
       "#sk-container-id-1 div.sk-label-container {\n",
       "  text-align: center;\n",
       "}\n",
       "\n",
       "/* Estimator-specific */\n",
       "#sk-container-id-1 div.sk-estimator {\n",
       "  font-family: monospace;\n",
       "  border: 1px dotted var(--sklearn-color-border-box);\n",
       "  border-radius: 0.25em;\n",
       "  box-sizing: border-box;\n",
       "  margin-bottom: 0.5em;\n",
       "  /* unfitted */\n",
       "  background-color: var(--sklearn-color-unfitted-level-0);\n",
       "}\n",
       "\n",
       "#sk-container-id-1 div.sk-estimator.fitted {\n",
       "  /* fitted */\n",
       "  background-color: var(--sklearn-color-fitted-level-0);\n",
       "}\n",
       "\n",
       "/* on hover */\n",
       "#sk-container-id-1 div.sk-estimator:hover {\n",
       "  /* unfitted */\n",
       "  background-color: var(--sklearn-color-unfitted-level-2);\n",
       "}\n",
       "\n",
       "#sk-container-id-1 div.sk-estimator.fitted:hover {\n",
       "  /* fitted */\n",
       "  background-color: var(--sklearn-color-fitted-level-2);\n",
       "}\n",
       "\n",
       "/* Specification for estimator info (e.g. \"i\" and \"?\") */\n",
       "\n",
       "/* Common style for \"i\" and \"?\" */\n",
       "\n",
       ".sk-estimator-doc-link,\n",
       "a:link.sk-estimator-doc-link,\n",
       "a:visited.sk-estimator-doc-link {\n",
       "  float: right;\n",
       "  font-size: smaller;\n",
       "  line-height: 1em;\n",
       "  font-family: monospace;\n",
       "  background-color: var(--sklearn-color-background);\n",
       "  border-radius: 1em;\n",
       "  height: 1em;\n",
       "  width: 1em;\n",
       "  text-decoration: none !important;\n",
       "  margin-left: 0.5em;\n",
       "  text-align: center;\n",
       "  /* unfitted */\n",
       "  border: var(--sklearn-color-unfitted-level-1) 1pt solid;\n",
       "  color: var(--sklearn-color-unfitted-level-1);\n",
       "}\n",
       "\n",
       ".sk-estimator-doc-link.fitted,\n",
       "a:link.sk-estimator-doc-link.fitted,\n",
       "a:visited.sk-estimator-doc-link.fitted {\n",
       "  /* fitted */\n",
       "  border: var(--sklearn-color-fitted-level-1) 1pt solid;\n",
       "  color: var(--sklearn-color-fitted-level-1);\n",
       "}\n",
       "\n",
       "/* On hover */\n",
       "div.sk-estimator:hover .sk-estimator-doc-link:hover,\n",
       ".sk-estimator-doc-link:hover,\n",
       "div.sk-label-container:hover .sk-estimator-doc-link:hover,\n",
       ".sk-estimator-doc-link:hover {\n",
       "  /* unfitted */\n",
       "  background-color: var(--sklearn-color-unfitted-level-3);\n",
       "  color: var(--sklearn-color-background);\n",
       "  text-decoration: none;\n",
       "}\n",
       "\n",
       "div.sk-estimator.fitted:hover .sk-estimator-doc-link.fitted:hover,\n",
       ".sk-estimator-doc-link.fitted:hover,\n",
       "div.sk-label-container:hover .sk-estimator-doc-link.fitted:hover,\n",
       ".sk-estimator-doc-link.fitted:hover {\n",
       "  /* fitted */\n",
       "  background-color: var(--sklearn-color-fitted-level-3);\n",
       "  color: var(--sklearn-color-background);\n",
       "  text-decoration: none;\n",
       "}\n",
       "\n",
       "/* Span, style for the box shown on hovering the info icon */\n",
       ".sk-estimator-doc-link span {\n",
       "  display: none;\n",
       "  z-index: 9999;\n",
       "  position: relative;\n",
       "  font-weight: normal;\n",
       "  right: .2ex;\n",
       "  padding: .5ex;\n",
       "  margin: .5ex;\n",
       "  width: min-content;\n",
       "  min-width: 20ex;\n",
       "  max-width: 50ex;\n",
       "  color: var(--sklearn-color-text);\n",
       "  box-shadow: 2pt 2pt 4pt #999;\n",
       "  /* unfitted */\n",
       "  background: var(--sklearn-color-unfitted-level-0);\n",
       "  border: .5pt solid var(--sklearn-color-unfitted-level-3);\n",
       "}\n",
       "\n",
       ".sk-estimator-doc-link.fitted span {\n",
       "  /* fitted */\n",
       "  background: var(--sklearn-color-fitted-level-0);\n",
       "  border: var(--sklearn-color-fitted-level-3);\n",
       "}\n",
       "\n",
       ".sk-estimator-doc-link:hover span {\n",
       "  display: block;\n",
       "}\n",
       "\n",
       "/* \"?\"-specific style due to the `<a>` HTML tag */\n",
       "\n",
       "#sk-container-id-1 a.estimator_doc_link {\n",
       "  float: right;\n",
       "  font-size: 1rem;\n",
       "  line-height: 1em;\n",
       "  font-family: monospace;\n",
       "  background-color: var(--sklearn-color-background);\n",
       "  border-radius: 1rem;\n",
       "  height: 1rem;\n",
       "  width: 1rem;\n",
       "  text-decoration: none;\n",
       "  /* unfitted */\n",
       "  color: var(--sklearn-color-unfitted-level-1);\n",
       "  border: var(--sklearn-color-unfitted-level-1) 1pt solid;\n",
       "}\n",
       "\n",
       "#sk-container-id-1 a.estimator_doc_link.fitted {\n",
       "  /* fitted */\n",
       "  border: var(--sklearn-color-fitted-level-1) 1pt solid;\n",
       "  color: var(--sklearn-color-fitted-level-1);\n",
       "}\n",
       "\n",
       "/* On hover */\n",
       "#sk-container-id-1 a.estimator_doc_link:hover {\n",
       "  /* unfitted */\n",
       "  background-color: var(--sklearn-color-unfitted-level-3);\n",
       "  color: var(--sklearn-color-background);\n",
       "  text-decoration: none;\n",
       "}\n",
       "\n",
       "#sk-container-id-1 a.estimator_doc_link.fitted:hover {\n",
       "  /* fitted */\n",
       "  background-color: var(--sklearn-color-fitted-level-3);\n",
       "}\n",
       "</style><div id=\"sk-container-id-1\" class=\"sk-top-container\"><div class=\"sk-text-repr-fallback\"><pre>SGDClassifier()</pre><b>In a Jupyter environment, please rerun this cell to show the HTML representation or trust the notebook. <br />On GitHub, the HTML representation is unable to render, please try loading this page with nbviewer.org.</b></div><div class=\"sk-container\" hidden><div class=\"sk-item\"><div class=\"sk-estimator fitted sk-toggleable\"><input class=\"sk-toggleable__control sk-hidden--visually\" id=\"sk-estimator-id-1\" type=\"checkbox\" checked><label for=\"sk-estimator-id-1\" class=\"sk-toggleable__label fitted sk-toggleable__label-arrow\"><div><div>SGDClassifier</div></div><div><a class=\"sk-estimator-doc-link fitted\" rel=\"noreferrer\" target=\"_blank\" href=\"https://scikit-learn.org/1.6/modules/generated/sklearn.linear_model.SGDClassifier.html\">?<span>Documentation for SGDClassifier</span></a><span class=\"sk-estimator-doc-link fitted\">i<span>Fitted</span></span></div></label><div class=\"sk-toggleable__content fitted\"><pre>SGDClassifier()</pre></div> </div></div></div></div>"
      ]
     },
     "execution_count": 16,
     "metadata": {},
     "output_type": "execute_result"
    }
   ],
   "execution_count": 16
  },
  {
   "cell_type": "code",
   "source": [
    "y_train8"
   ],
   "metadata": {
    "colab": {
     "base_uri": "https://localhost:8080/"
    },
    "id": "UqpqJewycMSs",
    "outputId": "965fa969-d6a9-47f6-a6e6-4e17f38c4ad6",
    "ExecuteTime": {
     "end_time": "2025-04-06T09:33:10.930539Z",
     "start_time": "2025-04-06T09:33:10.927156Z"
    }
   },
   "outputs": [
    {
     "data": {
      "text/plain": [
       "array([False, False, False, ..., False, False,  True], shape=(60000,))"
      ]
     },
     "execution_count": 17,
     "metadata": {},
     "output_type": "execute_result"
    }
   ],
   "execution_count": 17
  },
  {
   "cell_type": "code",
   "source": [
    "sgd.predict(X_train[-3:])\n",
    "#این خط کد، پیش‌بینی‌های مدل sgd را برای سه تصویر آخر در مجموعه داده آموزشی (X_train[-3:]) نمایش می‌دهد.\n",
    "# و همانطور که میبینیم طبق کد قبل باید جواب فالس فالس و تروو باشد"
   ],
   "metadata": {
    "colab": {
     "base_uri": "https://localhost:8080/"
    },
    "id": "NCMuRjFxb47y",
    "outputId": "84d4c84c-c7e0-4c34-9b28-75a46e1911f3",
    "ExecuteTime": {
     "end_time": "2025-04-06T09:33:10.940143Z",
     "start_time": "2025-04-06T09:33:10.931552Z"
    }
   },
   "outputs": [
    {
     "data": {
      "text/plain": [
       "array([False, False,  True])"
      ]
     },
     "execution_count": 18,
     "metadata": {},
     "output_type": "execute_result"
    }
   ],
   "execution_count": 18
  },
  {
   "cell_type": "code",
   "source": [
    "sgd.score(X_train, y_train8)\n",
    "# score به صورت دیفالت میانگین اکیورسی رو میده"
   ],
   "metadata": {
    "colab": {
     "base_uri": "https://localhost:8080/"
    },
    "id": "tSPvWBaocPbi",
    "outputId": "3944b0cc-3666-4611-c18e-0294a4e3112a",
    "ExecuteTime": {
     "end_time": "2025-04-06T09:33:11.159096Z",
     "start_time": "2025-04-06T09:33:10.940647Z"
    }
   },
   "outputs": [
    {
     "data": {
      "text/plain": [
       "0.8228"
      ]
     },
     "execution_count": 19,
     "metadata": {},
     "output_type": "execute_result"
    }
   ],
   "execution_count": 19
  },
  {
   "metadata": {},
   "cell_type": "markdown",
   "source": [
    "---\n",
    "# cross_val_score\n",
    "#ولیدشن که مقداری برای پیش تست بود را اینجا هم تعیین میکنیم"
   ]
  },
  {
   "cell_type": "code",
   "source": [
    "from sklearn.model_selection import cross_val_score"
   ],
   "metadata": {
    "id": "xmI8DC4r9tPP",
    "ExecuteTime": {
     "end_time": "2025-04-06T09:33:11.162521Z",
     "start_time": "2025-04-06T09:33:11.159096Z"
    }
   },
   "outputs": [],
   "execution_count": 20
  },
  {
   "cell_type": "code",
   "source": "cross_val_score(sgd, X_train, y_train8, cv=5, scoring=\"accuracy\")\n",
   "metadata": {
    "colab": {
     "base_uri": "https://localhost:8080/"
    },
    "id": "-h3-tjiD91i0",
    "outputId": "eb11e941-f827-4583-ffa0-d01daf85b8c3",
    "ExecuteTime": {
     "end_time": "2025-04-06T09:34:21.573660Z",
     "start_time": "2025-04-06T09:33:11.162521Z"
    }
   },
   "outputs": [
    {
     "data": {
      "text/plain": [
       "array([0.93875   , 0.94433333, 0.92491667, 0.91483333, 0.86175   ])"
      ]
     },
     "execution_count": 21,
     "metadata": {},
     "output_type": "execute_result"
    }
   ],
   "execution_count": 21
  },
  {
   "metadata": {},
   "cell_type": "markdown",
   "source": ""
  },
  {
   "metadata": {},
   "cell_type": "markdown",
   "source": "# DummyClassifier\n"
  },
  {
   "metadata": {},
   "cell_type": "markdown",
   "source": [
    "\"\"\"\n",
    " DummyClassifier چیست و آیا به درد می‌خورد؟\n",
    "\n",
    "بله، DummyClassifier در بعضی مواقع بسیار مفید است، اما برای پیش‌بینی واقعی از آن استفاده نمی‌کنیم!\n",
    "\n",
    "🔹 DummyClassifier چیست؟\n",
    "\n",
    "    DummyClassifier یک مدل خیلی ساده و احمقانه (Dummy) در sklearn است\n",
    "     که بدون یادگیری از داده‌ها، فقط با یک استراتژی ساده پیش‌بینی انجام می‌دهد. این مدل برای مقایسه عملکرد مدل‌های یادگیری ماشین واقعی استفاده می‌شود.\n",
    "    \n",
    "\n",
    "🔹  آیا DummyClassifier به درد می‌خورد\n",
    "\n",
    "    ✅ بله، اما نه برای پیش‌بینی‌های واقعی!\n",
    "    ✅ برای مقایسه‌ی عملکرد مدل‌های واقعی و بررسی این که آیا مدل یادگیری ماشین چیزی از داده یاد گرفته یا فقط تصادفی پیش‌بینی می‌کند، فوق‌العاده مفید است.\n",
    "    ✅ اگر مدل واقعی شما فقط کمی بهتر از DummyClassifier بود، یعنی مشکل دارید\n",
    "\n",
    "    🔄 بررسی تأثیر توزیع کلاس‌ها\n",
    "    در مسائل طبقه‌بندی نامتوازن (مثلاً وقتی ۹۵٪ داده‌ها کلاس ۱ هستند و ۵٪ کلاس ۰)، مدل‌های یادگیری ممکن است فقط کلاس غالب را پیش‌بینی کنند.\n",
    "     DummyClassifier کمک می‌کند بفهمیم آیا مدل واقعی ما بهتر از حدس تصادفی است یا نه.\n",
    "\n",
    "    ✅ تست کد و پایپ‌لاین داده‌ها\n",
    "    اگر یک مدل پیچیده اجرا نمی‌شود، می‌توان از DummyClassifier استفاده کرد تا ببینیم آیا مشکل از کد است یا مدل\n",
    "    \n",
    "🔹 آیا DummyClassifier در مسائل رگرسیون هم هست؟\n",
    "\n",
    "    بله! نسخه‌ی مشابه آن برای رگرسیون DummyRegressor است که مقدار ثابت یا تصادفی پیش‌بینی می‌کند\n",
    "\"\"\""
   ]
  },
  {
   "cell_type": "code",
   "source": [
    "from sklearn.dummy import DummyClassifier\n",
    "\n",
    "# DummyClassifier میاد بیشترین کلاسی که وجود داره را نشان میده"
   ],
   "metadata": {
    "id": "d2N2cKWF9_Le",
    "ExecuteTime": {
     "end_time": "2025-04-06T09:34:21.595047Z",
     "start_time": "2025-04-06T09:34:21.574670Z"
    }
   },
   "outputs": [],
   "execution_count": 22
  },
  {
   "cell_type": "code",
   "source": [
    "dummy_c = DummyClassifier()\n",
    "dummy_c.fit(X_train, y_train8)"
   ],
   "metadata": {
    "colab": {
     "base_uri": "https://localhost:8080/",
     "height": 74
    },
    "id": "XjECGYto-tmw",
    "outputId": "e36c7eca-fe42-4e86-ce83-8975347ff90f",
    "ExecuteTime": {
     "end_time": "2025-04-06T09:34:21.603859Z",
     "start_time": "2025-04-06T09:34:21.596557Z"
    }
   },
   "outputs": [
    {
     "data": {
      "text/plain": [
       "DummyClassifier()"
      ],
      "text/html": [
       "<style>#sk-container-id-2 {\n",
       "  /* Definition of color scheme common for light and dark mode */\n",
       "  --sklearn-color-text: #000;\n",
       "  --sklearn-color-text-muted: #666;\n",
       "  --sklearn-color-line: gray;\n",
       "  /* Definition of color scheme for unfitted estimators */\n",
       "  --sklearn-color-unfitted-level-0: #fff5e6;\n",
       "  --sklearn-color-unfitted-level-1: #f6e4d2;\n",
       "  --sklearn-color-unfitted-level-2: #ffe0b3;\n",
       "  --sklearn-color-unfitted-level-3: chocolate;\n",
       "  /* Definition of color scheme for fitted estimators */\n",
       "  --sklearn-color-fitted-level-0: #f0f8ff;\n",
       "  --sklearn-color-fitted-level-1: #d4ebff;\n",
       "  --sklearn-color-fitted-level-2: #b3dbfd;\n",
       "  --sklearn-color-fitted-level-3: cornflowerblue;\n",
       "\n",
       "  /* Specific color for light theme */\n",
       "  --sklearn-color-text-on-default-background: var(--sg-text-color, var(--theme-code-foreground, var(--jp-content-font-color1, black)));\n",
       "  --sklearn-color-background: var(--sg-background-color, var(--theme-background, var(--jp-layout-color0, white)));\n",
       "  --sklearn-color-border-box: var(--sg-text-color, var(--theme-code-foreground, var(--jp-content-font-color1, black)));\n",
       "  --sklearn-color-icon: #696969;\n",
       "\n",
       "  @media (prefers-color-scheme: dark) {\n",
       "    /* Redefinition of color scheme for dark theme */\n",
       "    --sklearn-color-text-on-default-background: var(--sg-text-color, var(--theme-code-foreground, var(--jp-content-font-color1, white)));\n",
       "    --sklearn-color-background: var(--sg-background-color, var(--theme-background, var(--jp-layout-color0, #111)));\n",
       "    --sklearn-color-border-box: var(--sg-text-color, var(--theme-code-foreground, var(--jp-content-font-color1, white)));\n",
       "    --sklearn-color-icon: #878787;\n",
       "  }\n",
       "}\n",
       "\n",
       "#sk-container-id-2 {\n",
       "  color: var(--sklearn-color-text);\n",
       "}\n",
       "\n",
       "#sk-container-id-2 pre {\n",
       "  padding: 0;\n",
       "}\n",
       "\n",
       "#sk-container-id-2 input.sk-hidden--visually {\n",
       "  border: 0;\n",
       "  clip: rect(1px 1px 1px 1px);\n",
       "  clip: rect(1px, 1px, 1px, 1px);\n",
       "  height: 1px;\n",
       "  margin: -1px;\n",
       "  overflow: hidden;\n",
       "  padding: 0;\n",
       "  position: absolute;\n",
       "  width: 1px;\n",
       "}\n",
       "\n",
       "#sk-container-id-2 div.sk-dashed-wrapped {\n",
       "  border: 1px dashed var(--sklearn-color-line);\n",
       "  margin: 0 0.4em 0.5em 0.4em;\n",
       "  box-sizing: border-box;\n",
       "  padding-bottom: 0.4em;\n",
       "  background-color: var(--sklearn-color-background);\n",
       "}\n",
       "\n",
       "#sk-container-id-2 div.sk-container {\n",
       "  /* jupyter's `normalize.less` sets `[hidden] { display: none; }`\n",
       "     but bootstrap.min.css set `[hidden] { display: none !important; }`\n",
       "     so we also need the `!important` here to be able to override the\n",
       "     default hidden behavior on the sphinx rendered scikit-learn.org.\n",
       "     See: https://github.com/scikit-learn/scikit-learn/issues/21755 */\n",
       "  display: inline-block !important;\n",
       "  position: relative;\n",
       "}\n",
       "\n",
       "#sk-container-id-2 div.sk-text-repr-fallback {\n",
       "  display: none;\n",
       "}\n",
       "\n",
       "div.sk-parallel-item,\n",
       "div.sk-serial,\n",
       "div.sk-item {\n",
       "  /* draw centered vertical line to link estimators */\n",
       "  background-image: linear-gradient(var(--sklearn-color-text-on-default-background), var(--sklearn-color-text-on-default-background));\n",
       "  background-size: 2px 100%;\n",
       "  background-repeat: no-repeat;\n",
       "  background-position: center center;\n",
       "}\n",
       "\n",
       "/* Parallel-specific style estimator block */\n",
       "\n",
       "#sk-container-id-2 div.sk-parallel-item::after {\n",
       "  content: \"\";\n",
       "  width: 100%;\n",
       "  border-bottom: 2px solid var(--sklearn-color-text-on-default-background);\n",
       "  flex-grow: 1;\n",
       "}\n",
       "\n",
       "#sk-container-id-2 div.sk-parallel {\n",
       "  display: flex;\n",
       "  align-items: stretch;\n",
       "  justify-content: center;\n",
       "  background-color: var(--sklearn-color-background);\n",
       "  position: relative;\n",
       "}\n",
       "\n",
       "#sk-container-id-2 div.sk-parallel-item {\n",
       "  display: flex;\n",
       "  flex-direction: column;\n",
       "}\n",
       "\n",
       "#sk-container-id-2 div.sk-parallel-item:first-child::after {\n",
       "  align-self: flex-end;\n",
       "  width: 50%;\n",
       "}\n",
       "\n",
       "#sk-container-id-2 div.sk-parallel-item:last-child::after {\n",
       "  align-self: flex-start;\n",
       "  width: 50%;\n",
       "}\n",
       "\n",
       "#sk-container-id-2 div.sk-parallel-item:only-child::after {\n",
       "  width: 0;\n",
       "}\n",
       "\n",
       "/* Serial-specific style estimator block */\n",
       "\n",
       "#sk-container-id-2 div.sk-serial {\n",
       "  display: flex;\n",
       "  flex-direction: column;\n",
       "  align-items: center;\n",
       "  background-color: var(--sklearn-color-background);\n",
       "  padding-right: 1em;\n",
       "  padding-left: 1em;\n",
       "}\n",
       "\n",
       "\n",
       "/* Toggleable style: style used for estimator/Pipeline/ColumnTransformer box that is\n",
       "clickable and can be expanded/collapsed.\n",
       "- Pipeline and ColumnTransformer use this feature and define the default style\n",
       "- Estimators will overwrite some part of the style using the `sk-estimator` class\n",
       "*/\n",
       "\n",
       "/* Pipeline and ColumnTransformer style (default) */\n",
       "\n",
       "#sk-container-id-2 div.sk-toggleable {\n",
       "  /* Default theme specific background. It is overwritten whether we have a\n",
       "  specific estimator or a Pipeline/ColumnTransformer */\n",
       "  background-color: var(--sklearn-color-background);\n",
       "}\n",
       "\n",
       "/* Toggleable label */\n",
       "#sk-container-id-2 label.sk-toggleable__label {\n",
       "  cursor: pointer;\n",
       "  display: flex;\n",
       "  width: 100%;\n",
       "  margin-bottom: 0;\n",
       "  padding: 0.5em;\n",
       "  box-sizing: border-box;\n",
       "  text-align: center;\n",
       "  align-items: start;\n",
       "  justify-content: space-between;\n",
       "  gap: 0.5em;\n",
       "}\n",
       "\n",
       "#sk-container-id-2 label.sk-toggleable__label .caption {\n",
       "  font-size: 0.6rem;\n",
       "  font-weight: lighter;\n",
       "  color: var(--sklearn-color-text-muted);\n",
       "}\n",
       "\n",
       "#sk-container-id-2 label.sk-toggleable__label-arrow:before {\n",
       "  /* Arrow on the left of the label */\n",
       "  content: \"▸\";\n",
       "  float: left;\n",
       "  margin-right: 0.25em;\n",
       "  color: var(--sklearn-color-icon);\n",
       "}\n",
       "\n",
       "#sk-container-id-2 label.sk-toggleable__label-arrow:hover:before {\n",
       "  color: var(--sklearn-color-text);\n",
       "}\n",
       "\n",
       "/* Toggleable content - dropdown */\n",
       "\n",
       "#sk-container-id-2 div.sk-toggleable__content {\n",
       "  max-height: 0;\n",
       "  max-width: 0;\n",
       "  overflow: hidden;\n",
       "  text-align: left;\n",
       "  /* unfitted */\n",
       "  background-color: var(--sklearn-color-unfitted-level-0);\n",
       "}\n",
       "\n",
       "#sk-container-id-2 div.sk-toggleable__content.fitted {\n",
       "  /* fitted */\n",
       "  background-color: var(--sklearn-color-fitted-level-0);\n",
       "}\n",
       "\n",
       "#sk-container-id-2 div.sk-toggleable__content pre {\n",
       "  margin: 0.2em;\n",
       "  border-radius: 0.25em;\n",
       "  color: var(--sklearn-color-text);\n",
       "  /* unfitted */\n",
       "  background-color: var(--sklearn-color-unfitted-level-0);\n",
       "}\n",
       "\n",
       "#sk-container-id-2 div.sk-toggleable__content.fitted pre {\n",
       "  /* unfitted */\n",
       "  background-color: var(--sklearn-color-fitted-level-0);\n",
       "}\n",
       "\n",
       "#sk-container-id-2 input.sk-toggleable__control:checked~div.sk-toggleable__content {\n",
       "  /* Expand drop-down */\n",
       "  max-height: 200px;\n",
       "  max-width: 100%;\n",
       "  overflow: auto;\n",
       "}\n",
       "\n",
       "#sk-container-id-2 input.sk-toggleable__control:checked~label.sk-toggleable__label-arrow:before {\n",
       "  content: \"▾\";\n",
       "}\n",
       "\n",
       "/* Pipeline/ColumnTransformer-specific style */\n",
       "\n",
       "#sk-container-id-2 div.sk-label input.sk-toggleable__control:checked~label.sk-toggleable__label {\n",
       "  color: var(--sklearn-color-text);\n",
       "  background-color: var(--sklearn-color-unfitted-level-2);\n",
       "}\n",
       "\n",
       "#sk-container-id-2 div.sk-label.fitted input.sk-toggleable__control:checked~label.sk-toggleable__label {\n",
       "  background-color: var(--sklearn-color-fitted-level-2);\n",
       "}\n",
       "\n",
       "/* Estimator-specific style */\n",
       "\n",
       "/* Colorize estimator box */\n",
       "#sk-container-id-2 div.sk-estimator input.sk-toggleable__control:checked~label.sk-toggleable__label {\n",
       "  /* unfitted */\n",
       "  background-color: var(--sklearn-color-unfitted-level-2);\n",
       "}\n",
       "\n",
       "#sk-container-id-2 div.sk-estimator.fitted input.sk-toggleable__control:checked~label.sk-toggleable__label {\n",
       "  /* fitted */\n",
       "  background-color: var(--sklearn-color-fitted-level-2);\n",
       "}\n",
       "\n",
       "#sk-container-id-2 div.sk-label label.sk-toggleable__label,\n",
       "#sk-container-id-2 div.sk-label label {\n",
       "  /* The background is the default theme color */\n",
       "  color: var(--sklearn-color-text-on-default-background);\n",
       "}\n",
       "\n",
       "/* On hover, darken the color of the background */\n",
       "#sk-container-id-2 div.sk-label:hover label.sk-toggleable__label {\n",
       "  color: var(--sklearn-color-text);\n",
       "  background-color: var(--sklearn-color-unfitted-level-2);\n",
       "}\n",
       "\n",
       "/* Label box, darken color on hover, fitted */\n",
       "#sk-container-id-2 div.sk-label.fitted:hover label.sk-toggleable__label.fitted {\n",
       "  color: var(--sklearn-color-text);\n",
       "  background-color: var(--sklearn-color-fitted-level-2);\n",
       "}\n",
       "\n",
       "/* Estimator label */\n",
       "\n",
       "#sk-container-id-2 div.sk-label label {\n",
       "  font-family: monospace;\n",
       "  font-weight: bold;\n",
       "  display: inline-block;\n",
       "  line-height: 1.2em;\n",
       "}\n",
       "\n",
       "#sk-container-id-2 div.sk-label-container {\n",
       "  text-align: center;\n",
       "}\n",
       "\n",
       "/* Estimator-specific */\n",
       "#sk-container-id-2 div.sk-estimator {\n",
       "  font-family: monospace;\n",
       "  border: 1px dotted var(--sklearn-color-border-box);\n",
       "  border-radius: 0.25em;\n",
       "  box-sizing: border-box;\n",
       "  margin-bottom: 0.5em;\n",
       "  /* unfitted */\n",
       "  background-color: var(--sklearn-color-unfitted-level-0);\n",
       "}\n",
       "\n",
       "#sk-container-id-2 div.sk-estimator.fitted {\n",
       "  /* fitted */\n",
       "  background-color: var(--sklearn-color-fitted-level-0);\n",
       "}\n",
       "\n",
       "/* on hover */\n",
       "#sk-container-id-2 div.sk-estimator:hover {\n",
       "  /* unfitted */\n",
       "  background-color: var(--sklearn-color-unfitted-level-2);\n",
       "}\n",
       "\n",
       "#sk-container-id-2 div.sk-estimator.fitted:hover {\n",
       "  /* fitted */\n",
       "  background-color: var(--sklearn-color-fitted-level-2);\n",
       "}\n",
       "\n",
       "/* Specification for estimator info (e.g. \"i\" and \"?\") */\n",
       "\n",
       "/* Common style for \"i\" and \"?\" */\n",
       "\n",
       ".sk-estimator-doc-link,\n",
       "a:link.sk-estimator-doc-link,\n",
       "a:visited.sk-estimator-doc-link {\n",
       "  float: right;\n",
       "  font-size: smaller;\n",
       "  line-height: 1em;\n",
       "  font-family: monospace;\n",
       "  background-color: var(--sklearn-color-background);\n",
       "  border-radius: 1em;\n",
       "  height: 1em;\n",
       "  width: 1em;\n",
       "  text-decoration: none !important;\n",
       "  margin-left: 0.5em;\n",
       "  text-align: center;\n",
       "  /* unfitted */\n",
       "  border: var(--sklearn-color-unfitted-level-1) 1pt solid;\n",
       "  color: var(--sklearn-color-unfitted-level-1);\n",
       "}\n",
       "\n",
       ".sk-estimator-doc-link.fitted,\n",
       "a:link.sk-estimator-doc-link.fitted,\n",
       "a:visited.sk-estimator-doc-link.fitted {\n",
       "  /* fitted */\n",
       "  border: var(--sklearn-color-fitted-level-1) 1pt solid;\n",
       "  color: var(--sklearn-color-fitted-level-1);\n",
       "}\n",
       "\n",
       "/* On hover */\n",
       "div.sk-estimator:hover .sk-estimator-doc-link:hover,\n",
       ".sk-estimator-doc-link:hover,\n",
       "div.sk-label-container:hover .sk-estimator-doc-link:hover,\n",
       ".sk-estimator-doc-link:hover {\n",
       "  /* unfitted */\n",
       "  background-color: var(--sklearn-color-unfitted-level-3);\n",
       "  color: var(--sklearn-color-background);\n",
       "  text-decoration: none;\n",
       "}\n",
       "\n",
       "div.sk-estimator.fitted:hover .sk-estimator-doc-link.fitted:hover,\n",
       ".sk-estimator-doc-link.fitted:hover,\n",
       "div.sk-label-container:hover .sk-estimator-doc-link.fitted:hover,\n",
       ".sk-estimator-doc-link.fitted:hover {\n",
       "  /* fitted */\n",
       "  background-color: var(--sklearn-color-fitted-level-3);\n",
       "  color: var(--sklearn-color-background);\n",
       "  text-decoration: none;\n",
       "}\n",
       "\n",
       "/* Span, style for the box shown on hovering the info icon */\n",
       ".sk-estimator-doc-link span {\n",
       "  display: none;\n",
       "  z-index: 9999;\n",
       "  position: relative;\n",
       "  font-weight: normal;\n",
       "  right: .2ex;\n",
       "  padding: .5ex;\n",
       "  margin: .5ex;\n",
       "  width: min-content;\n",
       "  min-width: 20ex;\n",
       "  max-width: 50ex;\n",
       "  color: var(--sklearn-color-text);\n",
       "  box-shadow: 2pt 2pt 4pt #999;\n",
       "  /* unfitted */\n",
       "  background: var(--sklearn-color-unfitted-level-0);\n",
       "  border: .5pt solid var(--sklearn-color-unfitted-level-3);\n",
       "}\n",
       "\n",
       ".sk-estimator-doc-link.fitted span {\n",
       "  /* fitted */\n",
       "  background: var(--sklearn-color-fitted-level-0);\n",
       "  border: var(--sklearn-color-fitted-level-3);\n",
       "}\n",
       "\n",
       ".sk-estimator-doc-link:hover span {\n",
       "  display: block;\n",
       "}\n",
       "\n",
       "/* \"?\"-specific style due to the `<a>` HTML tag */\n",
       "\n",
       "#sk-container-id-2 a.estimator_doc_link {\n",
       "  float: right;\n",
       "  font-size: 1rem;\n",
       "  line-height: 1em;\n",
       "  font-family: monospace;\n",
       "  background-color: var(--sklearn-color-background);\n",
       "  border-radius: 1rem;\n",
       "  height: 1rem;\n",
       "  width: 1rem;\n",
       "  text-decoration: none;\n",
       "  /* unfitted */\n",
       "  color: var(--sklearn-color-unfitted-level-1);\n",
       "  border: var(--sklearn-color-unfitted-level-1) 1pt solid;\n",
       "}\n",
       "\n",
       "#sk-container-id-2 a.estimator_doc_link.fitted {\n",
       "  /* fitted */\n",
       "  border: var(--sklearn-color-fitted-level-1) 1pt solid;\n",
       "  color: var(--sklearn-color-fitted-level-1);\n",
       "}\n",
       "\n",
       "/* On hover */\n",
       "#sk-container-id-2 a.estimator_doc_link:hover {\n",
       "  /* unfitted */\n",
       "  background-color: var(--sklearn-color-unfitted-level-3);\n",
       "  color: var(--sklearn-color-background);\n",
       "  text-decoration: none;\n",
       "}\n",
       "\n",
       "#sk-container-id-2 a.estimator_doc_link.fitted:hover {\n",
       "  /* fitted */\n",
       "  background-color: var(--sklearn-color-fitted-level-3);\n",
       "}\n",
       "</style><div id=\"sk-container-id-2\" class=\"sk-top-container\"><div class=\"sk-text-repr-fallback\"><pre>DummyClassifier()</pre><b>In a Jupyter environment, please rerun this cell to show the HTML representation or trust the notebook. <br />On GitHub, the HTML representation is unable to render, please try loading this page with nbviewer.org.</b></div><div class=\"sk-container\" hidden><div class=\"sk-item\"><div class=\"sk-estimator fitted sk-toggleable\"><input class=\"sk-toggleable__control sk-hidden--visually\" id=\"sk-estimator-id-2\" type=\"checkbox\" checked><label for=\"sk-estimator-id-2\" class=\"sk-toggleable__label fitted sk-toggleable__label-arrow\"><div><div>DummyClassifier</div></div><div><a class=\"sk-estimator-doc-link fitted\" rel=\"noreferrer\" target=\"_blank\" href=\"https://scikit-learn.org/1.6/modules/generated/sklearn.dummy.DummyClassifier.html\">?<span>Documentation for DummyClassifier</span></a><span class=\"sk-estimator-doc-link fitted\">i<span>Fitted</span></span></div></label><div class=\"sk-toggleable__content fitted\"><pre>DummyClassifier()</pre></div> </div></div></div></div>"
      ]
     },
     "execution_count": 23,
     "metadata": {},
     "output_type": "execute_result"
    }
   ],
   "execution_count": 23
  },
  {
   "cell_type": "code",
   "source": "dummy_c.predict(X_train).sum()",
   "metadata": {
    "colab": {
     "base_uri": "https://localhost:8080/"
    },
    "id": "HDZteyRj-1Sl",
    "outputId": "dae3f827-c1b1-4c4e-b335-658e20887af5",
    "ExecuteTime": {
     "end_time": "2025-04-06T09:34:21.610096Z",
     "start_time": "2025-04-06T09:34:21.604874Z"
    }
   },
   "outputs": [
    {
     "data": {
      "text/plain": [
       "np.int64(0)"
      ]
     },
     "execution_count": 24,
     "metadata": {},
     "output_type": "execute_result"
    }
   ],
   "execution_count": 24
  },
  {
   "cell_type": "code",
   "source": [
    "cross_val_score(dummy_c, X_train, y_train8, cv=5, scoring=\"accuracy\")"
   ],
   "metadata": {
    "colab": {
     "base_uri": "https://localhost:8080/"
    },
    "id": "h1Tmg-Ji_FFH",
    "outputId": "836153f6-f34e-40f0-db64-ff1bd196bc95",
    "ExecuteTime": {
     "end_time": "2025-04-06T09:34:22.579138Z",
     "start_time": "2025-04-06T09:34:21.610096Z"
    }
   },
   "outputs": [
    {
     "data": {
      "text/plain": [
       "array([0.9025    , 0.9025    , 0.9025    , 0.9025    , 0.90241667])"
      ]
     },
     "execution_count": 25,
     "metadata": {},
     "output_type": "execute_result"
    }
   ],
   "execution_count": 25
  },
  {
   "metadata": {},
   "cell_type": "markdown",
   "source": ""
  },
  {
   "metadata": {},
   "cell_type": "markdown",
   "source": [
    "\n",
    "# StratifiedKFold  \n",
    "####اعتبارسنجی متقابل لایه‌بندی شده با K زیرمجموعه\n",
    "\"\"\"\n",
    "\"متقابل\" در اعتبارسنجی متقابل به این معنی است که بخش‌های مختلف داده‌ها به طور چرخشی و متناوب برای آموزش و ارزیابی مدل استفاده می‌شوند.\n",
    "        \n",
    "        در StratifiedKFold، علاوه بر حفظ نسبت کلاس‌ها در هر زیرمجموعه (که وظیفه \"لایه بندی\" یا \"Stratified\" است)، از روش اعتبارسنجی متقابل K-Fold نیز استفاده می‌شود.\n",
    "        به عبارت دیگر، داده‌ها به K زیرمجموعه تقسیم می‌شوند و در هر تکرار، یک زیرمجموعه به عنوان مجموعه آزمایشی و بقیه زیرمجموعه‌ها به عنوان مجموعه آموزشی استفاده می‌شوند.\n",
    "        این فرایند به صورت چرخشی بین زیر مجموعه ها انجام می شود.\n",
    "        بنابراین، \"متقابل\" در اینجا نشان‌دهنده همین استفاده چرخشی و متناوب از زیرمجموعه‌ها برای آموزش و ارزیابی مدل است.\n",
    "\"\"\""
   ]
  },
  {
   "metadata": {},
   "cell_type": "markdown",
   "source": ""
  },
  {
   "cell_type": "code",
   "source": [
    "#StratifiedKFold یک تکنیک اعتبارسنجی متقابل (cross-validation) در یادگیری ماشین است که برای تقسیم مجموعه داده‌ها به زیرمجموعه‌های آموزشی و اعتبارسنجی (یا آزمایشی) استفاده می‌شود، به طوری که توزیع کلاس‌ها در هر زیرمجموعه مشابه توزیع کلاس‌ها در مجموعه داده اصلی باشد.\n",
    "\n",
    "#کاربرد StratifiedKFold:\n",
    "    # StratifiedKFold برای ارزیابی عملکرد مدل در چندین زیرمجموعه از داده‌ها استفاده می‌شود.\n",
    "    # این روش برای ارزیابی عملکرد مدل در شرایط مختلف و کاهش واریانس نتایج مناسب است.\n",
    "    # این روش به خصوص برای مجموعه‌های داده‌های کوچک مفید است، زیرا امکان استفاده از تمام داده‌ها برای آموزش و اعتبارسنجی را فراهم می‌کند.\n",
    "\n",
    "from sklearn.model_selection import StratifiedKFold\n",
    "from sklearn.base import clone"
   ],
   "metadata": {
    "id": "joaFsV02yXGy",
    "ExecuteTime": {
     "end_time": "2025-04-06T09:34:22.584186Z",
     "start_time": "2025-04-06T09:34:22.580147Z"
    }
   },
   "outputs": [],
   "execution_count": 26
  },
  {
   "cell_type": "code",
   "source": [
    "skf = StratifiedKFold(n_splits=5)"
   ],
   "metadata": {
    "id": "1ud46MMtzHir",
    "ExecuteTime": {
     "end_time": "2025-04-06T09:34:22.588912Z",
     "start_time": "2025-04-06T09:34:22.584691Z"
    }
   },
   "outputs": [],
   "execution_count": 27
  },
  {
   "cell_type": "code",
   "source": [
    "for train_i, test_i in skf.split(X_train, y_train8):\n",
    "  cloned_sgd = clone(sgd)\n",
    "  X_train_f = X_train[train_i]\n",
    "  y_train8_f = y_train8[train_i]\n",
    "  X_test_f = X_train[test_i]\n",
    "  y_test_f = y_train8[test_i]\n",
    "\n",
    "  cloned_sgd.fit(X_train_f, y_train8_f)\n",
    "  y_pred = cloned_sgd.predict(X_test_f)\n",
    "  correct_predictions = (y_pred == y_test_f).sum()\n",
    "  print(correct_predictions/len(y_pred))"
   ],
   "metadata": {
    "colab": {
     "base_uri": "https://localhost:8080/"
    },
    "id": "lyaDRcAGzNdV",
    "outputId": "1f0cba41-591c-4323-9621-5518a9b4bb12",
    "ExecuteTime": {
     "end_time": "2025-04-06T09:35:25.006355Z",
     "start_time": "2025-04-06T09:34:22.593974Z"
    }
   },
   "outputs": [
    {
     "name": "stdout",
     "output_type": "stream",
     "text": [
      "0.9305\n",
      "0.8939166666666667\n",
      "0.9218333333333333\n",
      "0.90125\n",
      "0.93425\n"
     ]
    }
   ],
   "execution_count": 28
  },
  {
   "metadata": {
    "ExecuteTime": {
     "end_time": "2025-04-06T09:36:29.237171Z",
     "start_time": "2025-04-06T09:35:25.006861Z"
    }
   },
   "cell_type": "code",
   "source": [
    "# به جای حلقه فور بالا میشه از cross_val_score استفاده کرد\n",
    "#یعنی وقتی از cross_val_score استفاده می‌کنید و مقدار cv=5 را تنظیم می‌کنید، اگر متغیر هدف شما طبقه‌بندی باشد (یعنی y_train8 شامل کلاس‌های گسسته باشد)، به‌طور خودکار از StratifiedKFold برای تقسیم داده‌ها استفاده می‌کند.\n",
    "from sklearn.model_selection import cross_val_score\n",
    "\n",
    "scores = cross_val_score(sgd, X_train, y_train8, cv=5, scoring=\"accuracy\")\n",
    "print(scores)\n",
    "\n",
    "#cross_val_score هم برای طبقه‌بندی و هم برای رگرسیون کار می‌کند، ولی نوع تقسیم داده‌ها (KFold یا StratifiedKFold) بسته به نوع y_train8 متفاوت خواهد بود.\n",
    "\n",
    "#نکته مهم : توجه شود که cross_val_score یک ابزار برای انجام Cross Validation است، نه یک معیار ارزیابی!\n"
   ],
   "outputs": [
    {
     "name": "stdout",
     "output_type": "stream",
     "text": [
      "[0.93875    0.92975    0.92816667 0.93416667 0.94183333]\n"
     ]
    }
   ],
   "execution_count": 29
  },
  {
   "metadata": {},
   "cell_type": "markdown",
   "source": [
    "\n",
    " # معیارهای ارزیابی برای رگرسیون (Regression Metrics)\n",
    "\"\"\"\n",
    "۱. خطای میانگین مطلق (Mean Absolute Error - MAE)\n",
    "\n",
    "    🔹 میانگین قدر مطلق اختلاف بین مقدار واقعی و مقدار پیش‌بینی‌شده را نشان می‌دهد.\n",
    "    🔹 مناسب برای زمانی که همه خطاها اهمیت یکسانی دارند.\n",
    "\n",
    "\n",
    "۲. خطای میانگین مربعات (Mean Squared Error - MSE)\n",
    "\n",
    "    🔹 مثل MAE است، اما خطاهای بزرگ را بیشتر جریمه می‌کند، چون مقدار را به توان ۲ می‌برد.\n",
    "    🔹 باعث می‌شود مدل روی کاهش خطاهای بزرگ‌تر تمرکز کند.\n",
    "\n",
    "\n",
    "۳. ریشه‌ی خطای میانگین مربعات (Root Mean Squared Error - RMSE)\n",
    "\n",
    "    🔹 چون MSE مقدار را به توان ۲ می‌برد، واحد آن متفاوت از مقدار اصلی است. برای بازگرداندن واحد به مقیاس اصلی، از ریشه‌ی دوم استفاده می‌شود.\n",
    "\n",
    "\n",
    "۴. ضریب تعیین (R² Score یا Coefficient of Determination)\n",
    "\n",
    "    🔹 نشان می‌دهد مدل چقدر خوب تغییرات داده را توضیح می‌دهد.\n",
    "    🔹 مقدار آن بین ۰ تا ۱ است (هرچه به ۱ نزدیک‌تر باشد، مدل بهتر است).\n",
    "    🔹 اگر R² منفی شود، یعنی مدل حتی از یک حدس تصادفی هم بدتر است!\n",
    "   \"\"\""
   ]
  },
  {
   "metadata": {},
   "cell_type": "markdown",
   "source": [
    "---\n",
    "\"\"\"\n",
    "#  معیارهای ارزیابی برای طبقه‌بندی (Classification Metrics)\n",
    "\n",
    "۱. ماتریس سردرگمی (Confusion Matrix)\n",
    "🔹 یک جدول است که تعداد نمونه‌های درست و غلط پیش‌بینی‌شده را برای هر کلاس نشان می‌دهد.\n",
    "\n",
    "    مقدارها در ماتریس سردرگمی:\n",
    "\n",
    "    TP: مدل به درستی یک نمونه مثبت را مثبت پیش‌بینی کرده است.\n",
    "    FP: مدل به اشتباه یک نمونه منفی را مثبت پیش‌بینی کرده است (خطای نوع اول).\n",
    "    FN: مدل به اشتباه یک نمونه مثبت را منفی پیش‌بینی کرده است (خطای نوع دوم).\n",
    "    TN: مدل به درستی یک نمونه منفی را منفی پیش‌بینی کرده است.\n",
    "\n",
    "    نکته : به عنوان نمونه ✅ False Positive (FP): یک فرد سالم را بیمار تشخیص داده‌ایم.\n",
    "    ❌ اشتباه: \"سالمی که در اصل بیمار بوده\" → این تعریف نادرست است چون فرد واقعاً سالم است. \n",
    "\n",
    "\n",
    "۲. دقت (Accuracy)\n",
    "\n",
    "    Accuracy = (TP + TN) / (TP + TN + FP + FN)\n",
    "     برای وقتی داده‌ها متعادل هستند خوبه\n",
    "    🔹 نشان می‌دهد چه درصدی از پیش‌بینی‌ها درست بوده‌اند.\n",
    "    🔹 مناسب برای زمانی که داده‌ها بالانس هستند.\n",
    "\n",
    "\n",
    "۳. دقت کلاس مثبت (Precision)\n",
    "\n",
    "    Precision = TP / (TP + FP)\n",
    "    🔹 درصد پیش‌بینی‌های مثبت که واقعاً مثبت هستند. \n",
    "    یعنی از مثبت هایی که پیش بینی کرده چند درصدشون درست بودن\n",
    "    Precision → وقتی False Positive مهم است (مثل تشخیص مجرم در فرودگاه).\n",
    "    🔹 مهم در مواردی مثل تشخیص اسپم (اگر Precision کم باشد، ایمیل‌های سالم را اشتباهی اسپم تشخیص می‌دهد).\n",
    "    \n",
    "    بیماری های حساس مانند سرطان و ایدز، پریسیژن بالا بسیار مهم است.\n",
    "        زیرا تشخیص اشتباه فرد سالم به عنوان بیمار (FP) می‌تواند منجر به استرس روانی، هزینه‌های درمانی غیرضروری و عوارض جانبی داروهای سنگین شود.\n",
    "\n",
    "\n",
    "        یا برنامه ای که فیلتر ویدئوهای بد برای کودکان است اگر فیلم منفی را به کودک نشان بده خیلی بد عمل کرده. توجه شود که اینجا پی یعنی فیلم بد \n",
    "        \n",
    "\n",
    "\n",
    "۴. بازخوانی (Recall یا Sensitivity)\n",
    "\n",
    "    Recall = TP / (TP + FN)\n",
    "        برای وقتی False Positive مهم است (مثل تشخیص مجرم در فرودگاه). خوبه.\n",
    "    🔹 چه درصدی از نمونه‌های مثبت را مدل درست تشخیص داده است.\n",
    "    یعنی از کل تمام مثبت هایی که واقعا وجود داره مدل چند درصدشون رو تشخیص داده\n",
    "    \n",
    "    🔹 مهم مثل بیماریهای واگیردار مثل کرونا و .. که به عنوان فرد سالم باعث شیوع بیماری میشه\n",
    "     یا تشخیص سرطان (اگر Recall کم باشد،  بنابراین فرد تحت درمان قرار نمیگیرد و ممکن است زمان را از دست بدهد).\n",
    "     یا در امنیت که ممکنه فردی که بمب را حمل میکند را در فرودگاه تشخیص ندهد\n",
    "\n",
    "\n",
    "۵. F1-Score (میانگین هارمونیک Precision و Recall)\n",
    "     \n",
    "     F1=2×((Precision×Recall)/(Precision+Recall))\n",
    "    برای زمانی که وقتی Precision و Recall تعادل ندارند خوبه.\n",
    "    🔹 وقتی Precision و Recall هر دو مهم باشند، از این معیار استفاده می‌شود.\n",
    "    F1-Score چیست؟\n",
    "\n",
    "    ✅ F1-Score میانگین هارمونیک Precision و Recall است و بین این دو تعادل ایجاد می‌کند.\n",
    "        \n",
    "        \n",
    "    🔹 چرا این فرمول؟\n",
    "    F1-Score زمانی بالا خواهد بود که هم Precision و هم Recall بالا باشند. اگر یکی از آنها خیلی کم باشد، مقدار F1 هم کاهش پیدا می‌کند.\n",
    "    \n",
    "\n",
    "۶. Specificity (ویژگی یا نرخ تشخیص منفی‌ها)\n",
    "        \n",
    "         Specificity = TN / (TN + FP)\n",
    "        نشان می‌دهد مدل چقدر خوب نمونه‌های منفی را تشخیص داده است.\n",
    "        از بین تمام نمونه‌های منفی واقعی، چند درصد را مدل درست تشخیص داده است\n",
    "        مهم در تست‌های پزشکی که نمی‌خواهیم بیماران سالم را بیمار تشخیص دهیم.\n",
    "        اگر یک بیماری نادر باشد و تستی داشته باشیم که Specificity بالا دارد، یعنی خیلی کم پیش می‌آید که فرد سالم را بیمار فرض کنیم.\n",
    "        این همان منفی حالت ریکال است\n",
    "\n",
    "\n",
    "NPV (ارزش پیش‌بینی منفی)\n",
    "\n",
    "        NPV = TN / (TN + FN)\n",
    "        Negative Predictive Value (NPV) نشان می‌دهد که از بین تمام نمونه‌هایی که مدل به عنوان \"منفی\" پیش‌بینی کرده، چند درصد واقعاً منفی بودند.\n",
    "        \n",
    "        کی NPV را انتخاب کنیم؟\n",
    "         NPV بیشتر در سیستم‌های بحرانی مثل پزشکی و امنیت اهمیت پیدا می‌کند.\n",
    "        ✅ اگر مدل شما در یک کاربردی استفاده می‌شود که \"منفی بودن\" مهم است (مثلاً عدم ابتلا به بیماری، عدم خطرناک بودن)، NPV مهم می‌شود.\n",
    "        1️⃣ در تست‌های پزشکی:\n",
    "            مثال: تست HIV\n",
    "          \n",
    "        2️⃣ در سیستم‌های امنیتی:\n",
    "            مثال: اسکنر فرودگاه\n",
    "            اگر سیستم بگوید \"این فرد بمب ندارد\"، ولی در واقع داشته باشد (False Negative)، فاجعه رخ می‌دهد!\n",
    "                \n",
    "        3️⃣ در تشخیص تقلب (Fraud Detection):\n",
    "            مثال: بانک‌ها و سیستم‌های ضد کلاهبرداری\n",
    "            اگر مدل بگوید \"این تراکنش مشکوک نیست\"، اما در واقع باشد (False Negative)، ممکن است پول مشتری دزدیده شود.\n",
    "        \n",
    "        این همان منفی حالت معیار ارزیابی پریسیژن است\n",
    "        \n",
    "\n",
    "۷. ROC Curve (منحنی مشخصه عملکرد گیرنده)\n",
    "\n",
    "        برای مقایسه مدل‌ها خوبه\n",
    "        🔹 ROC یک نمودار است نه یک عدد!\n",
    "        \n",
    "        ROC (Receiver Operating Characteristic Curve) یک نمودار است که True Positive Rate (Recall) را در برابر False Positive Rate نشان می‌دهد.\n",
    "\n",
    "        ✅ محورهای ROC:\n",
    "\n",
    "            محور FPR\n",
    "             X: 1 - Specificity \n",
    "            (یا False Positive Rate)\n",
    "            FPR = FP / (FP + TN)  \n",
    "\n",
    "        \n",
    "            محور TPR یا حساسیت\n",
    "             Y: Sensitivity\n",
    "            یا Recall (True Positive Rate یا TPR)\n",
    "            TPR = TP / (TP + FN)  → همان Recall\n",
    "\n",
    "        ✅ توضیح:\n",
    "        هرچه منحنی ROC به گوشه بالا-چپ نزدیک‌تر باشد، مدل بهتر است.\n",
    "        مناسب برای مقایسه مدل‌ها در تنظیمات مختلف.\n",
    "\n",
    "\n",
    "۸. AUC Score (مساحت زیر منحنی ROC)\n",
    "        برای مقایسه مدل‌ها خوبه.\n",
    "         AUC از روی ROC محاسبه می‌شود!\n",
    "        ✅ فرمول:\n",
    "        AUC مقدار عددی بین 0 تا 1 است که نشان می‌دهد مدل چقدر خوب کلاس‌های 0 و 1 را جدا می‌کند.\n",
    "        \n",
    "        AUC = ∫ ROC Curve\n",
    "        \n",
    "        ✅ توضیح:\n",
    "        \n",
    "            AUC = 1 → مدل کاملاً عالی است.\n",
    "        \n",
    "            AUC = 0.5 → مدل تصادفی است (مانند پرتاب سکه).\n",
    "        \n",
    "            AUC < 0.5 → مدل حتی از حدس تصادفی هم بدتر است!\n",
    "            \n",
    "\n",
    "#___________________________________\n",
    " \"\"\""
   ]
  },
  {
   "metadata": {},
   "cell_type": "markdown",
   "source": [
    "# Trade-off\n",
    "\"\"\"\n",
    "نکته مهم:\n",
    "    \n",
    "    وقتی پریسیژن کم بشه ریکال بالا میره و برعکس که به این میگن trade off \n",
    "     در مثال فیلتر ویدئوهای بد پریسیژن مهمتر از ریکال است چون در  حالت ریکال، ویدئوی خوب را به عنوان بد از دست بدیم مشکلی ایجاد نمیکنه\n",
    "     \n",
    "\n",
    "فرض کن یه سگ داری که هر وقت کسی از در رد میشه، شروع می‌کنه پارس کردن اگه مشکوک باشه.\n",
    "\n",
    "    اگر آموزشش بدی که با هر صدایی پارس کنه، پارس زیاد می‌کنه (بالا بودن Recall)، ولی ممکنه اشتباهی به دوستت هم پارس کنه (پایین بودن Precision)\n",
    "\n",
    "    اگه فقط وقتی کاملاً مطمئنه پارس کنه، ممکنه چند تا دزد رو هم از دست بده ولی فقط وقتی لازمه پارس می‌کنه (بالا بودن Precision)\n",
    "    \n",
    "\n",
    "        \n",
    "برای تحلیل اینکه پریسیژن مهمتر یا ریکال؛ میتونی به مخرج نگا کنی مثلا در مورد پریسیژن اینطوری بررسی کنی که:\n",
    "\n",
    "        بگویی ایا بهتره اشتباهاً منفی در نظر بگیرد یعنی FP زیاد میتونه مهمتر باشه؟ مثل مثال فیلتر ویدئو که ویدئوی خوب را هم بد تشخیص بده؟\n",
    "        اما در مسئله بمب در فرودگاه ریکال مهم میشه و بالا رفتن FN مهمتر از اینه که FP یوقت بیشتر باشه\n",
    "     \n",
    "       \n",
    " \n",
    "\"\"\"\n"
   ]
  },
  {
   "metadata": {},
   "cell_type": "markdown",
   "source": [
    "\n",
    "\n",
    "#  نقطه ضعف های معیارهای ارزیابی\n",
    "\"\"\"\n",
    "هم Accuracy و هم Precision در داده‌های نامتوازن اشتباه می‌کنند\n",
    "\n",
    "        توزیع نامتوازن داده‌ها (imbalanced datasets) به وضعیتی گفته می‌شود\n",
    "     که در آن، تعداد نمونه‌های متعلق به یک یا چند کلاس،\n",
    "      به طور قابل توجهی کمتر یا بیشتر از سایر کلاس‌ها باشد. \n",
    "     برای مثال، در یک مجموعه داده پزشکی که هدف آن تشخیص بیماری نادر است، ممکن است ۹۹٪ نمونه‌ها مربوط به افراد سالم و تنها ۱٪ نمونه‌ها مربوط به افراد بیمار باشند.\n",
    "    \n",
    "\n",
    "    Accuracy مشکل پیدا میکند چون اگر مدل فقط کلاس غالب را پیش‌بینی کند، مقدارش خیلی بالا می‌رود، حتی اگر مدل هیچ چیزی یاد نگرفته باشد! \n",
    "\n",
    "    Precision مشکل دارد چون ممکن است مدل فقط تعداد خیلی کمی از کلاس مثبت را شناسایی کند ولی مقدار بالایی داشته باشد، که باعث می‌شود فکر کنیم مدل خوب است، درحالی که خیلی موارد مثبت را از دست داده است.\n",
    "\n",
    "\n",
    "مشکل Recall این است که:\n",
    "\n",
    "     ممکن است مدل همه‌ی نمونه‌های مثبت را تشخیص دهد ولی مقدار خیلی زیادی FP (مثبت کاذب) تولید کند!\n",
    "    🔹 به عبارت دیگر، Recall بالا نشان می‌دهد که مدل همه‌ی موارد مثبت را گرفته، ولی شاید خیلی موارد منفی را هم اشتباه مثبت تشخیص داده باشد.\n",
    "    مثال: سیستم اسپم ایمیل\n",
    "    اگر یک مدل تشخیص اسپم فقط بخواهد Recall بالا داشته باشد، ممکن است همه‌ی ایمیل‌ها را به‌عنوان اسپم علامت بزند!\n",
    "    ✅ راه حل:\n",
    "    باید Precision و Recall را متعادل کنیم. این کار با F1-Score یا ROC-AUC انجام می‌شود.\n",
    "    \n",
    "\n",
    "ضعف F1-Score چیست؟\n",
    "\n",
    "    نمی‌توانیم اهمیت Precision و Recall را تغییر دهیم.\n",
    "\n",
    "        گاهی ممکن است Precision برای ما مهم‌تر باشد (مثلاً در پزشکی).\n",
    "        آزمایش‌های پزشکی خیلی حساس، مثل تست ایدز یا سرطان که اگر نتیجه مثبت شد، بیمار را تحت درمان سنگین قرار می‌دهیم.\n",
    "        سیستم تشخیص چهره در امنیت فرودگاه که نمی‌خواهیم افراد بی‌گناه را به اشتباه مجرم شناسایی کنیم.\n",
    "\n",
    "        گاهی Recall مهم‌تر است (مثلاً در تشخیص مجرمین در سیستم امنیتی یا بیماری های واگیردار).\n",
    "           سیستم‌های غربالگری بیماری (مثلاً سرطان یا کرونا) که اگر کسی بیمار باشد ولی تشخیص داده نشود، ممکن است بیماری پخش شود یا دیر درمان شود.\n",
    "    سیستم‌های امنیتی که دنبال تروریست‌ها هستند (بهتر است چند فرد بی‌گناه مشکوک شوند تا اینکه یک فرد خطرناک را از دست بدهیم).    \n",
    "\n",
    "        ولی F1 همیشه وزن مساوی به هر دو می‌دهد.\n",
    "    برای داده‌های خیلی نامتوازن، همچنان ممکن است به اندازه‌ی کافی قابل اعتماد نباشد.\n",
    "\n",
    "        در بعضی موارد، Balanced Accuracy یا ROC-AUC معیارهای بهتری هستند.\n",
    "\n",
    "\n",
    " نتیجه‌گیری نهایی\n",
    "\n",
    "    ✅ Accuracy در داده‌های نامتوازن گمراه‌کننده است.\n",
    "    ✅ Precision اگر مدل تعداد کمی از کلاس مثبت را شناسایی کند، مقدارش بالا می‌رود ولی مدل ضعیف است.\n",
    "    ✅ Recall اگر خیلی زیاد باشد، ممکن است مدل FP زیادی بدهد.\n",
    "    ✅ F1-Score بین Precision و Recall تعادل ایجاد می‌کند و به مقدار کمتر وزن بیشتری می‌دهد.\n",
    "    ✅ ضعف F1-Score این است که وزن Precision و Recall را تغییر نمی‌دهد.\n",
    "    \n",
    "    در نهایت، انتخاب معیار ارزیابی مناسب بستگی به مسئله مورد نظر و اهمیت کلاس‌های مختلف دارد.\n",
    "     در صورتی که توزیع داده‌ها نامتوازن باشد، استفاده از معیارهای حساس به توزیع داده‌ها ضروری است.\n",
    "\"\"\""
   ]
  },
  {
   "metadata": {},
   "cell_type": "markdown",
   "source": [
    "\n",
    "# confusion_matrix\n",
    "### محاسبه ماتریس سردرگمی"
   ]
  },
  {
   "cell_type": "code",
   "source": [
    "# برای محاسبه ماترسی سردرگمی به پریدیکشن نیاز داریم\n",
    "from sklearn.model_selection import cross_val_predict"
   ],
   "metadata": {
    "id": "azxcYDN60-0e",
    "ExecuteTime": {
     "end_time": "2025-04-06T09:36:29.240978Z",
     "start_time": "2025-04-06T09:36:29.237675Z"
    }
   },
   "outputs": [],
   "execution_count": 30
  },
  {
   "cell_type": "code",
   "source": [
    "y_pred = cross_val_predict(sgd, X_train, y_train8, cv=5)"
   ],
   "metadata": {
    "id": "nLCILYyC6Nz3",
    "ExecuteTime": {
     "end_time": "2025-04-06T09:37:29.926538Z",
     "start_time": "2025-04-06T09:36:29.241987Z"
    }
   },
   "outputs": [],
   "execution_count": 31
  },
  {
   "cell_type": "code",
   "source": [
    "from sklearn.metrics import confusion_matrix"
   ],
   "metadata": {
    "id": "EoYS2L6W6Yr2",
    "ExecuteTime": {
     "end_time": "2025-04-06T09:37:29.931135Z",
     "start_time": "2025-04-06T09:37:29.928044Z"
    }
   },
   "outputs": [],
   "execution_count": 32
  },
  {
   "cell_type": "code",
   "source": [
    "confusion_matrix(y_train8, y_pred)\n",
    "# در خروجی سطرها را برای مقدار واقعی در نظر بگرید و ستونها را برای پریدیکشن ها\n",
    "\n"
   ],
   "metadata": {
    "colab": {
     "base_uri": "https://localhost:8080/"
    },
    "id": "G9P9pl-66evm",
    "outputId": "663c66f6-8113-4362-f77d-5efeee2978c0",
    "ExecuteTime": {
     "end_time": "2025-04-06T09:37:29.946288Z",
     "start_time": "2025-04-06T09:37:29.931639Z"
    }
   },
   "outputs": [
    {
     "data": {
      "text/plain": [
       "array([[52821,  1328],\n",
       "       [ 2889,  2962]])"
      ]
     },
     "execution_count": 33,
     "metadata": {},
     "output_type": "execute_result"
    }
   ],
   "execution_count": 33
  },
  {
   "cell_type": "code",
   "source": [
    "from sklearn.metrics import precision_score, recall_score, f1_score"
   ],
   "metadata": {
    "id": "njzTpvVt7IdA",
    "ExecuteTime": {
     "end_time": "2025-04-06T09:37:29.950676Z",
     "start_time": "2025-04-06T09:37:29.946793Z"
    }
   },
   "outputs": [],
   "execution_count": 34
  },
  {
   "cell_type": "code",
   "source": [
    "precision_score(y_train8, y_pred)"
   ],
   "metadata": {
    "colab": {
     "base_uri": "https://localhost:8080/"
    },
    "id": "cVmts7Qm9sMP",
    "outputId": "7f6b02ce-e243-415e-dbd6-746984580bf2",
    "ExecuteTime": {
     "end_time": "2025-04-06T09:37:29.963314Z",
     "start_time": "2025-04-06T09:37:29.951686Z"
    }
   },
   "outputs": [
    {
     "data": {
      "text/plain": [
       "0.6904428904428904"
      ]
     },
     "execution_count": 35,
     "metadata": {},
     "output_type": "execute_result"
    }
   ],
   "execution_count": 35
  },
  {
   "cell_type": "code",
   "source": [
    "recall_score(y_train8, y_pred)"
   ],
   "metadata": {
    "colab": {
     "base_uri": "https://localhost:8080/"
    },
    "id": "uGXQ4ypO9wRG",
    "outputId": "a8e7ee42-859f-457b-ade7-c61a38535aec",
    "ExecuteTime": {
     "end_time": "2025-04-06T09:37:29.974302Z",
     "start_time": "2025-04-06T09:37:29.964337Z"
    }
   },
   "outputs": [
    {
     "data": {
      "text/plain": [
       "0.5062382498718168"
      ]
     },
     "execution_count": 36,
     "metadata": {},
     "output_type": "execute_result"
    }
   ],
   "execution_count": 36
  },
  {
   "cell_type": "code",
   "source": [
    "f1_score(y_train8, y_pred)"
   ],
   "metadata": {
    "colab": {
     "base_uri": "https://localhost:8080/"
    },
    "id": "jNzEIPiQ9yZ_",
    "outputId": "0f40a87d-5b29-45ec-9ef6-c2862f42fed7",
    "ExecuteTime": {
     "end_time": "2025-04-06T09:37:29.983992Z",
     "start_time": "2025-04-06T09:37:29.975386Z"
    }
   },
   "outputs": [
    {
     "data": {
      "text/plain": [
       "0.584163297505177"
      ]
     },
     "execution_count": 37,
     "metadata": {},
     "output_type": "execute_result"
    }
   ],
   "execution_count": 37
  },
  {
   "cell_type": "code",
   "source": [
    "X_train[0].shape"
   ],
   "metadata": {
    "colab": {
     "base_uri": "https://localhost:8080/"
    },
    "id": "IhItWlPIaRwY",
    "outputId": "83d295cf-aed9-4968-9657-231a1320a9d8",
    "ExecuteTime": {
     "end_time": "2025-04-06T09:37:29.989032Z",
     "start_time": "2025-04-06T09:37:29.985004Z"
    }
   },
   "outputs": [
    {
     "data": {
      "text/plain": [
       "(784,)"
      ]
     },
     "execution_count": 38,
     "metadata": {},
     "output_type": "execute_result"
    }
   ],
   "execution_count": 38
  },
  {
   "cell_type": "code",
   "source": [
    "sgd.decision_function([X_train[0]])"
   ],
   "metadata": {
    "id": "VUyPs64EBFC3",
    "colab": {
     "base_uri": "https://localhost:8080/"
    },
    "outputId": "f1a3178d-f75a-4ec2-dab9-c6c13cc37762",
    "ExecuteTime": {
     "end_time": "2025-04-06T09:37:29.995556Z",
     "start_time": "2025-04-06T09:37:29.990049Z"
    }
   },
   "outputs": [
    {
     "data": {
      "text/plain": [
       "array([-5339.38785327])"
      ]
     },
     "execution_count": 39,
     "metadata": {},
     "output_type": "execute_result"
    }
   ],
   "execution_count": 39
  },
  {
   "metadata": {},
   "cell_type": "markdown",
   "source": [
    "\n",
    "# precision-recall curve"
   ]
  },
  {
   "metadata": {},
   "cell_type": "markdown",
   "source": [
    "\"\"\"\n",
    "# .predict() چیه؟\n",
    "model.predict(X)\n",
    "این تابع فقط برچسب نهایی رو می‌ده. یعنی تصمیم گرفته‌شده مدل برای هر نمونه:\n",
    ">>> clf.predict([X[0]])\n",
    "array([False])\n",
    "مدل می‌گه: «بر اساس اطلاعاتی که دارم، این تصویر 8 نیست.»\n",
    "\n",
    "\n",
    "\n",
    "# .predict_proba() چیه؟\n",
    "model.predict_proba(X)\n",
    "این تابع به جای فقط دادن خروجی نهایی، احتمال مدل برای هر کلاس رو می‌ده.\n",
    ">>> clf.predict_proba([X[0]])\n",
    "array([[0.13, 0.87]])\n",
    "مدل می‌گه:\n",
    "    احتمال اینکه این نمونه 8 نباشه → 13٪\n",
    "    احتمال اینکه این نمونه 8 باشه → 87٪\n",
    "    \n",
    "\n",
    "# مدلهای decision_function() عبارتند از:\n",
    "### SVM, SGDClassifier\n",
    "\n",
    "#  و مدلهای predict_proba() عبارتند از :\n",
    "### Logistic Regression, RandomForest, etc\n",
    "\"\"\""
   ]
  },
  {
   "cell_type": "code",
   "source": [
    "y_scores = cross_val_predict(sgd, X_train, y_train8, cv=5, method=\"decision_function\")\n",
    "# مدل‌هایی مثل SGDClassifier، خروجی نهایی‌شون فقط یک label نیست (مثل 0 یا 1)، بلکه می‌تونن یک نمره بدهند که میزان اعتماد یا فاصله از مرز تصمیم (decision boundary) رو نشون بده. متد \"predict\" فقط می‌گه کلاس 0 یا 1 و متد \"decision_function\" خروجی اش عدد پیوسته هستش\n",
    "\n",
    "#\n",
    "\n",
    "#  intuition: مرز تصمیم‌گیری یعنی چی؟\n",
    "# تصور کن یک خط مرزی داریم که مدل می‌گه:\n",
    "#     اگر سمت راست خط بودی → کلاس مثبت (مثلاً عدد 8)\n",
    "#     اگر سمت چپ خط بودی → کلاس منفی (نه 8)\n",
    "# فاصله تا این خط تصمیم، همون خروجی decision_function هست.\n",
    "# 🔸 عدد مثبت: مدل فکر می‌کنه به کلاس مثبت نزدیک‌تره\n",
    "# 🔹 عدد منفی: مدل فکر می‌کنه به کلاس منفی نزدیک‌تره\n",
    "# 🔸 قدر مطلق عدد → میزان اعتماد\n",
    "\n",
    "\n",
    "# چرا این مهمه برای precision-recall curve؟\n",
    "# چون برای ساختن precision-recall curve، باید بدونیم مدل چقدر مطمئن بوده که یک نمونه متعلق به کلاس مثبته. این اطلاعات رو فقط از نمره خام (decision function) می‌گیریم، نه از برچسب نهایی (0/1).\n"
   ],
   "metadata": {
    "id": "fbmZ-imBaZdQ",
    "ExecuteTime": {
     "end_time": "2025-04-06T09:38:41.013321Z",
     "start_time": "2025-04-06T09:37:29.996568Z"
    }
   },
   "outputs": [],
   "execution_count": 40
  },
  {
   "cell_type": "code",
   "source": [
    "from sklearn.metrics import precision_recall_curve\n",
    "# این تابع رو import می‌کنیم چون:\n",
    "#     وظیفه‌ش محاسبه precision و recall برای طیفی از آستانه‌ها (thresholdها) هست.\n",
    "\n",
    "#آیا برای استفاده از Threshold، باید precision_recall_curve رو import کنیم؟\n",
    "# ✳️ پاسخ کوتاه: نه لزوماً.\n",
    "# \n",
    "# اگر فقط می‌خوای از یک threshold مشخص استفاده کنی (مثلاً threshold=0.5)  می‌تونی مستقیم بگی: y_pred = (y_scores > 0.5)\n",
    "\n",
    "\n",
    "# چی هست Precision-Recall Curve؟\n",
    "        # یه نموداره که نشون می‌ده:\n",
    "        #وقتی Threshold رو زیاد و کم می‌کنی، precision و recall چجوری تغییر می‌کنن.\n",
    "        # \n",
    "        # 🔹 محور افقی: Recall\n",
    "        # 🔸 محور عمودی: Precision\n",
    "        # \n",
    "        # بهت کمک می‌کنه ببینی:\n",
    "        #     آیا مدل داره tradeoff خوبی بین precision و recall ایجاد می‌کنه یا نه؟\n",
    "        #     بهترین threshold برای هدفت کجاست؟\n",
    "\n",
    "# سوال :اگه خروجی مدل predict_proba باشه، آیا می‌تونی از precision_recall_curve استفاده کنی؟\n",
    "\n",
    "        # ✅ بله! کاملاً می‌تونی و این کاملاً رایجه.\n",
    "        # فقط دقت کن که y_scores باید احتمال کلاس مثبت (مثلاً 1) باشه، نه کل بردار [p0, p1].\n",
    "        #مثلا:\n",
    "        # from sklearn.metrics import precision_recall_curve\n",
    "        # y_scores = model.predict_proba(X)[:, 1]  # احتمال تعلق به کلاس 1\n",
    "        # precision, recall, thresholds = precision_recall_curve(y_true, y_scores)\n"
   ],
   "metadata": {
    "id": "Fg4l9LMFckF5",
    "ExecuteTime": {
     "end_time": "2025-04-06T09:38:41.018359Z",
     "start_time": "2025-04-06T09:38:41.014334Z"
    }
   },
   "outputs": [],
   "execution_count": 41
  },
  {
   "metadata": {},
   "cell_type": "markdown",
   "source": "# Threshold"
  },
  {
   "cell_type": "code",
   "source": [
    "prec, recall, thresholds = precision_recall_curve(y_train8, y_scores)\n",
    "# این کد هر سه رو بهمون میده یعنی:\n",
    "# این سه تا رو برمی‌گردونه:\n",
    "        # precision: لیست مقادیر precision برای آستانه‌های مختلف\n",
    "        # \n",
    "        # recall: لیست مقادیر recall متناظر\n",
    "        # \n",
    "        # thresholds: لیستی از آستانه‌ها که با تغییر اون‌ها، precision و recall تغییر می‌کنن\n",
    "\n",
    "\n",
    "# مهم : عبارت  Threshold (آستانه یا ثریشولد) یعنی به جای اینکه مدل مثلا در (مثل یک تشخیص‌دهنده اسپم یا تشخیص عدد 8 در دیتاست MNIST) فقط بگه بله یا خیر، بگه من مثلا 70 درصد مطمئنم که این تصویر 8 است  "
   ],
   "metadata": {
    "id": "mC5UvhOQdEDt",
    "ExecuteTime": {
     "end_time": "2025-04-06T09:38:41.035582Z",
     "start_time": "2025-04-06T09:38:41.019372Z"
    }
   },
   "outputs": [],
   "execution_count": 42
  },
  {
   "cell_type": "code",
   "source": "thresholds.shape",
   "metadata": {
    "colab": {
     "base_uri": "https://localhost:8080/"
    },
    "id": "lbYZGEoWdmMM",
    "outputId": "1440ccbd-2f15-4bb5-9d30-bc5fe2d54128",
    "ExecuteTime": {
     "end_time": "2025-04-06T09:38:41.040630Z",
     "start_time": "2025-04-06T09:38:41.036085Z"
    }
   },
   "outputs": [
    {
     "data": {
      "text/plain": [
       "(60000,)"
      ]
     },
     "execution_count": 43,
     "metadata": {},
     "output_type": "execute_result"
    }
   ],
   "execution_count": 43
  },
  {
   "cell_type": "code",
   "source": [
    "recall.shape"
   ],
   "metadata": {
    "colab": {
     "base_uri": "https://localhost:8080/"
    },
    "id": "UkyfQ52mdo3m",
    "outputId": "17c4114f-47b1-4b48-e586-63eaafdc5bf7",
    "ExecuteTime": {
     "end_time": "2025-04-06T09:38:41.045593Z",
     "start_time": "2025-04-06T09:38:41.041134Z"
    }
   },
   "outputs": [
    {
     "data": {
      "text/plain": [
       "(60001,)"
      ]
     },
     "execution_count": 44,
     "metadata": {},
     "output_type": "execute_result"
    }
   ],
   "execution_count": 44
  },
  {
   "cell_type": "code",
   "source": [
    "import matplotlib.pyplot as plt"
   ],
   "metadata": {
    "id": "Mo7nhdKRdRsY",
    "ExecuteTime": {
     "end_time": "2025-04-06T09:38:41.049519Z",
     "start_time": "2025-04-06T09:38:41.045593Z"
    }
   },
   "outputs": [],
   "execution_count": 45
  },
  {
   "cell_type": "code",
   "source": [
    "fig, ax = plt.subplots()\n",
    "ax.plot(thresholds, prec[:-1], \"r\", label=\"Precision\")\n",
    "ax.plot(thresholds, recall[:-1], \"black\", label=\"Recall\")"
   ],
   "metadata": {
    "colab": {
     "base_uri": "https://localhost:8080/",
     "height": 282
    },
    "id": "ZfdRtVKKdYDG",
    "outputId": "eefc173e-991e-4d86-cfc1-0e9e6432764f",
    "ExecuteTime": {
     "end_time": "2025-04-06T09:38:41.161983Z",
     "start_time": "2025-04-06T09:38:41.050535Z"
    }
   },
   "outputs": [
    {
     "data": {
      "text/plain": [
       "[<matplotlib.lines.Line2D at 0x26a616758b0>]"
      ]
     },
     "execution_count": 46,
     "metadata": {},
     "output_type": "execute_result"
    },
    {
     "data": {
      "text/plain": [
       "<Figure size 640x480 with 1 Axes>"
      ],
      "image/png": "[encoded data removed]"
     },
     "metadata": {},
     "output_type": "display_data"
    }
   ],
   "execution_count": 46
  },
  {
   "cell_type": "code",
   "source": [
    "plt.plot(recall, prec)\n",
    "plt.xlabel(\"recall\")\n",
    "plt.ylabel(\"precision\")"
   ],
   "metadata": {
    "colab": {
     "base_uri": "https://localhost:8080/",
     "height": 296
    },
    "id": "nRVLplkLd9Sp",
    "outputId": "85ce7dfb-db83-4e77-c6b1-f4d3cfb38b91",
    "ExecuteTime": {
     "end_time": "2025-04-06T09:38:41.250249Z",
     "start_time": "2025-04-06T09:38:41.162996Z"
    }
   },
   "outputs": [
    {
     "data": {
      "text/plain": [
       "Text(0, 0.5, 'precision')"
      ]
     },
     "execution_count": 47,
     "metadata": {},
     "output_type": "execute_result"
    },
    {
     "data": {
      "text/plain": [
       "<Figure size 640x480 with 1 Axes>"
      ],
      "image/png": "[encoded data removed]"
     },
     "metadata": {},
     "output_type": "display_data"
    }
   ],
   "execution_count": 47
  },
  {
   "cell_type": "code",
   "source": [
    "thresh_for_80_prec = thresholds[(prec >= 0.8).argmax()]\n",
    "# عبارت argmax یعنی  اندیسِ (index) اولین بزرگ‌ترین مقدار در یک آرایه یا اولین باری که شرط برقرار میشه.\n",
    "\n",
    "# کدموون میگه اولین جایی که precision اولین باره که precision حداقل 0.8 شده، اندیسش چند بود؟"
   ],
   "metadata": {
    "id": "0q5Sh9aqIghP",
    "ExecuteTime": {
     "end_time": "2025-04-06T09:38:41.254634Z",
     "start_time": "2025-04-06T09:38:41.251266Z"
    }
   },
   "outputs": [],
   "execution_count": 48
  },
  {
   "cell_type": "code",
   "source": [
    "y_pred_80_prec = (y_scores >= thresh_for_80_prec)"
   ],
   "metadata": {
    "id": "a6ZQuNCLJuGJ",
    "ExecuteTime": {
     "end_time": "2025-04-06T09:38:41.260199Z",
     "start_time": "2025-04-06T09:38:41.255659Z"
    }
   },
   "outputs": [],
   "execution_count": 49
  },
  {
   "cell_type": "code",
   "source": [
    "y_pred_80_prec"
   ],
   "metadata": {
    "colab": {
     "base_uri": "https://localhost:8080/"
    },
    "id": "aEujCSdxKTXi",
    "outputId": "0d09f50d-b0b0-44b6-ecc0-5320f76fdcb2",
    "ExecuteTime": {
     "end_time": "2025-04-06T09:38:41.266264Z",
     "start_time": "2025-04-06T09:38:41.261217Z"
    }
   },
   "outputs": [
    {
     "data": {
      "text/plain": [
       "array([False, False, False, ..., False, False,  True], shape=(60000,))"
      ]
     },
     "execution_count": 50,
     "metadata": {},
     "output_type": "execute_result"
    }
   ],
   "execution_count": 50
  },
  {
   "cell_type": "code",
   "source": [
    "precision_score(y_train8, y_pred_80_prec)"
   ],
   "metadata": {
    "colab": {
     "base_uri": "https://localhost:8080/"
    },
    "id": "_PUyoZfUKUlx",
    "outputId": "b234c31f-0812-41c6-c2f0-292ca7ffc6ce",
    "ExecuteTime": {
     "end_time": "2025-04-06T09:38:41.277496Z",
     "start_time": "2025-04-06T09:38:41.266768Z"
    }
   },
   "outputs": [
    {
     "data": {
      "text/plain": [
       "0.8000651253663302"
      ]
     },
     "execution_count": 51,
     "metadata": {},
     "output_type": "execute_result"
    }
   ],
   "execution_count": 51
  },
  {
   "cell_type": "code",
   "source": [
    "recall_score(y_train8, y_pred_80_prec)"
   ],
   "metadata": {
    "colab": {
     "base_uri": "https://localhost:8080/"
    },
    "id": "OaJtH6yUKea-",
    "outputId": "089f1f35-7b2e-4a2b-9fb7-e7f9503bfd34",
    "ExecuteTime": {
     "end_time": "2025-04-06T09:38:41.287594Z",
     "start_time": "2025-04-06T09:38:41.278522Z"
    }
   },
   "outputs": [
    {
     "data": {
      "text/plain": [
       "0.41992821739873526"
      ]
     },
     "execution_count": 52,
     "metadata": {},
     "output_type": "execute_result"
    }
   ],
   "execution_count": 52
  },
  {
   "metadata": {},
   "cell_type": "markdown",
   "source": [
    "---\n",
    "# ROC curve\n"
   ]
  },
  {
   "cell_type": "code",
   "source": [
    "from sklearn.metrics import roc_curve"
   ],
   "metadata": {
    "id": "0QClOpLtK-nh",
    "ExecuteTime": {
     "end_time": "2025-04-06T09:38:41.291636Z",
     "start_time": "2025-04-06T09:38:41.288098Z"
    }
   },
   "outputs": [],
   "execution_count": 53
  },
  {
   "cell_type": "code",
   "source": [
    "fpr, tpr, thresholds = roc_curve(y_train8, y_scores)"
   ],
   "metadata": {
    "id": "J9Pem8C_NZjN",
    "ExecuteTime": {
     "end_time": "2025-04-06T09:38:41.304985Z",
     "start_time": "2025-04-06T09:38:41.292659Z"
    }
   },
   "outputs": [],
   "execution_count": 54
  },
  {
   "cell_type": "code",
   "source": [
    "plt.plot(fpr, tpr)\n",
    "plt.xlabel(\"FPR\")\n",
    "plt.ylabel(\"TPR\")"
   ],
   "metadata": {
    "colab": {
     "base_uri": "https://localhost:8080/",
     "height": 296
    },
    "id": "i1F0U7z6NgzM",
    "outputId": "73202b17-5d80-4de2-c9ad-81c17debbf05",
    "ExecuteTime": {
     "end_time": "2025-04-06T09:38:41.383731Z",
     "start_time": "2025-04-06T09:38:41.305998Z"
    }
   },
   "outputs": [
    {
     "data": {
      "text/plain": [
       "Text(0, 0.5, 'TPR')"
      ]
     },
     "execution_count": 55,
     "metadata": {},
     "output_type": "execute_result"
    },
    {
     "data": {
      "text/plain": [
       "<Figure size 640x480 with 1 Axes>"
      ],
      "image/png": "[encoded data removed]"
     },
     "metadata": {},
     "output_type": "display_data"
    }
   ],
   "execution_count": 55
  },
  {
   "cell_type": "code",
   "source": [
    "from sklearn.metrics import roc_auc_score"
   ],
   "metadata": {
    "id": "Q4FyCn9kNw3Z",
    "ExecuteTime": {
     "end_time": "2025-04-06T09:38:41.387279Z",
     "start_time": "2025-04-06T09:38:41.384750Z"
    }
   },
   "outputs": [],
   "execution_count": 56
  },
  {
   "cell_type": "code",
   "source": [
    "roc_auc_score(y_train8, y_scores)"
   ],
   "metadata": {
    "colab": {
     "base_uri": "https://localhost:8080/"
    },
    "id": "X7Zq3GegOa8b",
    "outputId": "43af319e-5715-48c8-ef00-2b99fe2a29d1",
    "ExecuteTime": {
     "end_time": "2025-04-06T09:38:41.404496Z",
     "start_time": "2025-04-06T09:38:41.387793Z"
    }
   },
   "outputs": [
    {
     "data": {
      "text/plain": [
       "np.float64(0.9184836617424581)"
      ]
     },
     "execution_count": 57,
     "metadata": {},
     "output_type": "execute_result"
    }
   ],
   "execution_count": 57
  },
  {
   "metadata": {},
   "cell_type": "markdown",
   "source": [
    "---\n",
    "# Random Forest Classifier"
   ]
  },
  {
   "metadata": {},
   "cell_type": "markdown",
   "source": [
    "# Random Forest \n",
    "###  یعنی مجموعه‌ای از درخت‌های تصمیم + رأی‌گیری هوشمند برای پیش‌بینی بهتر\n",
    "\"\"\"\n",
    "###### الگوریتم Random Forest یکی از مهم‌ترین و قدرتمندترین الگوریتم‌های یادگیری ماشینه، مخصوصاً وقتی بخوای یه مدل قوی، منعطف و دقیق بدون تنظیمات زیاد بسازی.\n",
    "\"\"\""
   ]
  },
  {
   "metadata": {
    "ExecuteTime": {
     "end_time": "2025-04-06T09:38:41.409630Z",
     "start_time": "2025-04-06T09:38:41.405Z"
    }
   },
   "cell_type": "code",
   "source": [
    "# Random Forest چگونه کار می‌کند؟ (توضیح گام‌به‌گام با مثال و شهود)\n",
    "# 📌 گام 1: ساختن چندین مدل درختی روی داده‌های تصادفی\n",
    "# فرض کن می‌خوای به یه گروه از متخصص‌ها بگی که یه تصویر دست‌نویس عدد «8» هست یا نه.\n",
    "# \n",
    "#     به هر متخصص فقط بخشی از کل داده‌ها رو نشون می‌دی (نه همه‌شون) ← Bootstrapping\n",
    "# \n",
    "#     به هر متخصص فقط اجازه می‌دی از بعضی ویژگی‌ها استفاده کنه ← Feature Randomness\n",
    "# \n",
    "# ⛏ یعنی هر درخت یک دید متفاوت، ناقص، اما جالب از داده‌ها داره!\n",
    "\n",
    "\n",
    "# 📌 گام 2: ساختن درخت تصمیم برای هر نمونه‌ی داده\n",
    "# هر درخت یه ساختار ساده و سریع به شکل سوال‌های دودویی می‌سازه، مثل:\n",
    "# \n",
    "# آیا pixel 217 > 127؟\n",
    "# → بله؟ بریم چپ\n",
    "# → نه؟ بریم راست\n",
    "# ...\n",
    "# درخت تا جایی ادامه پیدا می‌کنه که به یک نتیجه برسه (مثلاً \"این تصویر احتمالاً عدد 8 هست\").\n",
    "\n",
    "\n",
    "# 📌 گام 3: جمع‌ کردن پیش‌بینی همه درخت‌ها (Voting یا Averaging)\n",
    "# در Classification:\n",
    "# هر درخت یک رأی می‌ده، مثلاً:\n",
    "#     درخت 1: 8 هست\n",
    "#     درخت 2: 8 نیست\n",
    "#     درخت 3: 8 هست\n",
    "#     ...\n",
    "# جنگل تصمیم می‌گیره: \"اگه اکثریت درخت‌ها گفتن این نمونه عدد 8 هست، پس قبول.\"\n",
    "# \n",
    "# → اینو می‌گیم hard voting\n",
    "#___________________________\n",
    "\n",
    "# در Regression (پیش‌بینی عددی):\n",
    "# هر درخت یک مقدار عددی می‌ده، و جنگل میانگین می‌گیره → averaging\n",
    "\n",
    "#___________________________\n",
    "\n",
    "#  چرا Random Forest انقدر قویه؟\n",
    "# 1. Overfitting کمتر از درخت تنها\n",
    "# \n",
    "# درخت‌های تصمیم تنها خیلی سریع overfit می‌شن. ولی وقتی چندتا درخت تصادفی بسازی و رأی‌گیری کنی، noise از بین می‌ره.\n",
    "# 2. مقاومت در برابر داده‌های پرت (outliers)\n",
    "# \n",
    "# یک outlier ممکنه یه درخت رو گمراه کنه، ولی نمی‌تونه کل جنگل رو.\n",
    "# 3. پشتیبانی از داده‌های بزرگ و پیچیده\n",
    "# \n",
    "# قابل موازی‌سازی هست و روی دیتاهای زیاد هم خوب کار می‌کنه."
   ],
   "outputs": [],
   "execution_count": 58
  },
  {
   "metadata": {
    "ExecuteTime": {
     "end_time": "2025-04-06T09:39:08.398730Z",
     "start_time": "2025-04-06T09:38:41.409630Z"
    }
   },
   "cell_type": "code",
   "source": [
    " # 1. آموزش Random Forest روی دیتای MNIST برای تشخیص عدد 8\n",
    "from sklearn.ensemble import RandomForestClassifier\n",
    "\n",
    "rf = RandomForestClassifier()\n",
    "rf.fit(X_train, y_train8)\n"
   ],
   "outputs": [
    {
     "data": {
      "text/plain": [
       "RandomForestClassifier()"
      ],
      "text/html": [
       "<style>#sk-container-id-3 {\n",
       "  /* Definition of color scheme common for light and dark mode */\n",
       "  --sklearn-color-text: #000;\n",
       "  --sklearn-color-text-muted: #666;\n",
       "  --sklearn-color-line: gray;\n",
       "  /* Definition of color scheme for unfitted estimators */\n",
       "  --sklearn-color-unfitted-level-0: #fff5e6;\n",
       "  --sklearn-color-unfitted-level-1: #f6e4d2;\n",
       "  --sklearn-color-unfitted-level-2: #ffe0b3;\n",
       "  --sklearn-color-unfitted-level-3: chocolate;\n",
       "  /* Definition of color scheme for fitted estimators */\n",
       "  --sklearn-color-fitted-level-0: #f0f8ff;\n",
       "  --sklearn-color-fitted-level-1: #d4ebff;\n",
       "  --sklearn-color-fitted-level-2: #b3dbfd;\n",
       "  --sklearn-color-fitted-level-3: cornflowerblue;\n",
       "\n",
       "  /* Specific color for light theme */\n",
       "  --sklearn-color-text-on-default-background: var(--sg-text-color, var(--theme-code-foreground, var(--jp-content-font-color1, black)));\n",
       "  --sklearn-color-background: var(--sg-background-color, var(--theme-background, var(--jp-layout-color0, white)));\n",
       "  --sklearn-color-border-box: var(--sg-text-color, var(--theme-code-foreground, var(--jp-content-font-color1, black)));\n",
       "  --sklearn-color-icon: #696969;\n",
       "\n",
       "  @media (prefers-color-scheme: dark) {\n",
       "    /* Redefinition of color scheme for dark theme */\n",
       "    --sklearn-color-text-on-default-background: var(--sg-text-color, var(--theme-code-foreground, var(--jp-content-font-color1, white)));\n",
       "    --sklearn-color-background: var(--sg-background-color, var(--theme-background, var(--jp-layout-color0, #111)));\n",
       "    --sklearn-color-border-box: var(--sg-text-color, var(--theme-code-foreground, var(--jp-content-font-color1, white)));\n",
       "    --sklearn-color-icon: #878787;\n",
       "  }\n",
       "}\n",
       "\n",
       "#sk-container-id-3 {\n",
       "  color: var(--sklearn-color-text);\n",
       "}\n",
       "\n",
       "#sk-container-id-3 pre {\n",
       "  padding: 0;\n",
       "}\n",
       "\n",
       "#sk-container-id-3 input.sk-hidden--visually {\n",
       "  border: 0;\n",
       "  clip: rect(1px 1px 1px 1px);\n",
       "  clip: rect(1px, 1px, 1px, 1px);\n",
       "  height: 1px;\n",
       "  margin: -1px;\n",
       "  overflow: hidden;\n",
       "  padding: 0;\n",
       "  position: absolute;\n",
       "  width: 1px;\n",
       "}\n",
       "\n",
       "#sk-container-id-3 div.sk-dashed-wrapped {\n",
       "  border: 1px dashed var(--sklearn-color-line);\n",
       "  margin: 0 0.4em 0.5em 0.4em;\n",
       "  box-sizing: border-box;\n",
       "  padding-bottom: 0.4em;\n",
       "  background-color: var(--sklearn-color-background);\n",
       "}\n",
       "\n",
       "#sk-container-id-3 div.sk-container {\n",
       "  /* jupyter's `normalize.less` sets `[hidden] { display: none; }`\n",
       "     but bootstrap.min.css set `[hidden] { display: none !important; }`\n",
       "     so we also need the `!important` here to be able to override the\n",
       "     default hidden behavior on the sphinx rendered scikit-learn.org.\n",
       "     See: https://github.com/scikit-learn/scikit-learn/issues/21755 */\n",
       "  display: inline-block !important;\n",
       "  position: relative;\n",
       "}\n",
       "\n",
       "#sk-container-id-3 div.sk-text-repr-fallback {\n",
       "  display: none;\n",
       "}\n",
       "\n",
       "div.sk-parallel-item,\n",
       "div.sk-serial,\n",
       "div.sk-item {\n",
       "  /* draw centered vertical line to link estimators */\n",
       "  background-image: linear-gradient(var(--sklearn-color-text-on-default-background), var(--sklearn-color-text-on-default-background));\n",
       "  background-size: 2px 100%;\n",
       "  background-repeat: no-repeat;\n",
       "  background-position: center center;\n",
       "}\n",
       "\n",
       "/* Parallel-specific style estimator block */\n",
       "\n",
       "#sk-container-id-3 div.sk-parallel-item::after {\n",
       "  content: \"\";\n",
       "  width: 100%;\n",
       "  border-bottom: 2px solid var(--sklearn-color-text-on-default-background);\n",
       "  flex-grow: 1;\n",
       "}\n",
       "\n",
       "#sk-container-id-3 div.sk-parallel {\n",
       "  display: flex;\n",
       "  align-items: stretch;\n",
       "  justify-content: center;\n",
       "  background-color: var(--sklearn-color-background);\n",
       "  position: relative;\n",
       "}\n",
       "\n",
       "#sk-container-id-3 div.sk-parallel-item {\n",
       "  display: flex;\n",
       "  flex-direction: column;\n",
       "}\n",
       "\n",
       "#sk-container-id-3 div.sk-parallel-item:first-child::after {\n",
       "  align-self: flex-end;\n",
       "  width: 50%;\n",
       "}\n",
       "\n",
       "#sk-container-id-3 div.sk-parallel-item:last-child::after {\n",
       "  align-self: flex-start;\n",
       "  width: 50%;\n",
       "}\n",
       "\n",
       "#sk-container-id-3 div.sk-parallel-item:only-child::after {\n",
       "  width: 0;\n",
       "}\n",
       "\n",
       "/* Serial-specific style estimator block */\n",
       "\n",
       "#sk-container-id-3 div.sk-serial {\n",
       "  display: flex;\n",
       "  flex-direction: column;\n",
       "  align-items: center;\n",
       "  background-color: var(--sklearn-color-background);\n",
       "  padding-right: 1em;\n",
       "  padding-left: 1em;\n",
       "}\n",
       "\n",
       "\n",
       "/* Toggleable style: style used for estimator/Pipeline/ColumnTransformer box that is\n",
       "clickable and can be expanded/collapsed.\n",
       "- Pipeline and ColumnTransformer use this feature and define the default style\n",
       "- Estimators will overwrite some part of the style using the `sk-estimator` class\n",
       "*/\n",
       "\n",
       "/* Pipeline and ColumnTransformer style (default) */\n",
       "\n",
       "#sk-container-id-3 div.sk-toggleable {\n",
       "  /* Default theme specific background. It is overwritten whether we have a\n",
       "  specific estimator or a Pipeline/ColumnTransformer */\n",
       "  background-color: var(--sklearn-color-background);\n",
       "}\n",
       "\n",
       "/* Toggleable label */\n",
       "#sk-container-id-3 label.sk-toggleable__label {\n",
       "  cursor: pointer;\n",
       "  display: flex;\n",
       "  width: 100%;\n",
       "  margin-bottom: 0;\n",
       "  padding: 0.5em;\n",
       "  box-sizing: border-box;\n",
       "  text-align: center;\n",
       "  align-items: start;\n",
       "  justify-content: space-between;\n",
       "  gap: 0.5em;\n",
       "}\n",
       "\n",
       "#sk-container-id-3 label.sk-toggleable__label .caption {\n",
       "  font-size: 0.6rem;\n",
       "  font-weight: lighter;\n",
       "  color: var(--sklearn-color-text-muted);\n",
       "}\n",
       "\n",
       "#sk-container-id-3 label.sk-toggleable__label-arrow:before {\n",
       "  /* Arrow on the left of the label */\n",
       "  content: \"▸\";\n",
       "  float: left;\n",
       "  margin-right: 0.25em;\n",
       "  color: var(--sklearn-color-icon);\n",
       "}\n",
       "\n",
       "#sk-container-id-3 label.sk-toggleable__label-arrow:hover:before {\n",
       "  color: var(--sklearn-color-text);\n",
       "}\n",
       "\n",
       "/* Toggleable content - dropdown */\n",
       "\n",
       "#sk-container-id-3 div.sk-toggleable__content {\n",
       "  max-height: 0;\n",
       "  max-width: 0;\n",
       "  overflow: hidden;\n",
       "  text-align: left;\n",
       "  /* unfitted */\n",
       "  background-color: var(--sklearn-color-unfitted-level-0);\n",
       "}\n",
       "\n",
       "#sk-container-id-3 div.sk-toggleable__content.fitted {\n",
       "  /* fitted */\n",
       "  background-color: var(--sklearn-color-fitted-level-0);\n",
       "}\n",
       "\n",
       "#sk-container-id-3 div.sk-toggleable__content pre {\n",
       "  margin: 0.2em;\n",
       "  border-radius: 0.25em;\n",
       "  color: var(--sklearn-color-text);\n",
       "  /* unfitted */\n",
       "  background-color: var(--sklearn-color-unfitted-level-0);\n",
       "}\n",
       "\n",
       "#sk-container-id-3 div.sk-toggleable__content.fitted pre {\n",
       "  /* unfitted */\n",
       "  background-color: var(--sklearn-color-fitted-level-0);\n",
       "}\n",
       "\n",
       "#sk-container-id-3 input.sk-toggleable__control:checked~div.sk-toggleable__content {\n",
       "  /* Expand drop-down */\n",
       "  max-height: 200px;\n",
       "  max-width: 100%;\n",
       "  overflow: auto;\n",
       "}\n",
       "\n",
       "#sk-container-id-3 input.sk-toggleable__control:checked~label.sk-toggleable__label-arrow:before {\n",
       "  content: \"▾\";\n",
       "}\n",
       "\n",
       "/* Pipeline/ColumnTransformer-specific style */\n",
       "\n",
       "#sk-container-id-3 div.sk-label input.sk-toggleable__control:checked~label.sk-toggleable__label {\n",
       "  color: var(--sklearn-color-text);\n",
       "  background-color: var(--sklearn-color-unfitted-level-2);\n",
       "}\n",
       "\n",
       "#sk-container-id-3 div.sk-label.fitted input.sk-toggleable__control:checked~label.sk-toggleable__label {\n",
       "  background-color: var(--sklearn-color-fitted-level-2);\n",
       "}\n",
       "\n",
       "/* Estimator-specific style */\n",
       "\n",
       "/* Colorize estimator box */\n",
       "#sk-container-id-3 div.sk-estimator input.sk-toggleable__control:checked~label.sk-toggleable__label {\n",
       "  /* unfitted */\n",
       "  background-color: var(--sklearn-color-unfitted-level-2);\n",
       "}\n",
       "\n",
       "#sk-container-id-3 div.sk-estimator.fitted input.sk-toggleable__control:checked~label.sk-toggleable__label {\n",
       "  /* fitted */\n",
       "  background-color: var(--sklearn-color-fitted-level-2);\n",
       "}\n",
       "\n",
       "#sk-container-id-3 div.sk-label label.sk-toggleable__label,\n",
       "#sk-container-id-3 div.sk-label label {\n",
       "  /* The background is the default theme color */\n",
       "  color: var(--sklearn-color-text-on-default-background);\n",
       "}\n",
       "\n",
       "/* On hover, darken the color of the background */\n",
       "#sk-container-id-3 div.sk-label:hover label.sk-toggleable__label {\n",
       "  color: var(--sklearn-color-text);\n",
       "  background-color: var(--sklearn-color-unfitted-level-2);\n",
       "}\n",
       "\n",
       "/* Label box, darken color on hover, fitted */\n",
       "#sk-container-id-3 div.sk-label.fitted:hover label.sk-toggleable__label.fitted {\n",
       "  color: var(--sklearn-color-text);\n",
       "  background-color: var(--sklearn-color-fitted-level-2);\n",
       "}\n",
       "\n",
       "/* Estimator label */\n",
       "\n",
       "#sk-container-id-3 div.sk-label label {\n",
       "  font-family: monospace;\n",
       "  font-weight: bold;\n",
       "  display: inline-block;\n",
       "  line-height: 1.2em;\n",
       "}\n",
       "\n",
       "#sk-container-id-3 div.sk-label-container {\n",
       "  text-align: center;\n",
       "}\n",
       "\n",
       "/* Estimator-specific */\n",
       "#sk-container-id-3 div.sk-estimator {\n",
       "  font-family: monospace;\n",
       "  border: 1px dotted var(--sklearn-color-border-box);\n",
       "  border-radius: 0.25em;\n",
       "  box-sizing: border-box;\n",
       "  margin-bottom: 0.5em;\n",
       "  /* unfitted */\n",
       "  background-color: var(--sklearn-color-unfitted-level-0);\n",
       "}\n",
       "\n",
       "#sk-container-id-3 div.sk-estimator.fitted {\n",
       "  /* fitted */\n",
       "  background-color: var(--sklearn-color-fitted-level-0);\n",
       "}\n",
       "\n",
       "/* on hover */\n",
       "#sk-container-id-3 div.sk-estimator:hover {\n",
       "  /* unfitted */\n",
       "  background-color: var(--sklearn-color-unfitted-level-2);\n",
       "}\n",
       "\n",
       "#sk-container-id-3 div.sk-estimator.fitted:hover {\n",
       "  /* fitted */\n",
       "  background-color: var(--sklearn-color-fitted-level-2);\n",
       "}\n",
       "\n",
       "/* Specification for estimator info (e.g. \"i\" and \"?\") */\n",
       "\n",
       "/* Common style for \"i\" and \"?\" */\n",
       "\n",
       ".sk-estimator-doc-link,\n",
       "a:link.sk-estimator-doc-link,\n",
       "a:visited.sk-estimator-doc-link {\n",
       "  float: right;\n",
       "  font-size: smaller;\n",
       "  line-height: 1em;\n",
       "  font-family: monospace;\n",
       "  background-color: var(--sklearn-color-background);\n",
       "  border-radius: 1em;\n",
       "  height: 1em;\n",
       "  width: 1em;\n",
       "  text-decoration: none !important;\n",
       "  margin-left: 0.5em;\n",
       "  text-align: center;\n",
       "  /* unfitted */\n",
       "  border: var(--sklearn-color-unfitted-level-1) 1pt solid;\n",
       "  color: var(--sklearn-color-unfitted-level-1);\n",
       "}\n",
       "\n",
       ".sk-estimator-doc-link.fitted,\n",
       "a:link.sk-estimator-doc-link.fitted,\n",
       "a:visited.sk-estimator-doc-link.fitted {\n",
       "  /* fitted */\n",
       "  border: var(--sklearn-color-fitted-level-1) 1pt solid;\n",
       "  color: var(--sklearn-color-fitted-level-1);\n",
       "}\n",
       "\n",
       "/* On hover */\n",
       "div.sk-estimator:hover .sk-estimator-doc-link:hover,\n",
       ".sk-estimator-doc-link:hover,\n",
       "div.sk-label-container:hover .sk-estimator-doc-link:hover,\n",
       ".sk-estimator-doc-link:hover {\n",
       "  /* unfitted */\n",
       "  background-color: var(--sklearn-color-unfitted-level-3);\n",
       "  color: var(--sklearn-color-background);\n",
       "  text-decoration: none;\n",
       "}\n",
       "\n",
       "div.sk-estimator.fitted:hover .sk-estimator-doc-link.fitted:hover,\n",
       ".sk-estimator-doc-link.fitted:hover,\n",
       "div.sk-label-container:hover .sk-estimator-doc-link.fitted:hover,\n",
       ".sk-estimator-doc-link.fitted:hover {\n",
       "  /* fitted */\n",
       "  background-color: var(--sklearn-color-fitted-level-3);\n",
       "  color: var(--sklearn-color-background);\n",
       "  text-decoration: none;\n",
       "}\n",
       "\n",
       "/* Span, style for the box shown on hovering the info icon */\n",
       ".sk-estimator-doc-link span {\n",
       "  display: none;\n",
       "  z-index: 9999;\n",
       "  position: relative;\n",
       "  font-weight: normal;\n",
       "  right: .2ex;\n",
       "  padding: .5ex;\n",
       "  margin: .5ex;\n",
       "  width: min-content;\n",
       "  min-width: 20ex;\n",
       "  max-width: 50ex;\n",
       "  color: var(--sklearn-color-text);\n",
       "  box-shadow: 2pt 2pt 4pt #999;\n",
       "  /* unfitted */\n",
       "  background: var(--sklearn-color-unfitted-level-0);\n",
       "  border: .5pt solid var(--sklearn-color-unfitted-level-3);\n",
       "}\n",
       "\n",
       ".sk-estimator-doc-link.fitted span {\n",
       "  /* fitted */\n",
       "  background: var(--sklearn-color-fitted-level-0);\n",
       "  border: var(--sklearn-color-fitted-level-3);\n",
       "}\n",
       "\n",
       ".sk-estimator-doc-link:hover span {\n",
       "  display: block;\n",
       "}\n",
       "\n",
       "/* \"?\"-specific style due to the `<a>` HTML tag */\n",
       "\n",
       "#sk-container-id-3 a.estimator_doc_link {\n",
       "  float: right;\n",
       "  font-size: 1rem;\n",
       "  line-height: 1em;\n",
       "  font-family: monospace;\n",
       "  background-color: var(--sklearn-color-background);\n",
       "  border-radius: 1rem;\n",
       "  height: 1rem;\n",
       "  width: 1rem;\n",
       "  text-decoration: none;\n",
       "  /* unfitted */\n",
       "  color: var(--sklearn-color-unfitted-level-1);\n",
       "  border: var(--sklearn-color-unfitted-level-1) 1pt solid;\n",
       "}\n",
       "\n",
       "#sk-container-id-3 a.estimator_doc_link.fitted {\n",
       "  /* fitted */\n",
       "  border: var(--sklearn-color-fitted-level-1) 1pt solid;\n",
       "  color: var(--sklearn-color-fitted-level-1);\n",
       "}\n",
       "\n",
       "/* On hover */\n",
       "#sk-container-id-3 a.estimator_doc_link:hover {\n",
       "  /* unfitted */\n",
       "  background-color: var(--sklearn-color-unfitted-level-3);\n",
       "  color: var(--sklearn-color-background);\n",
       "  text-decoration: none;\n",
       "}\n",
       "\n",
       "#sk-container-id-3 a.estimator_doc_link.fitted:hover {\n",
       "  /* fitted */\n",
       "  background-color: var(--sklearn-color-fitted-level-3);\n",
       "}\n",
       "</style><div id=\"sk-container-id-3\" class=\"sk-top-container\"><div class=\"sk-text-repr-fallback\"><pre>RandomForestClassifier()</pre><b>In a Jupyter environment, please rerun this cell to show the HTML representation or trust the notebook. <br />On GitHub, the HTML representation is unable to render, please try loading this page with nbviewer.org.</b></div><div class=\"sk-container\" hidden><div class=\"sk-item\"><div class=\"sk-estimator fitted sk-toggleable\"><input class=\"sk-toggleable__control sk-hidden--visually\" id=\"sk-estimator-id-3\" type=\"checkbox\" checked><label for=\"sk-estimator-id-3\" class=\"sk-toggleable__label fitted sk-toggleable__label-arrow\"><div><div>RandomForestClassifier</div></div><div><a class=\"sk-estimator-doc-link fitted\" rel=\"noreferrer\" target=\"_blank\" href=\"https://scikit-learn.org/1.6/modules/generated/sklearn.ensemble.RandomForestClassifier.html\">?<span>Documentation for RandomForestClassifier</span></a><span class=\"sk-estimator-doc-link fitted\">i<span>Fitted</span></span></div></label><div class=\"sk-toggleable__content fitted\"><pre>RandomForestClassifier()</pre></div> </div></div></div></div>"
      ]
     },
     "execution_count": 59,
     "metadata": {},
     "output_type": "execute_result"
    }
   ],
   "execution_count": 59
  },
  {
   "metadata": {
    "ExecuteTime": {
     "end_time": "2025-04-06T09:40:49.957438Z",
     "start_time": "2025-04-06T09:39:08.399740Z"
    }
   },
   "cell_type": "code",
   "source": [
    "# 2. گرفتن احتمال تعلق نمونه‌ها به کلاس «8» اینبار با predict_proba()\n",
    "y_scores_rf = cross_val_predict(rf, X_train, y_train8, cv=5, method=\"predict_proba\")\n",
    "y_scores_rf = y_scores_rf[:, 1]  # فقط احتمال تعلق به کلاس \"8\"\n",
    "\n"
   ],
   "outputs": [],
   "execution_count": 60
  },
  {
   "metadata": {
    "ExecuteTime": {
     "end_time": "2025-04-06T09:40:50.066036Z",
     "start_time": "2025-04-06T09:40:49.957438Z"
    }
   },
   "cell_type": "code",
   "source": [
    "#  3. رسم Precision-Recall Curve\n",
    "from sklearn.metrics import precision_recall_curve\n",
    "\n",
    "prec_rf, recall_rf, thresholds_rf = precision_recall_curve(y_train8, y_scores_rf)\n",
    "\n",
    "plt.plot(recall_rf, prec_rf)\n",
    "plt.xlabel(\"Recall\")\n",
    "plt.ylabel(\"Precision\")\n",
    "plt.title(\"Random Forest - Precision vs Recall\")\n",
    "plt.grid(True)\n",
    "plt.show()\n"
   ],
   "outputs": [
    {
     "data": {
      "text/plain": [
       "<Figure size 640x480 with 1 Axes>"
      ],
      "image/png": "[encoded data removed]"
     },
     "metadata": {},
     "output_type": "display_data"
    }
   ],
   "execution_count": 61
  },
  {
   "metadata": {
    "ExecuteTime": {
     "end_time": "2025-04-06T09:40:50.081711Z",
     "start_time": "2025-04-06T09:40:50.067059Z"
    }
   },
   "cell_type": "code",
   "source": [
    "# 4. پیدا کردن بهترین Threshold (مثلاً جایی که precision ≥ 90٪)\n",
    "best_thresh = thresholds_rf[(prec_rf >= 0.9).argmax()]\n",
    "y_pred_90prec = (y_scores_rf >= best_thresh)\n",
    "\n",
    "from sklearn.metrics import precision_score, recall_score\n",
    "\n",
    "print(\"Precision:\", precision_score(y_train8, y_pred_90prec))\n",
    "print(\"Recall:\", recall_score(y_train8, y_pred_90prec))\n"
   ],
   "outputs": [
    {
     "name": "stdout",
     "output_type": "stream",
     "text": [
      "Precision: 0.9015409570154096\n",
      "Recall: 0.9499230900700735\n"
     ]
    }
   ],
   "execution_count": 62
  },
  {
   "metadata": {
    "ExecuteTime": {
     "end_time": "2025-04-06T09:40:50.173189Z",
     "start_time": "2025-04-06T09:40:50.081711Z"
    }
   },
   "cell_type": "code",
   "source": [
    " # 5. رسم ROC Curve و محاسبه AUC\n",
    "from sklearn.metrics import roc_curve, roc_auc_score\n",
    "\n",
    "fpr_rf, tpr_rf, _ = roc_curve(y_train8, y_scores_rf)\n",
    "plt.plot(fpr_rf, tpr_rf)\n",
    "plt.xlabel(\"False Positive Rate\")\n",
    "plt.ylabel(\"True Positive Rate\")\n",
    "plt.title(\"Random Forest - ROC Curve\")\n",
    "plt.grid(True)\n",
    "plt.show()\n",
    "\n",
    "print(\"ROC AUC:\", roc_auc_score(y_train8, y_scores_rf))\n"
   ],
   "outputs": [
    {
     "data": {
      "text/plain": [
       "<Figure size 640x480 with 1 Axes>"
      ],
      "image/png": "[encoded data removed]"
     },
     "metadata": {},
     "output_type": "display_data"
    },
    {
     "name": "stdout",
     "output_type": "stream",
     "text": [
      "ROC AUC: 0.9968989599233995\n"
     ]
    }
   ],
   "execution_count": 63
  },
  {
   "metadata": {},
   "cell_type": "markdown",
   "source": [
    "---\n",
    "\"\"\"\n",
    "# انواع طبقه بندی:\n",
    "#_____________________\n",
    " \n",
    "# Binary Classification | طبقه‌بندی دودویی\n",
    "مثل یه کلید روشن/خاموش. مدل فقط بین دو کلاس تصمیم می‌گیره.\n",
    "مثال:\n",
    "\n",
    "    ایمیل اسپم است یا نه؟\n",
    "    بیمار مبتلا به سرطان هست یا نیست؟\n",
    " ورودی: یک نمونه (مثلاً یک ایمیل)\n",
    " خروجی: فقط یک برچسب از دو گزینه: [0 یا 1]، [اسپم یا غیر اسپم]\n",
    " \n",
    "#_____________________\n",
    "\n",
    "#  Multiclass Classification | طبقه‌بندی چندکلاسه\n",
    "وقتی فقط یک برچسب به هر ورودی می‌چسبه، ولی تعداد برچسب‌ها بیشتر از دوتاست.\n",
    "مثال:\n",
    "\n",
    "    تشخیص نوع حیوان: گربه، سگ، اسب، پرنده\n",
    "    تشخیص رقم دست‌نویس: 0 تا 9\n",
    " ورودی: یک نمونه (مثلاً تصویر یک حیوان)\n",
    " خروجی: دقیقاً یک برچسب از بین چند گزینه (مثلاً فقط \"سگ\")\n",
    "\n",
    "#_____________________\n",
    "\n",
    "# Multilabel Classification | طبقه‌بندی چندبرچسبی\n",
    "برخلاف مورد بالا، اینجا چند برچسب می‌تونه به یک ورودی تعلق بگیره.\n",
    "مثال:\n",
    "\n",
    "    یک آهنگ ممکنه همزمان ژانرهای \"پاپ\"، \"الکترونیک\" و \"رقص\" داشته باشه.\n",
    "    یک عکس ممکنه هم \"سگ\" داشته باشه و هم \"دوچرخه\".\n",
    "📦 ورودی: یک نمونه (مثلاً یک تصویر)\n",
    "🎯 خروجی: لیستی از برچسب‌هایی که بهش می‌خوره (مثلاً [1, 0, 1, 1] برای ۴ کلاس)\n",
    "\n",
    "#_____________________\n",
    "\n",
    "# Multi-Output Classification | طبقه‌بندی چندخروجی\n",
    "حالا برسیم به اصل ماجرا...\n",
    "تعریف:\n",
    "وقتی که یک مدل باید چند ویژگی متفاوت از یک ورودی رو به‌صورت همزمان پیش‌بینی کنه، بهش می‌گیم Multi-output Classification.\n",
    "\"\"\""
   ]
  },
  {
   "cell_type": "markdown",
   "source": [
    "---\n",
    " # Multiclass Classification"
   ],
   "metadata": {
    "id": "ktV_QuE44cT-"
   }
  },
  {
   "metadata": {},
   "cell_type": "markdown",
   "source": [
    "#  One-vs-Rest (OvR) یا One-vs-All (OvA)\n",
    "\"\"\"\n",
    "دلیل نام گذاری:\n",
    "\n",
    "    One = یه کلاس خاص (مثلاً عدد 3)\n",
    "    vs = در برابر، مقابل، مقابله\n",
    "    \n",
    "    برای هر کلاس، یک مدل می‌سازیم که اون کلاس رو در برابر همه‌ی کلاس‌های دیگه تشخیص بده\n",
    "\n",
    " برای هر کلاس، یک مدل جداگونه آموزش می‌دیم که یاد بگیره تشخیص بده:\n",
    "پس اگه n تا کلاس داشته باشیم، n تا مدل می‌سازیم.\n",
    "\n",
    "\n",
    "شهود:\n",
    "\n",
    "    فرض کن 10 تا کاندیدا داریم (مثل 0 تا 9) و هر کدوم می‌خواد رئیس جمهور شه.\n",
    "    هر کاندیدا می‌گه:\n",
    "    «یا من، یا هیچ‌کس دیگه!».\n",
    "    در نهایت به کسی که بلندترین و مطمئن‌ترین فریاد رو زده، رأی رو می‌دیم.        \n",
    "\n",
    "مزایا:\n",
    "\n",
    "    - ساده‌تر و سریع‌تر برای تعداد زیاد کلاس‌ها\n",
    "    - مناسب برای الگوریتم‌هایی که فقط باینری هستن\n",
    "\n",
    "\n",
    "معایب:\n",
    "    \n",
    "    1- در One-vs-Rest (OvR)، هر مدل باید روی کل دیتاست آموزش ببینه.\n",
    "    در این حالت، برای هر عدد (مثلاً 3) ما باید یک مدل train کنیم که بگه:\n",
    "\n",
    "    \"آیا این تصویر 3 هست یا نه؟\"\n",
    "    پس برای مدل «3 در مقابل بقیه»، باید:\n",
    "        6000 تصویر کلاس 3 رو بگیریم (مثبت)\n",
    "        54000 تصویر بقیه کلاس‌ها رو هم بگیریم (منفی)\n",
    "\n",
    "    → کل دیتای مورد استفاده برای هر مدل = کل دیتاست\n",
    "    👎 یعنی هر مدل روی 60,000 نمونه آموزش می‌بینه\n",
    "    و این رو 10 بار تکرار می‌کنیم.\n",
    "\n",
    "\n",
    "    2- خروجی خیلی قوی حتی وقتی اشتباهه (مشکل confidence در OvR)\n",
    "    3- دیتای Unbalanced (عدم توازن بین کلاس مثبت و منفی)\n",
    "    فرض کن در دیتاست، از 1000 تصویر، فقط 100 تا «سگ» داریم و 900 تا «گربه» و «فیل».الان مدل ممکنه یاد بگیره با گفتن «همه رو بزن نه!»، به دقت 90٪ برسه! ولی هیچ ارزشی نداره چون سگ‌ها رو پیدا نمی‌کنه.\n",
    "\"\"\""
   ]
  },
  {
   "metadata": {},
   "cell_type": "markdown",
   "source": [
    "# One-vs-One (OvO)\n",
    "\"\"\"\n",
    "دلیل نام گذاری:\n",
    "\n",
    "    برای هر جفت از دو کلاس، یک مدل جداگانه می‌سازیم که فقط بین اون دو کلاس تصمیم‌گیری کنه.\n",
    "\n",
    "    پس اگر n تا کلاس داشته باشیم، تعداد مدل‌ها میشه:\n",
    "    n*(n-1)/2\n",
    "\n",
    "\n",
    "شهود:\n",
    "\n",
    "    اینو مثل یه لیگ فوتبال فرض کن.\n",
    "    هر تیم (عدد) با تمام تیم‌های دیگه بازی می‌کنه (مدل دو‌به‌دو).\n",
    "    در نهایت تیمی که بیشترین برد رو آورده، قهرمانه!مسابقات دو‌به‌دو آورده.\n",
    "\n",
    "    یا در مثال ام نیست:\n",
    "    فرض کن ما می‌خوایم یه مدل بسازیم که وقتی بهش یه تصویر از یک عدد (رقم دست‌نویس) نشون می‌دیم، بگه این چیه:\n",
    "    0؟ 1؟ 2؟ … یا 9؟\n",
    "        \n",
    "    در OvO، برای هر دو عدد ممکن، یک مدل می‌سازیم.\n",
    "    هر مدل فقط بین همون دوتا تصمیم می‌گیره.\n",
    "\n",
    "    \"بین این دوتا کدومه؟\n",
    "         پس چه مدل‌هایی می‌سازیم؟\n",
    "        بیا از عدد 0 شروع کنیم:\n",
    "            0 vs 1\n",
    "            0 vs 2\n",
    "            0 vs 3\n",
    "            ...\n",
    "            0 vs 9\n",
    "        \n",
    "        بعد از 0، می‌ریم سراغ 1:\n",
    "            1 vs 2\n",
    "            1 vs 3\n",
    "            ...\n",
    "            1 vs 9\n",
    "        همینطور ادامه می‌دیم تا:\n",
    "         8 vs 9\n",
    "\n",
    "        اینطوری 45 تا مدل میسازیم چون\n",
    "        10*(10-1)/2 \n",
    "\n",
    " مزایا\n",
    " \n",
    "    1- در One-vs-One، هر مدل فقط با زیرمجموعه کوچکی از کل داده آموزش می‌بینه.\n",
    "    در این حالت، هر مدل فقط بین دو عدد خاص قضاوت می‌کنه. مثلاً:\n",
    "    مدل «3 vs 7» فقط نیاز به:\n",
    "        6000 تصویر کلاس 3\n",
    "        6000 تصویر کلاس 7\n",
    "\n",
    "    → فقط 12,000 تصویر برای این مدل لازم داریم.\n",
    "    و چون OvO فقط روی دو کلاس متمرکزه، پس دیتای آموزشی هر مدل:\n",
    "    - کوچکتره\n",
    "    - متوازن‌تره (class imbalance کمتره)\n",
    "    - ساده‌تره (feature space تمیزتره)\n",
    "\n",
    "    2- هر مدل فقط روی دو کلاس آموزش می‌بینه → کلاس‌ها balanced هستن\n",
    "    - دقت بالا چون تمرکز روی تفکیک دو به دوئه\n",
    "    \n",
    "معایب:\n",
    "\n",
    "    - تعداد مدل‌ها زیاد میشه: برای 10 کلاس → 45 مدل!\n",
    "    - زمان آموزش و حافظه زیاد می‌خواد\n",
    "    \n",
    "\"\"\""
   ]
  },
  {
   "metadata": {},
   "cell_type": "markdown",
   "source": [
    "\"\"\"\n",
    "جواب قطعی  که OvR  سریع تر یا OvO وجود نداره و بستگی داره به:\n",
    "\n",
    "        - الگوریتمی که استفاده می‌کنی (مثل SVM یا Logistic Regression)\n",
    "        - تعداد کلاس‌ها (n)\n",
    "        - تعداد نمونه‌ها (m)\n",
    "        - زمان آموزش مدل نسبت به حجم داده و تعداد نمونه‌های آن\n",
    "\"\"\""
   ]
  },
  {
   "metadata": {
    "ExecuteTime": {
     "end_time": "2025-04-06T09:40:50.176220Z",
     "start_time": "2025-04-06T09:40:50.173189Z"
    }
   },
   "cell_type": "code",
   "source": "",
   "outputs": [],
   "execution_count": 63
  },
  {
   "metadata": {},
   "cell_type": "markdown",
   "source": [
    " # کد اماده برای OvO و OvR \n",
    "### کتابخانه سایکیت لرن کار را راحت کرده توسط SVM "
   ]
  },
  {
   "metadata": {},
   "cell_type": "markdown",
   "source": ""
  },
  {
   "metadata": {},
   "cell_type": "markdown",
   "source": [
    "\"\"\"\n",
    "# SVM\n",
    "ماشین بردار پشتیبان \n",
    "SVM یک الگوریتم یادگیری نظارت شده است که برای مسائل طبقه‌بندی و رگرسیون استفاده می‌شود. ایده اصلی SVM یافتن یک ابرصفحه (hyperplane) است که داده‌ها را به بهترین شکل ممکن جدا کند. ابرصفحه، یک خط یا صفحه است که داده‌ها را به دو یا چند کلاس تقسیم می‌کند.\n",
    "\n",
    "# SVC\n",
    " مخفف Support Vector Classification است و برای طبقه‌بندی داده‌ها استفاده می‌شود. این کلاس پارامترهای مختلفی دارد که می‌توانید برای تنظیم مدل SVM استفاده کنید. برخی از مهم‌ترین پارامترها عبارتند از:\n",
    "        \n",
    "    kernel: نوع کرنل مورد استفاده در الگوریتم را مشخص می‌کند. کرنل‌ها توابعی هستند که برای تبدیل داده‌ها به فضای ویژگی با ابعاد بالاتر استفاده می‌شوند. برخی از کرنل‌های رایج عبارتند از:\n",
    "    \n",
    "        linear: کرنل خطی\n",
    "        poly: کرنل چندجمله‌ای\n",
    "        rbf: کرنل تابع پایه شعاعی (Radial Basis Function)\n",
    "        sigmoid: کرنل سیگموئید\n",
    "    \n",
    "    C: پارامتر منظم‌سازی (regularization) است که تعادل بین طبقه‌بندی صحیح داده‌های آموزشی و حداکثر کردن حاشیه را کنترل می‌کند. مقادیر کوچک C منجر به حاشیه بزرگ‌تر و مقادیر بزرگ C منجر به طبقه‌بندی دقیق‌تر داده‌های آموزشی می‌شود.\n",
    "    gamma: ضریب کرنل برای کرنل‌های rbf، poly و sigmoid است. gamma نحوه تأثیر هر نمونه آموزشی بر تصمیم‌گیری را تعیین می‌کند. مقادیر کوچک gamma منجر به تأثیر گسترده‌تر و مقادیر بزرگ gamma منجر به تأثیر محدودتر می‌شود.\n",
    "    degree: درجه کرنل چندجمله‌ای (poly) را مشخص می‌کند.\n",
    "\n",
    "# SVR\n",
    "رگرسیون بردار پشتیبان\n",
    "\n",
    "sklearn.svm.SVR یک کلاس در کتابخانه scikit-learn پایتون است که برای ایجاد مدل‌های ماشین بردار پشتیبان (SVM) برای مسائل رگرسیون استفاده می‌شود.\n",
    "\n",
    "\n",
    "پارامترهای مهم SVR\n",
    "\n",
    "    SVR پارامترهای مختلفی دارد که می‌توانید برای تنظیم مدل استفاده کنید. برخی از مهم‌ترین پارامترها عبارتند از:\n",
    "\n",
    "    kernel: نوع کرنل مورد استفاده در الگوریتم را مشخص می‌کند. کرنل‌ها توابعی هستند که برای تبدیل داده‌ها به فضای ویژگی با ابعاد بالاتر استفاده می‌شوند. برخی از کرنل‌های رایج عبارتند از:\n",
    "        linear: کرنل خطی\n",
    "        poly: کرنل چندجمله‌ای\n",
    "        rbf: کرنل تابع پایه شعاعی (Radial Basis Function)\n",
    "        sigmoid: کرنل سیگموئید\n",
    "    C: پارامتر منظم‌سازی (regularization) است که تعادل بین برازش داده‌های آموزشی و ساده‌سازی مدل را کنترل می‌کند. مقادیر کوچک C منجر به مدل ساده‌تر و مقادیر بزرگ C منجر به برازش دقیق‌تر داده‌های آموزشی می‌شود.\n",
    "    epsilon: حداکثر خطای مجاز بین مقادیر پیش‌بینی شده و مقادیر واقعی را تعیین می‌کند.\n",
    "    gamma: ضریب کرنل برای کرنل‌های rbf، poly و sigmoid است. gamma نحوه تأثیر هر نمونه آموزشی بر تصمیم‌گیری را تعیین می‌کند. مقادیر کوچک gamma منجر به تأثیر گسترده‌تر و مقادیر بزرگ gamma منجر به تأثیر محدودتر می‌شود. \n",
    "\n",
    "\n",
    "تفاوت SVR با SVC\n",
    "\n",
    "    SVC: برای طبقه‌بندی (Classification) داده‌ها استفاده می‌شود، یعنی پیش‌بینی برچسب یا دسته یک نمونه.\n",
    "    SVR: برای رگرسیون (Regression) داده‌ها استفاده می‌شود، یعنی پیش‌بینی یک مقدار پیوسته برای یک نمونه.\n",
    "\n",
    "    به‌طور خلاصه، SVC برای مسائل طبقه‌بندی و SVR برای مسائل رگرسیون استفاده می‌شود.\n",
    "    \n",
    "\"\"\""
   ]
  },
  {
   "metadata": {},
   "cell_type": "markdown",
   "source": ""
  },
  {
   "metadata": {
    "ExecuteTime": {
     "end_time": "2025-04-06T09:40:50.179353Z",
     "start_time": "2025-04-06T09:40:50.177234Z"
    }
   },
   "cell_type": "code",
   "source": "",
   "outputs": [],
   "execution_count": 63
  },
  {
   "metadata": {},
   "cell_type": "markdown",
   "source": "# مقایسه OvO و OvR با استفاده از  SVM \n"
  },
  {
   "metadata": {
    "ExecuteTime": {
     "end_time": "2025-04-06T09:40:50.499064Z",
     "start_time": "2025-04-06T09:40:50.179353Z"
    }
   },
   "cell_type": "code",
   "source": [
    "# مقایسه OvO و OvR\n",
    "\n",
    "# 1. بارگذاری و آماده‌سازی داده‌ها (digits dataset)\n",
    "from sklearn import datasets\n",
    "from sklearn.model_selection import train_test_split\n",
    "from sklearn.preprocessing import StandardScaler\n",
    "\n",
    "# دیتاست ارقام 0 تا 9\n",
    "digits = datasets.load_digits()\n",
    "\n",
    "# برای ساده‌سازی فقط 1000 نمونه اول رو استفاده کردیم\n",
    "X, y = digits.data[:1000], digits.target[:1000]\n",
    "\n",
    "# تقسیم به آموزش و تست، با حفظ نسبت کلاس‌ها\n",
    "X_train, X_test, y_train, y_test = train_test_split(\n",
    "    X, y, test_size=0.3, random_state=42, stratify=y\n",
    ")\n",
    "\n",
    "# نرمال‌سازی ویژگی‌ها (scaling) برای بهتر شدن عملکرد مدل‌ها\n",
    "scaler = StandardScaler()\n",
    "X_train_scaled = scaler.fit_transform(X_train)\n",
    "X_test_scaled = scaler.transform(X_test)\n",
    "\n",
    "\n",
    "\n",
    "# 2. . ساخت مدل‌ها: OvR و OvO با Logistic Regression\n",
    "from sklearn.linear_model import LogisticRegression\n",
    "from sklearn.multiclass import OneVsRestClassifier, OneVsOneClassifier\n",
    "\n",
    "# OvR (یکی در برابر همه)\n",
    "ovr_clf = OneVsRestClassifier(LogisticRegression(max_iter=1000))\n",
    "\n",
    "# OvO (دوتایی‌ها)\n",
    "ovo_clf = OneVsOneClassifier(LogisticRegression(max_iter=1000))\n",
    "\n",
    "# آموزش مدل‌ها روی دادهٔ نرمال‌شده\n",
    "ovr_clf.fit(X_train_scaled, y_train)\n",
    "ovo_clf.fit(X_train_scaled, y_train)\n",
    "\n",
    "\n",
    "# 3. پیش‌بینی و ارزیابی دقت\n",
    "from sklearn.metrics import accuracy_score\n",
    "\n",
    "# پیش‌بینی روی داده تست\n",
    "ovr_preds = ovr_clf.predict(X_test_scaled)\n",
    "ovo_preds = ovo_clf.predict(X_test_scaled)\n",
    "\n",
    "# محاسبه دقت (Accuracy)\n",
    "ovr_score = accuracy_score(y_test, ovr_preds)\n",
    "ovo_score = accuracy_score(y_test, ovo_preds)\n",
    "\n",
    "# چاپ دقت‌ها\n",
    "print(\"OvR Accuracy:\", ovr_score)\n",
    "print(\"OvO Accuracy:\", ovo_score)\n"
   ],
   "outputs": [
    {
     "name": "stdout",
     "output_type": "stream",
     "text": [
      "OvR Accuracy: 0.9733333333333334\n",
      "OvO Accuracy: 0.9966666666666667\n"
     ]
    }
   ],
   "execution_count": 64
  },
  {
   "metadata": {},
   "cell_type": "markdown",
   "source": "# SVC"
  },
  {
   "cell_type": "code",
   "source": [
    "from sklearn.svm import SVC\n",
    " # به صورت دیفالت از OvO استفاده میکنه"
   ],
   "metadata": {
    "id": "urus5cRz45m_",
    "ExecuteTime": {
     "end_time": "2025-04-06T09:40:50.502591Z",
     "start_time": "2025-04-06T09:40:50.499569Z"
    }
   },
   "outputs": [],
   "execution_count": 65
  },
  {
   "cell_type": "code",
   "source": [
    "y_train"
   ],
   "metadata": {
    "colab": {
     "base_uri": "https://localhost:8080/"
    },
    "id": "YVcSRgni57fq",
    "outputId": "bbc852eb-6b37-4204-806d-ed9465854619",
    "ExecuteTime": {
     "end_time": "2025-04-06T09:40:50.509617Z",
     "start_time": "2025-04-06T09:40:50.503095Z"
    }
   },
   "outputs": [
    {
     "data": {
      "text/plain": [
       "array([8, 2, 9, 1, 6, 4, 6, 7, 6, 0, 5, 4, 5, 9, 2, 0, 9, 5, 8, 0, 1, 4,\n",
       "       7, 5, 6, 3, 1, 2, 8, 1, 3, 8, 2, 5, 6, 5, 9, 3, 4, 8, 9, 2, 1, 7,\n",
       "       7, 3, 8, 9, 5, 3, 3, 3, 6, 0, 7, 8, 4, 2, 8, 2, 6, 3, 5, 8, 8, 4,\n",
       "       3, 2, 0, 7, 1, 5, 5, 1, 1, 1, 0, 5, 4, 4, 9, 3, 7, 0, 9, 4, 5, 7,\n",
       "       6, 5, 7, 4, 0, 7, 7, 4, 8, 8, 0, 0, 7, 6, 5, 3, 4, 6, 2, 1, 4, 6,\n",
       "       6, 1, 7, 8, 5, 0, 9, 2, 7, 7, 5, 4, 8, 3, 2, 0, 8, 2, 1, 9, 3, 2,\n",
       "       0, 6, 9, 7, 7, 0, 7, 7, 5, 0, 0, 3, 1, 5, 6, 0, 4, 1, 3, 5, 8, 3,\n",
       "       8, 4, 5, 3, 7, 7, 1, 7, 6, 5, 3, 5, 9, 4, 1, 7, 0, 2, 2, 9, 6, 6,\n",
       "       2, 1, 5, 6, 9, 1, 6, 3, 9, 4, 7, 9, 0, 3, 3, 2, 4, 1, 1, 1, 4, 9,\n",
       "       3, 1, 4, 1, 8, 3, 0, 4, 3, 1, 0, 8, 6, 6, 7, 3, 9, 4, 1, 6, 4, 6,\n",
       "       5, 1, 9, 9, 3, 7, 4, 4, 2, 6, 7, 4, 7, 0, 5, 5, 0, 4, 6, 2, 5, 0,\n",
       "       8, 6, 0, 8, 7, 8, 8, 7, 0, 1, 4, 3, 2, 3, 2, 3, 3, 5, 3, 3, 8, 7,\n",
       "       3, 3, 5, 2, 4, 4, 4, 6, 9, 6, 8, 4, 2, 2, 4, 7, 6, 4, 6, 9, 6, 3,\n",
       "       1, 6, 6, 9, 2, 8, 6, 5, 9, 5, 1, 5, 2, 0, 3, 7, 8, 0, 9, 9, 7, 9,\n",
       "       4, 2, 9, 9, 6, 5, 7, 8, 1, 7, 7, 6, 6, 0, 5, 7, 0, 1, 3, 0, 1, 2,\n",
       "       1, 7, 1, 7, 9, 9, 9, 9, 0, 3, 1, 8, 9, 8, 1, 6, 6, 4, 8, 6, 7, 7,\n",
       "       6, 3, 9, 4, 8, 6, 2, 1, 9, 5, 5, 3, 3, 9, 2, 7, 2, 6, 8, 3, 2, 5,\n",
       "       3, 7, 8, 2, 4, 2, 8, 4, 8, 0, 0, 1, 2, 2, 8, 6, 3, 5, 2, 3, 8, 4,\n",
       "       7, 0, 9, 5, 8, 7, 1, 8, 2, 6, 0, 0, 0, 8, 9, 4, 6, 2, 4, 8, 6, 6,\n",
       "       1, 1, 9, 2, 0, 3, 3, 3, 2, 5, 3, 3, 0, 0, 0, 6, 1, 5, 2, 3, 1, 7,\n",
       "       0, 7, 2, 8, 1, 3, 5, 9, 5, 6, 0, 3, 5, 8, 3, 9, 4, 8, 0, 8, 1, 2,\n",
       "       9, 3, 8, 5, 2, 4, 5, 0, 1, 2, 7, 0, 5, 5, 1, 2, 1, 2, 8, 3, 4, 0,\n",
       "       6, 6, 4, 3, 5, 7, 8, 9, 6, 5, 6, 8, 1, 4, 9, 1, 1, 9, 9, 7, 7, 1,\n",
       "       9, 8, 0, 9, 3, 3, 0, 4, 6, 8, 0, 9, 9, 2, 7, 7, 1, 5, 2, 6, 0, 3,\n",
       "       3, 1, 1, 7, 2, 2, 8, 0, 0, 6, 2, 4, 6, 6, 4, 7, 0, 4, 6, 3, 8, 4,\n",
       "       5, 7, 6, 4, 2, 5, 1, 0, 6, 2, 0, 4, 2, 2, 7, 2, 0, 8, 9, 7, 4, 5,\n",
       "       6, 8, 5, 1, 7, 3, 9, 1, 4, 6, 2, 9, 4, 6, 5, 8, 0, 2, 9, 8, 5, 5,\n",
       "       4, 9, 6, 0, 0, 5, 1, 1, 1, 8, 5, 6, 2, 2, 3, 5, 5, 4, 4, 9, 1, 9,\n",
       "       9, 0, 0, 3, 4, 1, 9, 1, 4, 0, 8, 3, 9, 9, 3, 3, 2, 1, 9, 7, 7, 8,\n",
       "       2, 3, 9, 5, 1, 6, 7, 2, 5, 3, 6, 4, 8, 0, 7, 6, 7, 2, 5, 8, 9, 2,\n",
       "       0, 1, 9, 7, 3, 2, 9, 2, 8, 0, 5, 9, 7, 8, 4, 9, 5, 1, 0, 8, 1, 8,\n",
       "       5, 1, 5, 0, 2, 4, 3, 3, 4, 8, 4, 4, 7, 7, 8, 1, 6, 5])"
      ]
     },
     "execution_count": 66,
     "metadata": {},
     "output_type": "execute_result"
    }
   ],
   "execution_count": 66
  },
  {
   "cell_type": "code",
   "source": [
    "svc = SVC()\n",
    "svc.fit(X_train[:1000], y_train[:1000])\n",
    "# هزارتای اول رو بر میداریم چون خیلی زیاده"
   ],
   "metadata": {
    "colab": {
     "base_uri": "https://localhost:8080/",
     "height": 74
    },
    "id": "DOxN33xL52Fw",
    "outputId": "88a3e4ba-191a-486e-9be5-cb6627a16474",
    "ExecuteTime": {
     "end_time": "2025-04-06T09:40:50.537020Z",
     "start_time": "2025-04-06T09:40:50.510645Z"
    }
   },
   "outputs": [
    {
     "data": {
      "text/plain": [
       "SVC()"
      ],
      "text/html": [
       "<style>#sk-container-id-4 {\n",
       "  /* Definition of color scheme common for light and dark mode */\n",
       "  --sklearn-color-text: #000;\n",
       "  --sklearn-color-text-muted: #666;\n",
       "  --sklearn-color-line: gray;\n",
       "  /* Definition of color scheme for unfitted estimators */\n",
       "  --sklearn-color-unfitted-level-0: #fff5e6;\n",
       "  --sklearn-color-unfitted-level-1: #f6e4d2;\n",
       "  --sklearn-color-unfitted-level-2: #ffe0b3;\n",
       "  --sklearn-color-unfitted-level-3: chocolate;\n",
       "  /* Definition of color scheme for fitted estimators */\n",
       "  --sklearn-color-fitted-level-0: #f0f8ff;\n",
       "  --sklearn-color-fitted-level-1: #d4ebff;\n",
       "  --sklearn-color-fitted-level-2: #b3dbfd;\n",
       "  --sklearn-color-fitted-level-3: cornflowerblue;\n",
       "\n",
       "  /* Specific color for light theme */\n",
       "  --sklearn-color-text-on-default-background: var(--sg-text-color, var(--theme-code-foreground, var(--jp-content-font-color1, black)));\n",
       "  --sklearn-color-background: var(--sg-background-color, var(--theme-background, var(--jp-layout-color0, white)));\n",
       "  --sklearn-color-border-box: var(--sg-text-color, var(--theme-code-foreground, var(--jp-content-font-color1, black)));\n",
       "  --sklearn-color-icon: #696969;\n",
       "\n",
       "  @media (prefers-color-scheme: dark) {\n",
       "    /* Redefinition of color scheme for dark theme */\n",
       "    --sklearn-color-text-on-default-background: var(--sg-text-color, var(--theme-code-foreground, var(--jp-content-font-color1, white)));\n",
       "    --sklearn-color-background: var(--sg-background-color, var(--theme-background, var(--jp-layout-color0, #111)));\n",
       "    --sklearn-color-border-box: var(--sg-text-color, var(--theme-code-foreground, var(--jp-content-font-color1, white)));\n",
       "    --sklearn-color-icon: #878787;\n",
       "  }\n",
       "}\n",
       "\n",
       "#sk-container-id-4 {\n",
       "  color: var(--sklearn-color-text);\n",
       "}\n",
       "\n",
       "#sk-container-id-4 pre {\n",
       "  padding: 0;\n",
       "}\n",
       "\n",
       "#sk-container-id-4 input.sk-hidden--visually {\n",
       "  border: 0;\n",
       "  clip: rect(1px 1px 1px 1px);\n",
       "  clip: rect(1px, 1px, 1px, 1px);\n",
       "  height: 1px;\n",
       "  margin: -1px;\n",
       "  overflow: hidden;\n",
       "  padding: 0;\n",
       "  position: absolute;\n",
       "  width: 1px;\n",
       "}\n",
       "\n",
       "#sk-container-id-4 div.sk-dashed-wrapped {\n",
       "  border: 1px dashed var(--sklearn-color-line);\n",
       "  margin: 0 0.4em 0.5em 0.4em;\n",
       "  box-sizing: border-box;\n",
       "  padding-bottom: 0.4em;\n",
       "  background-color: var(--sklearn-color-background);\n",
       "}\n",
       "\n",
       "#sk-container-id-4 div.sk-container {\n",
       "  /* jupyter's `normalize.less` sets `[hidden] { display: none; }`\n",
       "     but bootstrap.min.css set `[hidden] { display: none !important; }`\n",
       "     so we also need the `!important` here to be able to override the\n",
       "     default hidden behavior on the sphinx rendered scikit-learn.org.\n",
       "     See: https://github.com/scikit-learn/scikit-learn/issues/21755 */\n",
       "  display: inline-block !important;\n",
       "  position: relative;\n",
       "}\n",
       "\n",
       "#sk-container-id-4 div.sk-text-repr-fallback {\n",
       "  display: none;\n",
       "}\n",
       "\n",
       "div.sk-parallel-item,\n",
       "div.sk-serial,\n",
       "div.sk-item {\n",
       "  /* draw centered vertical line to link estimators */\n",
       "  background-image: linear-gradient(var(--sklearn-color-text-on-default-background), var(--sklearn-color-text-on-default-background));\n",
       "  background-size: 2px 100%;\n",
       "  background-repeat: no-repeat;\n",
       "  background-position: center center;\n",
       "}\n",
       "\n",
       "/* Parallel-specific style estimator block */\n",
       "\n",
       "#sk-container-id-4 div.sk-parallel-item::after {\n",
       "  content: \"\";\n",
       "  width: 100%;\n",
       "  border-bottom: 2px solid var(--sklearn-color-text-on-default-background);\n",
       "  flex-grow: 1;\n",
       "}\n",
       "\n",
       "#sk-container-id-4 div.sk-parallel {\n",
       "  display: flex;\n",
       "  align-items: stretch;\n",
       "  justify-content: center;\n",
       "  background-color: var(--sklearn-color-background);\n",
       "  position: relative;\n",
       "}\n",
       "\n",
       "#sk-container-id-4 div.sk-parallel-item {\n",
       "  display: flex;\n",
       "  flex-direction: column;\n",
       "}\n",
       "\n",
       "#sk-container-id-4 div.sk-parallel-item:first-child::after {\n",
       "  align-self: flex-end;\n",
       "  width: 50%;\n",
       "}\n",
       "\n",
       "#sk-container-id-4 div.sk-parallel-item:last-child::after {\n",
       "  align-self: flex-start;\n",
       "  width: 50%;\n",
       "}\n",
       "\n",
       "#sk-container-id-4 div.sk-parallel-item:only-child::after {\n",
       "  width: 0;\n",
       "}\n",
       "\n",
       "/* Serial-specific style estimator block */\n",
       "\n",
       "#sk-container-id-4 div.sk-serial {\n",
       "  display: flex;\n",
       "  flex-direction: column;\n",
       "  align-items: center;\n",
       "  background-color: var(--sklearn-color-background);\n",
       "  padding-right: 1em;\n",
       "  padding-left: 1em;\n",
       "}\n",
       "\n",
       "\n",
       "/* Toggleable style: style used for estimator/Pipeline/ColumnTransformer box that is\n",
       "clickable and can be expanded/collapsed.\n",
       "- Pipeline and ColumnTransformer use this feature and define the default style\n",
       "- Estimators will overwrite some part of the style using the `sk-estimator` class\n",
       "*/\n",
       "\n",
       "/* Pipeline and ColumnTransformer style (default) */\n",
       "\n",
       "#sk-container-id-4 div.sk-toggleable {\n",
       "  /* Default theme specific background. It is overwritten whether we have a\n",
       "  specific estimator or a Pipeline/ColumnTransformer */\n",
       "  background-color: var(--sklearn-color-background);\n",
       "}\n",
       "\n",
       "/* Toggleable label */\n",
       "#sk-container-id-4 label.sk-toggleable__label {\n",
       "  cursor: pointer;\n",
       "  display: flex;\n",
       "  width: 100%;\n",
       "  margin-bottom: 0;\n",
       "  padding: 0.5em;\n",
       "  box-sizing: border-box;\n",
       "  text-align: center;\n",
       "  align-items: start;\n",
       "  justify-content: space-between;\n",
       "  gap: 0.5em;\n",
       "}\n",
       "\n",
       "#sk-container-id-4 label.sk-toggleable__label .caption {\n",
       "  font-size: 0.6rem;\n",
       "  font-weight: lighter;\n",
       "  color: var(--sklearn-color-text-muted);\n",
       "}\n",
       "\n",
       "#sk-container-id-4 label.sk-toggleable__label-arrow:before {\n",
       "  /* Arrow on the left of the label */\n",
       "  content: \"▸\";\n",
       "  float: left;\n",
       "  margin-right: 0.25em;\n",
       "  color: var(--sklearn-color-icon);\n",
       "}\n",
       "\n",
       "#sk-container-id-4 label.sk-toggleable__label-arrow:hover:before {\n",
       "  color: var(--sklearn-color-text);\n",
       "}\n",
       "\n",
       "/* Toggleable content - dropdown */\n",
       "\n",
       "#sk-container-id-4 div.sk-toggleable__content {\n",
       "  max-height: 0;\n",
       "  max-width: 0;\n",
       "  overflow: hidden;\n",
       "  text-align: left;\n",
       "  /* unfitted */\n",
       "  background-color: var(--sklearn-color-unfitted-level-0);\n",
       "}\n",
       "\n",
       "#sk-container-id-4 div.sk-toggleable__content.fitted {\n",
       "  /* fitted */\n",
       "  background-color: var(--sklearn-color-fitted-level-0);\n",
       "}\n",
       "\n",
       "#sk-container-id-4 div.sk-toggleable__content pre {\n",
       "  margin: 0.2em;\n",
       "  border-radius: 0.25em;\n",
       "  color: var(--sklearn-color-text);\n",
       "  /* unfitted */\n",
       "  background-color: var(--sklearn-color-unfitted-level-0);\n",
       "}\n",
       "\n",
       "#sk-container-id-4 div.sk-toggleable__content.fitted pre {\n",
       "  /* unfitted */\n",
       "  background-color: var(--sklearn-color-fitted-level-0);\n",
       "}\n",
       "\n",
       "#sk-container-id-4 input.sk-toggleable__control:checked~div.sk-toggleable__content {\n",
       "  /* Expand drop-down */\n",
       "  max-height: 200px;\n",
       "  max-width: 100%;\n",
       "  overflow: auto;\n",
       "}\n",
       "\n",
       "#sk-container-id-4 input.sk-toggleable__control:checked~label.sk-toggleable__label-arrow:before {\n",
       "  content: \"▾\";\n",
       "}\n",
       "\n",
       "/* Pipeline/ColumnTransformer-specific style */\n",
       "\n",
       "#sk-container-id-4 div.sk-label input.sk-toggleable__control:checked~label.sk-toggleable__label {\n",
       "  color: var(--sklearn-color-text);\n",
       "  background-color: var(--sklearn-color-unfitted-level-2);\n",
       "}\n",
       "\n",
       "#sk-container-id-4 div.sk-label.fitted input.sk-toggleable__control:checked~label.sk-toggleable__label {\n",
       "  background-color: var(--sklearn-color-fitted-level-2);\n",
       "}\n",
       "\n",
       "/* Estimator-specific style */\n",
       "\n",
       "/* Colorize estimator box */\n",
       "#sk-container-id-4 div.sk-estimator input.sk-toggleable__control:checked~label.sk-toggleable__label {\n",
       "  /* unfitted */\n",
       "  background-color: var(--sklearn-color-unfitted-level-2);\n",
       "}\n",
       "\n",
       "#sk-container-id-4 div.sk-estimator.fitted input.sk-toggleable__control:checked~label.sk-toggleable__label {\n",
       "  /* fitted */\n",
       "  background-color: var(--sklearn-color-fitted-level-2);\n",
       "}\n",
       "\n",
       "#sk-container-id-4 div.sk-label label.sk-toggleable__label,\n",
       "#sk-container-id-4 div.sk-label label {\n",
       "  /* The background is the default theme color */\n",
       "  color: var(--sklearn-color-text-on-default-background);\n",
       "}\n",
       "\n",
       "/* On hover, darken the color of the background */\n",
       "#sk-container-id-4 div.sk-label:hover label.sk-toggleable__label {\n",
       "  color: var(--sklearn-color-text);\n",
       "  background-color: var(--sklearn-color-unfitted-level-2);\n",
       "}\n",
       "\n",
       "/* Label box, darken color on hover, fitted */\n",
       "#sk-container-id-4 div.sk-label.fitted:hover label.sk-toggleable__label.fitted {\n",
       "  color: var(--sklearn-color-text);\n",
       "  background-color: var(--sklearn-color-fitted-level-2);\n",
       "}\n",
       "\n",
       "/* Estimator label */\n",
       "\n",
       "#sk-container-id-4 div.sk-label label {\n",
       "  font-family: monospace;\n",
       "  font-weight: bold;\n",
       "  display: inline-block;\n",
       "  line-height: 1.2em;\n",
       "}\n",
       "\n",
       "#sk-container-id-4 div.sk-label-container {\n",
       "  text-align: center;\n",
       "}\n",
       "\n",
       "/* Estimator-specific */\n",
       "#sk-container-id-4 div.sk-estimator {\n",
       "  font-family: monospace;\n",
       "  border: 1px dotted var(--sklearn-color-border-box);\n",
       "  border-radius: 0.25em;\n",
       "  box-sizing: border-box;\n",
       "  margin-bottom: 0.5em;\n",
       "  /* unfitted */\n",
       "  background-color: var(--sklearn-color-unfitted-level-0);\n",
       "}\n",
       "\n",
       "#sk-container-id-4 div.sk-estimator.fitted {\n",
       "  /* fitted */\n",
       "  background-color: var(--sklearn-color-fitted-level-0);\n",
       "}\n",
       "\n",
       "/* on hover */\n",
       "#sk-container-id-4 div.sk-estimator:hover {\n",
       "  /* unfitted */\n",
       "  background-color: var(--sklearn-color-unfitted-level-2);\n",
       "}\n",
       "\n",
       "#sk-container-id-4 div.sk-estimator.fitted:hover {\n",
       "  /* fitted */\n",
       "  background-color: var(--sklearn-color-fitted-level-2);\n",
       "}\n",
       "\n",
       "/* Specification for estimator info (e.g. \"i\" and \"?\") */\n",
       "\n",
       "/* Common style for \"i\" and \"?\" */\n",
       "\n",
       ".sk-estimator-doc-link,\n",
       "a:link.sk-estimator-doc-link,\n",
       "a:visited.sk-estimator-doc-link {\n",
       "  float: right;\n",
       "  font-size: smaller;\n",
       "  line-height: 1em;\n",
       "  font-family: monospace;\n",
       "  background-color: var(--sklearn-color-background);\n",
       "  border-radius: 1em;\n",
       "  height: 1em;\n",
       "  width: 1em;\n",
       "  text-decoration: none !important;\n",
       "  margin-left: 0.5em;\n",
       "  text-align: center;\n",
       "  /* unfitted */\n",
       "  border: var(--sklearn-color-unfitted-level-1) 1pt solid;\n",
       "  color: var(--sklearn-color-unfitted-level-1);\n",
       "}\n",
       "\n",
       ".sk-estimator-doc-link.fitted,\n",
       "a:link.sk-estimator-doc-link.fitted,\n",
       "a:visited.sk-estimator-doc-link.fitted {\n",
       "  /* fitted */\n",
       "  border: var(--sklearn-color-fitted-level-1) 1pt solid;\n",
       "  color: var(--sklearn-color-fitted-level-1);\n",
       "}\n",
       "\n",
       "/* On hover */\n",
       "div.sk-estimator:hover .sk-estimator-doc-link:hover,\n",
       ".sk-estimator-doc-link:hover,\n",
       "div.sk-label-container:hover .sk-estimator-doc-link:hover,\n",
       ".sk-estimator-doc-link:hover {\n",
       "  /* unfitted */\n",
       "  background-color: var(--sklearn-color-unfitted-level-3);\n",
       "  color: var(--sklearn-color-background);\n",
       "  text-decoration: none;\n",
       "}\n",
       "\n",
       "div.sk-estimator.fitted:hover .sk-estimator-doc-link.fitted:hover,\n",
       ".sk-estimator-doc-link.fitted:hover,\n",
       "div.sk-label-container:hover .sk-estimator-doc-link.fitted:hover,\n",
       ".sk-estimator-doc-link.fitted:hover {\n",
       "  /* fitted */\n",
       "  background-color: var(--sklearn-color-fitted-level-3);\n",
       "  color: var(--sklearn-color-background);\n",
       "  text-decoration: none;\n",
       "}\n",
       "\n",
       "/* Span, style for the box shown on hovering the info icon */\n",
       ".sk-estimator-doc-link span {\n",
       "  display: none;\n",
       "  z-index: 9999;\n",
       "  position: relative;\n",
       "  font-weight: normal;\n",
       "  right: .2ex;\n",
       "  padding: .5ex;\n",
       "  margin: .5ex;\n",
       "  width: min-content;\n",
       "  min-width: 20ex;\n",
       "  max-width: 50ex;\n",
       "  color: var(--sklearn-color-text);\n",
       "  box-shadow: 2pt 2pt 4pt #999;\n",
       "  /* unfitted */\n",
       "  background: var(--sklearn-color-unfitted-level-0);\n",
       "  border: .5pt solid var(--sklearn-color-unfitted-level-3);\n",
       "}\n",
       "\n",
       ".sk-estimator-doc-link.fitted span {\n",
       "  /* fitted */\n",
       "  background: var(--sklearn-color-fitted-level-0);\n",
       "  border: var(--sklearn-color-fitted-level-3);\n",
       "}\n",
       "\n",
       ".sk-estimator-doc-link:hover span {\n",
       "  display: block;\n",
       "}\n",
       "\n",
       "/* \"?\"-specific style due to the `<a>` HTML tag */\n",
       "\n",
       "#sk-container-id-4 a.estimator_doc_link {\n",
       "  float: right;\n",
       "  font-size: 1rem;\n",
       "  line-height: 1em;\n",
       "  font-family: monospace;\n",
       "  background-color: var(--sklearn-color-background);\n",
       "  border-radius: 1rem;\n",
       "  height: 1rem;\n",
       "  width: 1rem;\n",
       "  text-decoration: none;\n",
       "  /* unfitted */\n",
       "  color: var(--sklearn-color-unfitted-level-1);\n",
       "  border: var(--sklearn-color-unfitted-level-1) 1pt solid;\n",
       "}\n",
       "\n",
       "#sk-container-id-4 a.estimator_doc_link.fitted {\n",
       "  /* fitted */\n",
       "  border: var(--sklearn-color-fitted-level-1) 1pt solid;\n",
       "  color: var(--sklearn-color-fitted-level-1);\n",
       "}\n",
       "\n",
       "/* On hover */\n",
       "#sk-container-id-4 a.estimator_doc_link:hover {\n",
       "  /* unfitted */\n",
       "  background-color: var(--sklearn-color-unfitted-level-3);\n",
       "  color: var(--sklearn-color-background);\n",
       "  text-decoration: none;\n",
       "}\n",
       "\n",
       "#sk-container-id-4 a.estimator_doc_link.fitted:hover {\n",
       "  /* fitted */\n",
       "  background-color: var(--sklearn-color-fitted-level-3);\n",
       "}\n",
       "</style><div id=\"sk-container-id-4\" class=\"sk-top-container\"><div class=\"sk-text-repr-fallback\"><pre>SVC()</pre><b>In a Jupyter environment, please rerun this cell to show the HTML representation or trust the notebook. <br />On GitHub, the HTML representation is unable to render, please try loading this page with nbviewer.org.</b></div><div class=\"sk-container\" hidden><div class=\"sk-item\"><div class=\"sk-estimator fitted sk-toggleable\"><input class=\"sk-toggleable__control sk-hidden--visually\" id=\"sk-estimator-id-4\" type=\"checkbox\" checked><label for=\"sk-estimator-id-4\" class=\"sk-toggleable__label fitted sk-toggleable__label-arrow\"><div><div>SVC</div></div><div><a class=\"sk-estimator-doc-link fitted\" rel=\"noreferrer\" target=\"_blank\" href=\"https://scikit-learn.org/1.6/modules/generated/sklearn.svm.SVC.html\">?<span>Documentation for SVC</span></a><span class=\"sk-estimator-doc-link fitted\">i<span>Fitted</span></span></div></label><div class=\"sk-toggleable__content fitted\"><pre>SVC()</pre></div> </div></div></div></div>"
      ]
     },
     "execution_count": 67,
     "metadata": {},
     "output_type": "execute_result"
    }
   ],
   "execution_count": 67
  },
  {
   "cell_type": "code",
   "source": [
    "svc.predict([X_train[0]])\n",
    "# در اصل 45 تا پردییکشن انجام داده چون برای OvO تعداد مدلها 45 تا بود"
   ],
   "metadata": {
    "colab": {
     "base_uri": "https://localhost:8080/"
    },
    "id": "skPbscve6Eew",
    "outputId": "bca298c3-af33-4078-fa47-df6951fbd2bf",
    "ExecuteTime": {
     "end_time": "2025-04-06T09:40:50.541583Z",
     "start_time": "2025-04-06T09:40:50.537020Z"
    }
   },
   "outputs": [
    {
     "data": {
      "text/plain": [
       "array([8])"
      ]
     },
     "execution_count": 68,
     "metadata": {},
     "output_type": "execute_result"
    }
   ],
   "execution_count": 68
  },
  {
   "cell_type": "code",
   "source": [
    "svc.decision_function([X_train[0]])\n",
    "# که اسکور را به ترتیب برای کلاس صفر و یک و دو .. نه حساب کرده که 5 از همه بیشتره بنابراین گفته 5"
   ],
   "metadata": {
    "colab": {
     "base_uri": "https://localhost:8080/"
    },
    "id": "3d1Yib-h6QYd",
    "outputId": "e0dc2088-b730-4d7b-904d-252b4dc9ffe5",
    "ExecuteTime": {
     "end_time": "2025-04-06T09:40:50.548179Z",
     "start_time": "2025-04-06T09:40:50.541583Z"
    }
   },
   "outputs": [
    {
     "data": {
      "text/plain": [
       "array([[-0.28606227,  7.16999456,  6.00289654,  0.74420321,  1.74908284,\n",
       "         6.14934723,  2.80607609,  3.89893037,  9.30688637,  7.14352896]])"
      ]
     },
     "execution_count": 69,
     "metadata": {},
     "output_type": "execute_result"
    }
   ],
   "execution_count": 69
  },
  {
   "cell_type": "code",
   "source": [
    "svc.classes_\n",
    "# برای اینکه بدونیم که هر کدام از قبلی ها متناظر با چه کلاسی هستند "
   ],
   "metadata": {
    "colab": {
     "base_uri": "https://localhost:8080/"
    },
    "id": "gsISJioM62Nn",
    "outputId": "634ceaec-92d5-42a5-c3ee-6c097bbd46c9",
    "ExecuteTime": {
     "end_time": "2025-04-06T09:40:50.551941Z",
     "start_time": "2025-04-06T09:40:50.548684Z"
    }
   },
   "outputs": [
    {
     "data": {
      "text/plain": [
       "array([0, 1, 2, 3, 4, 5, 6, 7, 8, 9])"
      ]
     },
     "execution_count": 70,
     "metadata": {},
     "output_type": "execute_result"
    }
   ],
   "execution_count": 70
  },
  {
   "metadata": {},
   "cell_type": "markdown",
   "source": ""
  },
  {
   "cell_type": "code",
   "source": [
    "from sklearn.multiclass import OneVsRestClassifier\n",
    " #  به صورت دیفالت از OvO استفاده میکنه\n",
    "#  برای اینکه از OvR استفاده کنه کد بالا رو ایمپورت میکنیم"
   ],
   "metadata": {
    "id": "Mu645t3v7F4y",
    "ExecuteTime": {
     "end_time": "2025-04-06T09:40:50.561081Z",
     "start_time": "2025-04-06T09:40:50.558154Z"
    }
   },
   "outputs": [],
   "execution_count": 71
  },
  {
   "cell_type": "code",
   "source": [
    "ovr_svm = OneVsRestClassifier(SVC())\n",
    "# مدل را به حالت  OvR برمیگرداند"
   ],
   "metadata": {
    "id": "XjQCijZ-7mzq",
    "ExecuteTime": {
     "end_time": "2025-04-06T09:40:50.565633Z",
     "start_time": "2025-04-06T09:40:50.561081Z"
    }
   },
   "outputs": [],
   "execution_count": 72
  },
  {
   "cell_type": "code",
   "source": [
    "ovr_svm.fit(X_train[:1000], y_train[:1000])"
   ],
   "metadata": {
    "colab": {
     "base_uri": "https://localhost:8080/",
     "height": 116
    },
    "id": "HjG6OPBr7tVA",
    "outputId": "99b0e47f-3532-425c-edc4-cd37ffae68cc",
    "ExecuteTime": {
     "end_time": "2025-04-06T09:40:50.606128Z",
     "start_time": "2025-04-06T09:40:50.566145Z"
    }
   },
   "outputs": [
    {
     "data": {
      "text/plain": [
       "OneVsRestClassifier(estimator=SVC())"
      ],
      "text/html": [
       "<style>#sk-container-id-5 {\n",
       "  /* Definition of color scheme common for light and dark mode */\n",
       "  --sklearn-color-text: #000;\n",
       "  --sklearn-color-text-muted: #666;\n",
       "  --sklearn-color-line: gray;\n",
       "  /* Definition of color scheme for unfitted estimators */\n",
       "  --sklearn-color-unfitted-level-0: #fff5e6;\n",
       "  --sklearn-color-unfitted-level-1: #f6e4d2;\n",
       "  --sklearn-color-unfitted-level-2: #ffe0b3;\n",
       "  --sklearn-color-unfitted-level-3: chocolate;\n",
       "  /* Definition of color scheme for fitted estimators */\n",
       "  --sklearn-color-fitted-level-0: #f0f8ff;\n",
       "  --sklearn-color-fitted-level-1: #d4ebff;\n",
       "  --sklearn-color-fitted-level-2: #b3dbfd;\n",
       "  --sklearn-color-fitted-level-3: cornflowerblue;\n",
       "\n",
       "  /* Specific color for light theme */\n",
       "  --sklearn-color-text-on-default-background: var(--sg-text-color, var(--theme-code-foreground, var(--jp-content-font-color1, black)));\n",
       "  --sklearn-color-background: var(--sg-background-color, var(--theme-background, var(--jp-layout-color0, white)));\n",
       "  --sklearn-color-border-box: var(--sg-text-color, var(--theme-code-foreground, var(--jp-content-font-color1, black)));\n",
       "  --sklearn-color-icon: #696969;\n",
       "\n",
       "  @media (prefers-color-scheme: dark) {\n",
       "    /* Redefinition of color scheme for dark theme */\n",
       "    --sklearn-color-text-on-default-background: var(--sg-text-color, var(--theme-code-foreground, var(--jp-content-font-color1, white)));\n",
       "    --sklearn-color-background: var(--sg-background-color, var(--theme-background, var(--jp-layout-color0, #111)));\n",
       "    --sklearn-color-border-box: var(--sg-text-color, var(--theme-code-foreground, var(--jp-content-font-color1, white)));\n",
       "    --sklearn-color-icon: #878787;\n",
       "  }\n",
       "}\n",
       "\n",
       "#sk-container-id-5 {\n",
       "  color: var(--sklearn-color-text);\n",
       "}\n",
       "\n",
       "#sk-container-id-5 pre {\n",
       "  padding: 0;\n",
       "}\n",
       "\n",
       "#sk-container-id-5 input.sk-hidden--visually {\n",
       "  border: 0;\n",
       "  clip: rect(1px 1px 1px 1px);\n",
       "  clip: rect(1px, 1px, 1px, 1px);\n",
       "  height: 1px;\n",
       "  margin: -1px;\n",
       "  overflow: hidden;\n",
       "  padding: 0;\n",
       "  position: absolute;\n",
       "  width: 1px;\n",
       "}\n",
       "\n",
       "#sk-container-id-5 div.sk-dashed-wrapped {\n",
       "  border: 1px dashed var(--sklearn-color-line);\n",
       "  margin: 0 0.4em 0.5em 0.4em;\n",
       "  box-sizing: border-box;\n",
       "  padding-bottom: 0.4em;\n",
       "  background-color: var(--sklearn-color-background);\n",
       "}\n",
       "\n",
       "#sk-container-id-5 div.sk-container {\n",
       "  /* jupyter's `normalize.less` sets `[hidden] { display: none; }`\n",
       "     but bootstrap.min.css set `[hidden] { display: none !important; }`\n",
       "     so we also need the `!important` here to be able to override the\n",
       "     default hidden behavior on the sphinx rendered scikit-learn.org.\n",
       "     See: https://github.com/scikit-learn/scikit-learn/issues/21755 */\n",
       "  display: inline-block !important;\n",
       "  position: relative;\n",
       "}\n",
       "\n",
       "#sk-container-id-5 div.sk-text-repr-fallback {\n",
       "  display: none;\n",
       "}\n",
       "\n",
       "div.sk-parallel-item,\n",
       "div.sk-serial,\n",
       "div.sk-item {\n",
       "  /* draw centered vertical line to link estimators */\n",
       "  background-image: linear-gradient(var(--sklearn-color-text-on-default-background), var(--sklearn-color-text-on-default-background));\n",
       "  background-size: 2px 100%;\n",
       "  background-repeat: no-repeat;\n",
       "  background-position: center center;\n",
       "}\n",
       "\n",
       "/* Parallel-specific style estimator block */\n",
       "\n",
       "#sk-container-id-5 div.sk-parallel-item::after {\n",
       "  content: \"\";\n",
       "  width: 100%;\n",
       "  border-bottom: 2px solid var(--sklearn-color-text-on-default-background);\n",
       "  flex-grow: 1;\n",
       "}\n",
       "\n",
       "#sk-container-id-5 div.sk-parallel {\n",
       "  display: flex;\n",
       "  align-items: stretch;\n",
       "  justify-content: center;\n",
       "  background-color: var(--sklearn-color-background);\n",
       "  position: relative;\n",
       "}\n",
       "\n",
       "#sk-container-id-5 div.sk-parallel-item {\n",
       "  display: flex;\n",
       "  flex-direction: column;\n",
       "}\n",
       "\n",
       "#sk-container-id-5 div.sk-parallel-item:first-child::after {\n",
       "  align-self: flex-end;\n",
       "  width: 50%;\n",
       "}\n",
       "\n",
       "#sk-container-id-5 div.sk-parallel-item:last-child::after {\n",
       "  align-self: flex-start;\n",
       "  width: 50%;\n",
       "}\n",
       "\n",
       "#sk-container-id-5 div.sk-parallel-item:only-child::after {\n",
       "  width: 0;\n",
       "}\n",
       "\n",
       "/* Serial-specific style estimator block */\n",
       "\n",
       "#sk-container-id-5 div.sk-serial {\n",
       "  display: flex;\n",
       "  flex-direction: column;\n",
       "  align-items: center;\n",
       "  background-color: var(--sklearn-color-background);\n",
       "  padding-right: 1em;\n",
       "  padding-left: 1em;\n",
       "}\n",
       "\n",
       "\n",
       "/* Toggleable style: style used for estimator/Pipeline/ColumnTransformer box that is\n",
       "clickable and can be expanded/collapsed.\n",
       "- Pipeline and ColumnTransformer use this feature and define the default style\n",
       "- Estimators will overwrite some part of the style using the `sk-estimator` class\n",
       "*/\n",
       "\n",
       "/* Pipeline and ColumnTransformer style (default) */\n",
       "\n",
       "#sk-container-id-5 div.sk-toggleable {\n",
       "  /* Default theme specific background. It is overwritten whether we have a\n",
       "  specific estimator or a Pipeline/ColumnTransformer */\n",
       "  background-color: var(--sklearn-color-background);\n",
       "}\n",
       "\n",
       "/* Toggleable label */\n",
       "#sk-container-id-5 label.sk-toggleable__label {\n",
       "  cursor: pointer;\n",
       "  display: flex;\n",
       "  width: 100%;\n",
       "  margin-bottom: 0;\n",
       "  padding: 0.5em;\n",
       "  box-sizing: border-box;\n",
       "  text-align: center;\n",
       "  align-items: start;\n",
       "  justify-content: space-between;\n",
       "  gap: 0.5em;\n",
       "}\n",
       "\n",
       "#sk-container-id-5 label.sk-toggleable__label .caption {\n",
       "  font-size: 0.6rem;\n",
       "  font-weight: lighter;\n",
       "  color: var(--sklearn-color-text-muted);\n",
       "}\n",
       "\n",
       "#sk-container-id-5 label.sk-toggleable__label-arrow:before {\n",
       "  /* Arrow on the left of the label */\n",
       "  content: \"▸\";\n",
       "  float: left;\n",
       "  margin-right: 0.25em;\n",
       "  color: var(--sklearn-color-icon);\n",
       "}\n",
       "\n",
       "#sk-container-id-5 label.sk-toggleable__label-arrow:hover:before {\n",
       "  color: var(--sklearn-color-text);\n",
       "}\n",
       "\n",
       "/* Toggleable content - dropdown */\n",
       "\n",
       "#sk-container-id-5 div.sk-toggleable__content {\n",
       "  max-height: 0;\n",
       "  max-width: 0;\n",
       "  overflow: hidden;\n",
       "  text-align: left;\n",
       "  /* unfitted */\n",
       "  background-color: var(--sklearn-color-unfitted-level-0);\n",
       "}\n",
       "\n",
       "#sk-container-id-5 div.sk-toggleable__content.fitted {\n",
       "  /* fitted */\n",
       "  background-color: var(--sklearn-color-fitted-level-0);\n",
       "}\n",
       "\n",
       "#sk-container-id-5 div.sk-toggleable__content pre {\n",
       "  margin: 0.2em;\n",
       "  border-radius: 0.25em;\n",
       "  color: var(--sklearn-color-text);\n",
       "  /* unfitted */\n",
       "  background-color: var(--sklearn-color-unfitted-level-0);\n",
       "}\n",
       "\n",
       "#sk-container-id-5 div.sk-toggleable__content.fitted pre {\n",
       "  /* unfitted */\n",
       "  background-color: var(--sklearn-color-fitted-level-0);\n",
       "}\n",
       "\n",
       "#sk-container-id-5 input.sk-toggleable__control:checked~div.sk-toggleable__content {\n",
       "  /* Expand drop-down */\n",
       "  max-height: 200px;\n",
       "  max-width: 100%;\n",
       "  overflow: auto;\n",
       "}\n",
       "\n",
       "#sk-container-id-5 input.sk-toggleable__control:checked~label.sk-toggleable__label-arrow:before {\n",
       "  content: \"▾\";\n",
       "}\n",
       "\n",
       "/* Pipeline/ColumnTransformer-specific style */\n",
       "\n",
       "#sk-container-id-5 div.sk-label input.sk-toggleable__control:checked~label.sk-toggleable__label {\n",
       "  color: var(--sklearn-color-text);\n",
       "  background-color: var(--sklearn-color-unfitted-level-2);\n",
       "}\n",
       "\n",
       "#sk-container-id-5 div.sk-label.fitted input.sk-toggleable__control:checked~label.sk-toggleable__label {\n",
       "  background-color: var(--sklearn-color-fitted-level-2);\n",
       "}\n",
       "\n",
       "/* Estimator-specific style */\n",
       "\n",
       "/* Colorize estimator box */\n",
       "#sk-container-id-5 div.sk-estimator input.sk-toggleable__control:checked~label.sk-toggleable__label {\n",
       "  /* unfitted */\n",
       "  background-color: var(--sklearn-color-unfitted-level-2);\n",
       "}\n",
       "\n",
       "#sk-container-id-5 div.sk-estimator.fitted input.sk-toggleable__control:checked~label.sk-toggleable__label {\n",
       "  /* fitted */\n",
       "  background-color: var(--sklearn-color-fitted-level-2);\n",
       "}\n",
       "\n",
       "#sk-container-id-5 div.sk-label label.sk-toggleable__label,\n",
       "#sk-container-id-5 div.sk-label label {\n",
       "  /* The background is the default theme color */\n",
       "  color: var(--sklearn-color-text-on-default-background);\n",
       "}\n",
       "\n",
       "/* On hover, darken the color of the background */\n",
       "#sk-container-id-5 div.sk-label:hover label.sk-toggleable__label {\n",
       "  color: var(--sklearn-color-text);\n",
       "  background-color: var(--sklearn-color-unfitted-level-2);\n",
       "}\n",
       "\n",
       "/* Label box, darken color on hover, fitted */\n",
       "#sk-container-id-5 div.sk-label.fitted:hover label.sk-toggleable__label.fitted {\n",
       "  color: var(--sklearn-color-text);\n",
       "  background-color: var(--sklearn-color-fitted-level-2);\n",
       "}\n",
       "\n",
       "/* Estimator label */\n",
       "\n",
       "#sk-container-id-5 div.sk-label label {\n",
       "  font-family: monospace;\n",
       "  font-weight: bold;\n",
       "  display: inline-block;\n",
       "  line-height: 1.2em;\n",
       "}\n",
       "\n",
       "#sk-container-id-5 div.sk-label-container {\n",
       "  text-align: center;\n",
       "}\n",
       "\n",
       "/* Estimator-specific */\n",
       "#sk-container-id-5 div.sk-estimator {\n",
       "  font-family: monospace;\n",
       "  border: 1px dotted var(--sklearn-color-border-box);\n",
       "  border-radius: 0.25em;\n",
       "  box-sizing: border-box;\n",
       "  margin-bottom: 0.5em;\n",
       "  /* unfitted */\n",
       "  background-color: var(--sklearn-color-unfitted-level-0);\n",
       "}\n",
       "\n",
       "#sk-container-id-5 div.sk-estimator.fitted {\n",
       "  /* fitted */\n",
       "  background-color: var(--sklearn-color-fitted-level-0);\n",
       "}\n",
       "\n",
       "/* on hover */\n",
       "#sk-container-id-5 div.sk-estimator:hover {\n",
       "  /* unfitted */\n",
       "  background-color: var(--sklearn-color-unfitted-level-2);\n",
       "}\n",
       "\n",
       "#sk-container-id-5 div.sk-estimator.fitted:hover {\n",
       "  /* fitted */\n",
       "  background-color: var(--sklearn-color-fitted-level-2);\n",
       "}\n",
       "\n",
       "/* Specification for estimator info (e.g. \"i\" and \"?\") */\n",
       "\n",
       "/* Common style for \"i\" and \"?\" */\n",
       "\n",
       ".sk-estimator-doc-link,\n",
       "a:link.sk-estimator-doc-link,\n",
       "a:visited.sk-estimator-doc-link {\n",
       "  float: right;\n",
       "  font-size: smaller;\n",
       "  line-height: 1em;\n",
       "  font-family: monospace;\n",
       "  background-color: var(--sklearn-color-background);\n",
       "  border-radius: 1em;\n",
       "  height: 1em;\n",
       "  width: 1em;\n",
       "  text-decoration: none !important;\n",
       "  margin-left: 0.5em;\n",
       "  text-align: center;\n",
       "  /* unfitted */\n",
       "  border: var(--sklearn-color-unfitted-level-1) 1pt solid;\n",
       "  color: var(--sklearn-color-unfitted-level-1);\n",
       "}\n",
       "\n",
       ".sk-estimator-doc-link.fitted,\n",
       "a:link.sk-estimator-doc-link.fitted,\n",
       "a:visited.sk-estimator-doc-link.fitted {\n",
       "  /* fitted */\n",
       "  border: var(--sklearn-color-fitted-level-1) 1pt solid;\n",
       "  color: var(--sklearn-color-fitted-level-1);\n",
       "}\n",
       "\n",
       "/* On hover */\n",
       "div.sk-estimator:hover .sk-estimator-doc-link:hover,\n",
       ".sk-estimator-doc-link:hover,\n",
       "div.sk-label-container:hover .sk-estimator-doc-link:hover,\n",
       ".sk-estimator-doc-link:hover {\n",
       "  /* unfitted */\n",
       "  background-color: var(--sklearn-color-unfitted-level-3);\n",
       "  color: var(--sklearn-color-background);\n",
       "  text-decoration: none;\n",
       "}\n",
       "\n",
       "div.sk-estimator.fitted:hover .sk-estimator-doc-link.fitted:hover,\n",
       ".sk-estimator-doc-link.fitted:hover,\n",
       "div.sk-label-container:hover .sk-estimator-doc-link.fitted:hover,\n",
       ".sk-estimator-doc-link.fitted:hover {\n",
       "  /* fitted */\n",
       "  background-color: var(--sklearn-color-fitted-level-3);\n",
       "  color: var(--sklearn-color-background);\n",
       "  text-decoration: none;\n",
       "}\n",
       "\n",
       "/* Span, style for the box shown on hovering the info icon */\n",
       ".sk-estimator-doc-link span {\n",
       "  display: none;\n",
       "  z-index: 9999;\n",
       "  position: relative;\n",
       "  font-weight: normal;\n",
       "  right: .2ex;\n",
       "  padding: .5ex;\n",
       "  margin: .5ex;\n",
       "  width: min-content;\n",
       "  min-width: 20ex;\n",
       "  max-width: 50ex;\n",
       "  color: var(--sklearn-color-text);\n",
       "  box-shadow: 2pt 2pt 4pt #999;\n",
       "  /* unfitted */\n",
       "  background: var(--sklearn-color-unfitted-level-0);\n",
       "  border: .5pt solid var(--sklearn-color-unfitted-level-3);\n",
       "}\n",
       "\n",
       ".sk-estimator-doc-link.fitted span {\n",
       "  /* fitted */\n",
       "  background: var(--sklearn-color-fitted-level-0);\n",
       "  border: var(--sklearn-color-fitted-level-3);\n",
       "}\n",
       "\n",
       ".sk-estimator-doc-link:hover span {\n",
       "  display: block;\n",
       "}\n",
       "\n",
       "/* \"?\"-specific style due to the `<a>` HTML tag */\n",
       "\n",
       "#sk-container-id-5 a.estimator_doc_link {\n",
       "  float: right;\n",
       "  font-size: 1rem;\n",
       "  line-height: 1em;\n",
       "  font-family: monospace;\n",
       "  background-color: var(--sklearn-color-background);\n",
       "  border-radius: 1rem;\n",
       "  height: 1rem;\n",
       "  width: 1rem;\n",
       "  text-decoration: none;\n",
       "  /* unfitted */\n",
       "  color: var(--sklearn-color-unfitted-level-1);\n",
       "  border: var(--sklearn-color-unfitted-level-1) 1pt solid;\n",
       "}\n",
       "\n",
       "#sk-container-id-5 a.estimator_doc_link.fitted {\n",
       "  /* fitted */\n",
       "  border: var(--sklearn-color-fitted-level-1) 1pt solid;\n",
       "  color: var(--sklearn-color-fitted-level-1);\n",
       "}\n",
       "\n",
       "/* On hover */\n",
       "#sk-container-id-5 a.estimator_doc_link:hover {\n",
       "  /* unfitted */\n",
       "  background-color: var(--sklearn-color-unfitted-level-3);\n",
       "  color: var(--sklearn-color-background);\n",
       "  text-decoration: none;\n",
       "}\n",
       "\n",
       "#sk-container-id-5 a.estimator_doc_link.fitted:hover {\n",
       "  /* fitted */\n",
       "  background-color: var(--sklearn-color-fitted-level-3);\n",
       "}\n",
       "</style><div id=\"sk-container-id-5\" class=\"sk-top-container\"><div class=\"sk-text-repr-fallback\"><pre>OneVsRestClassifier(estimator=SVC())</pre><b>In a Jupyter environment, please rerun this cell to show the HTML representation or trust the notebook. <br />On GitHub, the HTML representation is unable to render, please try loading this page with nbviewer.org.</b></div><div class=\"sk-container\" hidden><div class=\"sk-item sk-dashed-wrapped\"><div class=\"sk-label-container\"><div class=\"sk-label fitted sk-toggleable\"><input class=\"sk-toggleable__control sk-hidden--visually\" id=\"sk-estimator-id-5\" type=\"checkbox\" ><label for=\"sk-estimator-id-5\" class=\"sk-toggleable__label fitted sk-toggleable__label-arrow\"><div><div>OneVsRestClassifier</div></div><div><a class=\"sk-estimator-doc-link fitted\" rel=\"noreferrer\" target=\"_blank\" href=\"https://scikit-learn.org/1.6/modules/generated/sklearn.multiclass.OneVsRestClassifier.html\">?<span>Documentation for OneVsRestClassifier</span></a><span class=\"sk-estimator-doc-link fitted\">i<span>Fitted</span></span></div></label><div class=\"sk-toggleable__content fitted\"><pre>OneVsRestClassifier(estimator=SVC())</pre></div> </div></div><div class=\"sk-parallel\"><div class=\"sk-parallel-item\"><div class=\"sk-item\"><div class=\"sk-label-container\"><div class=\"sk-label fitted sk-toggleable\"><input class=\"sk-toggleable__control sk-hidden--visually\" id=\"sk-estimator-id-6\" type=\"checkbox\" ><label for=\"sk-estimator-id-6\" class=\"sk-toggleable__label fitted sk-toggleable__label-arrow\"><div><div>estimator: SVC</div></div></label><div class=\"sk-toggleable__content fitted\"><pre>SVC()</pre></div> </div></div><div class=\"sk-serial\"><div class=\"sk-item\"><div class=\"sk-estimator fitted sk-toggleable\"><input class=\"sk-toggleable__control sk-hidden--visually\" id=\"sk-estimator-id-7\" type=\"checkbox\" ><label for=\"sk-estimator-id-7\" class=\"sk-toggleable__label fitted sk-toggleable__label-arrow\"><div><div>SVC</div></div><div><a class=\"sk-estimator-doc-link fitted\" rel=\"noreferrer\" target=\"_blank\" href=\"https://scikit-learn.org/1.6/modules/generated/sklearn.svm.SVC.html\">?<span>Documentation for SVC</span></a></div></label><div class=\"sk-toggleable__content fitted\"><pre>SVC()</pre></div> </div></div></div></div></div></div></div></div></div>"
      ]
     },
     "execution_count": 73,
     "metadata": {},
     "output_type": "execute_result"
    }
   ],
   "execution_count": 73
  },
  {
   "cell_type": "code",
   "source": [
    "ovr_svm.predict([X_train[0]])"
   ],
   "metadata": {
    "colab": {
     "base_uri": "https://localhost:8080/"
    },
    "id": "d9O-nsJ27w5n",
    "outputId": "6ea670d6-567b-4abb-d996-972c2435cc95",
    "ExecuteTime": {
     "end_time": "2025-04-06T09:40:50.612436Z",
     "start_time": "2025-04-06T09:40:50.607163Z"
    }
   },
   "outputs": [
    {
     "data": {
      "text/plain": [
       "array([8])"
      ]
     },
     "execution_count": 74,
     "metadata": {},
     "output_type": "execute_result"
    }
   ],
   "execution_count": 74
  },
  {
   "metadata": {},
   "cell_type": "markdown",
   "source": [
    "---\n",
    "# ConfusionMatrix for svc\n",
    "\n",
    " # Multiclass Classification ارزیابی"
   ]
  },
  {
   "cell_type": "code",
   "source": [
    "from sklearn.metrics import ConfusionMatrixDisplay"
   ],
   "metadata": {
    "id": "-AcjBweF71aR",
    "ExecuteTime": {
     "end_time": "2025-04-06T09:40:50.615964Z",
     "start_time": "2025-04-06T09:40:50.613449Z"
    }
   },
   "outputs": [],
   "execution_count": 75
  },
  {
   "cell_type": "code",
   "source": [
    "y_pred = cross_val_predict(svc, X_train[:1000], y_train[:1000], cv=3)"
   ],
   "metadata": {
    "id": "VjwxukHqOZF_",
    "ExecuteTime": {
     "end_time": "2025-04-06T09:40:50.680889Z",
     "start_time": "2025-04-06T09:40:50.615964Z"
    }
   },
   "outputs": [],
   "execution_count": 76
  },
  {
   "cell_type": "code",
   "source": [
    "ConfusionMatrixDisplay.from_predictions(y_train[:1000], y_pred)"
   ],
   "metadata": {
    "colab": {
     "base_uri": "https://localhost:8080/",
     "height": 296
    },
    "id": "vGOWky8LOq94",
    "outputId": "5788143f-3f02-4f0f-a856-eb0ba7d7d9e0",
    "ExecuteTime": {
     "end_time": "2025-04-06T09:40:50.928238Z",
     "start_time": "2025-04-06T09:40:50.680889Z"
    }
   },
   "outputs": [
    {
     "data": {
      "text/plain": [
       "<sklearn.metrics._plot.confusion_matrix.ConfusionMatrixDisplay at 0x26a6162c830>"
      ]
     },
     "execution_count": 77,
     "metadata": {},
     "output_type": "execute_result"
    },
    {
     "data": {
      "text/plain": [
       "<Figure size 640x480 with 2 Axes>"
      ],
      "image/png": "[encoded data removed]"
     },
     "metadata": {},
     "output_type": "display_data"
    }
   ],
   "execution_count": 77
  },
  {
   "metadata": {},
   "cell_type": "markdown",
   "source": " # نمایش ماترسی درهم ریختیگی بر اساس درصد"
  },
  {
   "cell_type": "code",
   "source": [
    "ConfusionMatrixDisplay.from_predictions(y_train[:1000],\n",
    "                                        y_pred,\n",
    "                                        normalize=\"true\",\n",
    "                                        values_format=\".0%\")\n",
    "# برای اینکه درصدی نشون بده نرمالایز میکنیم\n",
    "# برای اینکه بدون رقم اعشار باشه "
   ],
   "metadata": {
    "colab": {
     "base_uri": "https://localhost:8080/",
     "height": 296
    },
    "id": "W8Nyjh0GOyYa",
    "outputId": "d737e57b-0523-4fa7-d915-a52f907a9301",
    "ExecuteTime": {
     "end_time": "2025-04-06T09:40:51.160691Z",
     "start_time": "2025-04-06T09:40:50.929254Z"
    }
   },
   "outputs": [
    {
     "data": {
      "text/plain": [
       "<sklearn.metrics._plot.confusion_matrix.ConfusionMatrixDisplay at 0x26a61506330>"
      ]
     },
     "execution_count": 78,
     "metadata": {},
     "output_type": "execute_result"
    },
    {
     "data": {
      "text/plain": [
       "<Figure size 640x480 with 2 Axes>"
      ],
      "image/png": "[encoded data removed]"
     },
     "metadata": {},
     "output_type": "display_data"
    }
   ],
   "execution_count": 78
  },
  {
   "metadata": {},
   "cell_type": "markdown",
   "source": " # تمرکز ماتریس در هم ریختگی بر روی خطاها"
  },
  {
   "cell_type": "code",
   "source": [
    "weights = (y_pred != y_train[:1000])\n",
    "# ایجاد آرایه weights:\n",
    "#     weights = (y_pred != y_train[:1000])\n",
    "#     این خط کد یک آرایه بولی به نام weights ایجاد می‌کند.\n",
    "#     این آرایه نشان می‌دهد که آیا هر پیش‌بینی در y_pred با مقدار واقعی متناظر در y_train[:1000] برابر است یا خیر.\n",
    "# اگر پیش‌بینی نادرست باشد (y_pred != y_train[:1000])، مقدار مربوطه در weights برابر با True خواهد بود. در غیر این صورت، برابر با False خواهد بود."
   ],
   "metadata": {
    "id": "hoN0_3XxqAv6",
    "ExecuteTime": {
     "end_time": "2025-04-06T09:40:51.166233Z",
     "start_time": "2025-04-06T09:40:51.161706Z"
    }
   },
   "outputs": [],
   "execution_count": 79
  },
  {
   "cell_type": "code",
   "source": [
    "ConfusionMatrixDisplay.from_predictions(y_train[:1000],\n",
    "                                        y_pred,\n",
    "                                        sample_weight=weights,\n",
    "                                        normalize=\"true\",\n",
    "                                        values_format=\".0%\")\n",
    "# برای اینکه روی خطاها تمرکز کنه  یعنی درصد پریدیکشن درست رو صفر بذاره \n",
    "# آرایه weights مسئول تمرکز بر خطاها در هنگام نمایش ماتریس درهم‌ریختگی است.\n",
    "# نتیجه این است که درصد خطاها را نشان میده\n"
   ],
   "metadata": {
    "colab": {
     "base_uri": "https://localhost:8080/",
     "height": 300
    },
    "id": "rgcqr5dNQwWu",
    "outputId": "1dc9ecde-5b6c-4bcf-e23f-0a844a76e3da",
    "ExecuteTime": {
     "end_time": "2025-04-06T09:40:51.398106Z",
     "start_time": "2025-04-06T09:40:51.167266Z"
    }
   },
   "outputs": [
    {
     "data": {
      "text/plain": [
       "<sklearn.metrics._plot.confusion_matrix.ConfusionMatrixDisplay at 0x26a61721e80>"
      ]
     },
     "execution_count": 80,
     "metadata": {},
     "output_type": "execute_result"
    },
    {
     "data": {
      "text/plain": [
       "<Figure size 640x480 with 2 Axes>"
      ],
      "image/png": "[encoded data removed]"
     },
     "metadata": {},
     "output_type": "display_data"
    }
   ],
   "execution_count": 80
  },
  {
   "cell_type": "markdown",
   "source": [
    "---\n",
    "# Multilabel Classification\n",
    "#### مثلا سگ هست یا نه و اگر هست نژادش چیه و یا سفید یا مشکی یا.."
   ],
   "metadata": {
    "id": "izA-iMcXs39b"
   }
  },
  {
   "cell_type": "code",
   "source": [
    "from sklearn.neighbors import KNeighborsClassifier\n",
    "import numpy as np"
   ],
   "metadata": {
    "id": "h2srjWMoqOIj",
    "ExecuteTime": {
     "end_time": "2025-04-06T09:40:51.402422Z",
     "start_time": "2025-04-06T09:40:51.399120Z"
    }
   },
   "outputs": [],
   "execution_count": 81
  },
  {
   "cell_type": "code",
   "source": [
    "y_train_above5 = (y_train > '5') #آیا مقدار برچسب از 5 بزرگ‌تره؟\n",
    "y_train_even = (y_train.astype(np.int) % 2 == 0)  # آیا برچسب عدد زوج هست؟\n",
    "# astype(np.int) برای تبدیل رشته‌ها به عدد صحیح استفاده شده.\n",
    "\n"
   ],
   "metadata": {
    "colab": {
     "base_uri": "https://localhost:8080/"
    },
    "id": "3Fl4YvwatBV0",
    "outputId": "d6335e1e-a87c-4971-a726-65372927d3c0",
    "ExecuteTime": {
     "start_time": "2025-04-06T09:40:51.402422Z"
    }
   },
   "outputs": [],
   "execution_count": null
  },
  {
   "cell_type": "code",
   "source": [
    "y_train_ml = np.c_[y_train_above5, y_train_even]\n",
    "# np.c_[] یه راه ساده برای اتصال ستون‌ها (column-wise concatenation) هست. معادل دقیقش:\n",
    "# np.concatenate([y_train_above5[:, None], y_train_even[:, None]], axis=1)\n",
    "# عبارت [:, None] در پایتون (با NumPy) یعنی:\n",
    "# یک بُعد جدید اضافه کن در محور دوم (ستون‌ها)."
   ],
   "metadata": {
    "id": "0BEoaPixtfoU"
   },
   "outputs": [],
   "execution_count": null
  },
  {
   "cell_type": "code",
   "source": [
    "knn = KNeighborsClassifier()\n",
    "knn.fit(X_train, y_train_ml)"
   ],
   "metadata": {
    "colab": {
     "base_uri": "https://localhost:8080/",
     "height": 74
    },
    "id": "kSzgbUNmtkyS",
    "outputId": "1bd3691f-fe30-482f-b455-e713cd875612",
    "ExecuteTime": {
     "end_time": "2025-04-06T09:40:51.492573Z",
     "start_time": "2025-04-06T09:40:51.491564Z"
    }
   },
   "outputs": [],
   "execution_count": null
  },
  {
   "cell_type": "code",
   "source": [
    "knn.predict([X_train[0]])"
   ],
   "metadata": {
    "colab": {
     "base_uri": "https://localhost:8080/"
    },
    "id": "r-mSBLgCtzKJ",
    "outputId": "a4764132-0f4c-4c23-c856-0cd385a6bee8"
   },
   "outputs": [],
   "execution_count": null
  },
  {
   "cell_type": "code",
   "source": [
    "y_pred = cross_val_predict(knn, X_train, y_train_ml, cv=3)"
   ],
   "metadata": {
    "id": "wAWcOUQZt5HN",
    "ExecuteTime": {
     "end_time": "2025-04-06T09:40:51.493635Z",
     "start_time": "2025-04-06T09:40:51.493635Z"
    }
   },
   "outputs": [],
   "execution_count": null
  },
  {
   "metadata": {},
   "cell_type": "markdown",
   "source": " # ارزیابی"
  },
  {
   "cell_type": "code",
   "source": [
    "f1_score(y_train_ml, y_pred, average=\"macro\")\n",
    "# یعنی با اهمیت یکسان\n",
    "# اما اگر weighted بود به تعداد یا وزنی که مدنظرمونه اهمیت بدی"
   ],
   "metadata": {
    "colab": {
     "base_uri": "https://localhost:8080/"
    },
    "id": "Z023O_i2uh7U",
    "outputId": "b3b3803f-9e3d-43b9-e242-9a1d30a838e7",
    "ExecuteTime": {
     "end_time": "2025-04-06T09:40:51.494656Z",
     "start_time": "2025-04-06T09:40:51.494656Z"
    }
   },
   "outputs": [],
   "execution_count": null
  },
  {
   "metadata": {},
   "cell_type": "markdown",
   "source": [
    "---\n",
    "# _ Multi-Output Classification\n",
    "# _ ClassifierChain"
   ]
  },
  {
   "cell_type": "code",
   "source": [
    "from sklearn.multioutput import ClassifierChain\n",
    "#multilabel خودش زیرمجموعه‌ای از multi-output classification محسوب میشه.\n",
    "\n",
    "# پس:\n",
    "    # ✅ Multilabel Classification یک نوع خاص از Multi-Output Classification هست\n",
    "    # و به همین دلیل، توی کتابخانه Scikit-Learn، کلاس‌هایی که برای multi-output طراحی شدن (مثل ClassifierChain, MultiOutputClassifier) برای multilabel هم به کار میرن."
   ],
   "metadata": {
    "id": "aCVM_4yMv0ml"
   },
   "outputs": [],
   "execution_count": null
  },
  {
   "cell_type": "code",
   "source": [
    "chain_svc = ClassifierChain(SVC(), cv=3)\n",
    "#مدل ClassifierChain برای Multilabel Classification طراحی شده تا :\n",
    "# بجای اینکه برای هر برچسب (label) یک مدل جداگانه آموزش بدیم، بیایم مدل‌ها رو به‌صورت زنجیره‌ای آموزش بدیم؛ طوری که خروجی هر مدل، به عنوان ورودی به مدل بعدی هم داده بشه.\n",
    "\n",
    "# cv همان کراس ولیدیشن هستش\n",
    "#می‌گه: «برای تولید خروجی مدل‌های قبلی (که قراره ورودی مدل بعدی باشن)، از ۳-تایی cross-validation استفاده کن».\n",
    "# یعنی به‌جای اینکه از برچسب واقعی استفاده کنیم (که مدل بعدی لو نره)، خروجی مدل قبلی رو با کراس‌ولیدیشن پیش‌بینی می‌کنیم."
   ],
   "metadata": {
    "id": "yiuy2fRPw1i6"
   },
   "outputs": [],
   "execution_count": null
  },
  {
   "cell_type": "code",
   "source": [
    "chain_svc.fit(X_train[:2000], y_train_ml[:2000])"
   ],
   "metadata": {
    "colab": {
     "base_uri": "https://localhost:8080/",
     "height": 116
    },
    "id": "GqDKj1_cxt2e",
    "outputId": "23bb86d2-f76a-40fd-cf78-a3a224f5cb11",
    "ExecuteTime": {
     "end_time": "2025-04-06T09:40:51.497184Z",
     "start_time": "2025-04-06T09:40:51.497184Z"
    }
   },
   "outputs": [],
   "execution_count": null
  },
  {
   "cell_type": "code",
   "source": [
    "chain_svc.predict([X_train[0]])"
   ],
   "metadata": {
    "colab": {
     "base_uri": "https://localhost:8080/"
    },
    "id": "yvLuocn8xzOQ",
    "outputId": "9395cd16-af62-4c2b-aac2-b7f0f252be43"
   },
   "outputs": [],
   "execution_count": null
  },
  {
   "cell_type": "markdown",
   "source": [
    "---\n",
    "# Multioutput classification"
   ],
   "metadata": {
    "id": "l_qLMHK7zWY9"
   }
  },
  {
   "cell_type": "code",
   "source": [
    "X_train.shape"
   ],
   "metadata": {
    "colab": {
     "base_uri": "https://localhost:8080/"
    },
    "id": "TMTxkgcbzmof",
    "outputId": "59ae5f5d-530a-4f0b-fea8-92799bebfd90",
    "ExecuteTime": {
     "end_time": "2025-04-06T09:40:51.499210Z",
     "start_time": "2025-04-06T09:40:51.499210Z"
    }
   },
   "outputs": [],
   "execution_count": null
  },
  {
   "cell_type": "code",
   "source": [
    "np.random.seed(40)\n",
    "image_noise = np.random.randint(0, 100, X_train.shape)\n",
    "X_train_noisy = X_train + image_noise\n",
    "image_noise = np.random.randint(0, 100, X_test.shape)\n",
    "X_test_noisy = X_test + image_noise\n",
    "y_train_mc = X_train\n",
    "y_test_mc = X_test "
   ],
   "metadata": {
    "id": "PfF4oa2yx3pu",
    "ExecuteTime": {
     "end_time": "2025-04-06T09:40:51.500220Z",
     "start_time": "2025-04-06T09:40:51.500220Z"
    }
   },
   "outputs": [],
   "execution_count": null
  },
  {
   "cell_type": "code",
   "source": [
    "plt.imshow(X_train[0].reshape(28, 28), cmap=\"binary\")"
   ],
   "metadata": {
    "colab": {
     "base_uri": "https://localhost:8080/",
     "height": 282
    },
    "id": "wTJ6ereV025B",
    "outputId": "10762500-b27e-4c2a-b8ac-b676b251832a",
    "ExecuteTime": {
     "end_time": "2025-04-06T09:40:51.501232Z",
     "start_time": "2025-04-06T09:40:51.501232Z"
    }
   },
   "outputs": [],
   "execution_count": null
  },
  {
   "cell_type": "code",
   "source": [
    "plt.imshow(X_train_noisy[0].reshape(28, 28), cmap=\"binary\")"
   ],
   "metadata": {
    "colab": {
     "base_uri": "https://localhost:8080/",
     "height": 282
    },
    "id": "qhcH7Wlw1OyS",
    "outputId": "9a8603d8-f6d9-4e44-c8b6-90c9841fcefb"
   },
   "outputs": [],
   "execution_count": null
  },
  {
   "cell_type": "code",
   "source": [
    "knn = KNeighborsClassifier()\n",
    "knn.fit(X_train_noisy, y_train_mc)"
   ],
   "metadata": {
    "colab": {
     "base_uri": "https://localhost:8080/",
     "height": 74
    },
    "id": "WrECsmCa0eX-",
    "outputId": "9190731c-3cc9-4c7f-db0e-4e299041ac47"
   },
   "outputs": [],
   "execution_count": null
  },
  {
   "cell_type": "code",
   "source": [
    "plt.imshow(X_test_noisy[0].reshape(28, 28), cmap=\"binary\")"
   ],
   "metadata": {
    "colab": {
     "base_uri": "https://localhost:8080/",
     "height": 282
    },
    "id": "h7ggZSkh1lQN",
    "outputId": "402d8449-e88d-4906-a519-4a2c962391d9"
   },
   "outputs": [],
   "execution_count": null
  },
  {
   "cell_type": "code",
   "source": [
    "pred = knn.predict([X_test_noisy[0]])"
   ],
   "metadata": {
    "id": "BjRlXcb71WNe"
   },
   "outputs": [],
   "execution_count": null
  },
  {
   "cell_type": "code",
   "source": [
    "pred.shape"
   ],
   "metadata": {
    "colab": {
     "base_uri": "https://localhost:8080/"
    },
    "id": "7DoWC-lu1xoH",
    "outputId": "eb0b088d-ada3-4fc5-860c-974df8ee7670"
   },
   "outputs": [],
   "execution_count": null
  },
  {
   "cell_type": "code",
   "source": [
    "plt.imshow(pred.reshape(28, 28), cmap=\"binary\")"
   ],
   "metadata": {
    "colab": {
     "base_uri": "https://localhost:8080/",
     "height": 282
    },
    "id": "ZNbhVlGd1to5",
    "outputId": "edaa7bf6-3547-45f2-a583-77dcf2a545ae"
   },
   "outputs": [],
   "execution_count": null
  },
  {
   "cell_type": "code",
   "source": [],
   "metadata": {
    "id": "5HbKAVj211R0"
   },
   "outputs": [],
   "execution_count": null
  },
  {
   "metadata": {},
   "cell_type": "markdown",
   "source": [
    "---\n",
    "# ارزیابی مدل‌های Multi-output یا Multilabel\n",
    "\"\"\"\n",
    "#_______________________\n",
    "\n",
    "    macro:\n",
    "    1.    F1 را جداگانه برای هر کلاس محاسبه می‌کنه\n",
    "    F1 = 2 * (Precision * Recall) / (Precision + Recall)\n",
    "    2. بعد بدون وزن دادن به فراوانی، ازش میانگین می‌گیره\n",
    "    \n",
    "         آنالوژی:\n",
    "            فرض کن داری دانش‌آموزهایی از کلاس‌های مختلف نمره‌دهی می‌کنی. برای هر کلاس، فقط میانگین نمره رو می‌گیری، مهم نیست چند دانش‌آموز تو اون کلاس بودن.\n",
    "         \n",
    "         کلاس‌ها:\n",
    "        ریاضی: 50 نفر، F1 = 0.9\n",
    "        فیزیک: 30 نفر، F1 = 0.6\n",
    "        ادبیات: 20 نفر، F1 = 0.3\n",
    "        F1_macro = (F1_ریاضی + F1_فیزیک + F1_ادبیات) / 3\n",
    "                 = (0.9 + 0.6 + 0.3) / 3\n",
    "                 = 1.8 / 3 = 0.6\n",
    "               \n",
    "\n",
    "\n",
    "            \n",
    "            📌 خطر: اگه بعضی کلاس‌ها خیلی کم‌تعداد باشن ولی مدل اون‌ها رو خراب یاد گرفته باشه، این متریک همچنان نمره خوبی نشون می‌ده. پس برای داده‌ی نامتوازن (imbalanced) خوب نیست.\n",
    "#_______________________\n",
    "\n",
    "    weighted:\n",
    "    مثل macro ولی به فراوانی هر کلاس وزن می‌ده.\n",
    "        آنالوژی:\n",
    "\n",
    "        همون مثال مدرسه: الان نمرات کلاس‌های بزرگ‌تر مهم‌تر شدن. یعنی:\n",
    "            F1 هر کلاس رو حساب کن\n",
    "            بعد با توجه به تعداد دانش‌آموزهای هر کلاس، نمره میانگین بگیر\n",
    "        \n",
    "        کلاس‌ها:\n",
    "        ریاضی: 50 نفر، F1 = 0.9\n",
    "        فیزیک: 30 نفر، F1 = 0.6\n",
    "        ادبیات: 20 نفر، F1 = 0.3\n",
    "        F1_weighted = (50 * 0.9 + 30 * 0.6 + 20 * 0.3) / (50 + 30 + 20)\n",
    "                    = (45 + 18 + 6) / 100\n",
    "                    = 69 / 100 = 0.69  \n",
    "\n",
    "        \n",
    "\n",
    "        تفاوت ماکرو و ویت:\n",
    "        در macro فرض بر اینه که همه کلاس‌ها به یه اندازه مهم هستن — حتی اگر کلاس ادبیات فقط 1 نفر داشته باشه\n",
    "        ولی در weighted، میانگین رو می‌گیریم با توجه بهتعداد نمونه‌ها در هر کلاس\n",
    "\n",
    "        📌 اگر داده‌هات نامتوازن باشن، این خیلی بهتر از macro کار می‌کنه چون مدل ممکنه عملاً فقط کلاس‌های پرتعداد رو یاد بگیره.\n",
    "#_______________________\n",
    "\n",
    "    micro:\n",
    "            همه‌ی پیش‌بینی‌ها رو یکی فرض کن؛ کلاس‌ها رو نادیده می‌گیره.\n",
    "\n",
    "        دقیقاً چیکار می‌کنه؟\n",
    "            همه‌ی TP، FP، FN رو برای کل دیتا جمع می‌کنه\n",
    "            بعد فقط یک F1 حساب می‌کنه (بدون جدا کردن کلاس‌ها)\n",
    "            همه کلاس‌ها رو یکی می‌کنه\n",
    "\n",
    "\n",
    "            مجموع:\n",
    "                True Positives\n",
    "                False Positives\n",
    "                False Negatives\n",
    "        \n",
    "            بعد فقط یک Precision و Recall و F1 حساب می‌کنه\n",
    "            📎 فرمول:\n",
    "            F1_micro = 2 * (Precision_micro * Recall_micro) / (Precision_micro + Recall_micro)\n",
    "            \n",
    "            که:\n",
    "            Precision_micro = total_TP / (total_TP + total_FP)\n",
    "            Recall_micro    = total_TP / (total_TP + total_FN)\n",
    "            \n",
    "            ✅ مستقل از کلاس، فقط روی تمام پیش‌بینی‌ها نگاه می‌کنه.\n",
    "\n",
    "\n",
    "         آنالوژی:\n",
    "        فکر کن کل مدرسه فقط یه امتحان داده و داری کارایی مدل رو در سطح کلی نگاه می‌کنی، بدون توجه به کلاس یا موضوع.\n",
    "        \n",
    "        📌 برای Multilabel classification یا multi-output، این متریک بیشتر رفتار کلی مدل رو می‌سنجه.\n",
    "#_______________________\n",
    "\n",
    "    samples:\n",
    "        میانگین F1 برای هر نمونه (سطر) رو می‌گیره، نه کلاس.\n",
    "        \n",
    "        برای هر نمونه (هر سطر)، یه F1 جدا می‌گیره\n",
    "        بعد از تمام نمونه‌ها، میانگین می‌گیره\n",
    "        \n",
    "        📎 فرمول:\n",
    "            F1_samples = (F1_sample1 + F1_sample2 + ... + F1_sampleN) / N_samples\n",
    "        #_______________________\n",
    "\n",
    "    classifier chains:\n",
    "        تعریف:\n",
    "        در Multi-output classification، می‌تونی هر خروجی رو مستقل آموزش بدی؛ ولی یه راه هوشمندانه‌تر، استفاده از Classifier Chains هست.\n",
    "        چی کار می‌کنه؟\n",
    "        \n",
    "        به‌جای اینکه خروجی‌ها رو کاملاً مستقل آموزش بدیم، مدل‌های بعدی از پیش‌بینی‌های قبلی به عنوان ورودی استفاده می‌کنن.\n",
    "        آنالوژی:\n",
    "        \n",
    "        فرض کن قراره سن و احساس و جنسیت کسی رو از چهره‌اش بگی. شاید تشخیص \"عینک داشتن\" روی تشخیص \"سن\" اثر داشته باشه (چون معمولاً آدمای مسن عینک دارن).\n",
    "        \n",
    "        Classifier chain این رابطه‌ها رو حفظ می‌کنه.\n",
    "        \n",
    "#_______________________\n",
    "\n",
    "    Hamming Loss:\n",
    "        درصد برچسب‌های نادرست در total predictions\n",
    "        from sklearn.metrics import hamming_loss\n",
    "      \n",
    "#_______________________\n",
    "\n",
    "    Subset Accuracy\n",
    "    فقط اگر تمام خروجی‌ها درست باشن، می‌گه \"درسته\" (خیلی سخت‌گیره!)\n",
    "    from sklearn.metrics import accuracy_score\n",
    "    \n",
    "#_______________________\n",
    "\n",
    "در ارزیابی مدل‌های چندکلاسه یا چندبرچسبی، پارامتر average نقش مهمی دارد:\n",
    "\n",
    "    - macro: میانگین F1 برای تمام کلاس‌ها بدون توجه به نمونه در هر کلاس،  به طور مساوی (مناسب برای داده متوازن)\n",
    "    - weighted: میانگین F1 با وزن‌دهی به اندازه کلاس‌ها. با توجه به تعداد نمونه (مناسب برای داده نامتوازن). یعنی  میانگین F1 با توجه به تعداد نمونه در هر کلاس.\n",
    "    - micro: F1 کلی بر اساس مجموع کل نمونه‌ها (مناسب برای multilabel یا overview).\n",
    "    همه کلاس‌ها یکی فرض شده و F1 کلی گرفته می‌شود\n",
    "    \n",
    "    - samples: مخصوص multilabel، میانگین F1 در سطح نمونه (نه کلاس). یعنی برای هر نمونه F1 محاسبه میشه و میانگین گرفته میشه\n",
    "    \n",
    "    Classifier Chains نیز روشی هوشمندانه در Multi-output classification است که از وابستگی بین خروجی‌ها بهره می‌گیرد و در شرایطی که خروجی‌ها همبستگی دارند بسیار مؤثر است.\n",
    " \n",
    "    \"\"\""
   ]
  },
  {
   "metadata": {},
   "cell_type": "markdown",
   "source": [
    " # مثال از ارزیابی مالتی لیبل و مالتی اوت پوت\n",
    "سناریوی ساده با داده واقعی (Multilabel Example)\n",
    "\n",
    "ما ۵ دانش‌آموز داریم و برای هر دانش‌آموز مشخصه که در کدوم کلاس‌ها پاس شده (یعنی 1) و در کدوم افتاده (یعنی 0).\n",
    "\n",
    "#_______________________\n",
    "\n",
    "✅ Ground truth (y_true) — واقعیت:\n",
    "دانش‌آموز\tریاضی\tفیزیک\tادبیات\n",
    "A\t1\t0\t1\n",
    "B\t1\t1\t0\n",
    "C\t0\t0\t1\n",
    "D\t1\t1\t0\n",
    "E\t0\t1\t1\n",
    "\n",
    "y_true = [\n",
    "    [1, 0, 1],\n",
    "    [1, 1, 0],\n",
    "    [0, 0, 1],\n",
    "    [1, 1, 0],\n",
    "    [0, 1, 1]\n",
    "]\n",
    "\n",
    "#_______________________\n",
    "\n",
    "✅ Predictions (y_pred) — پیش‌بینی مدل:\n",
    "دانش‌آموز\tریاضی\tفیزیک\tادبیات\n",
    "A\t1\t0\t0\n",
    "B\t1\t1\t0\n",
    "C\t1\t0\t1\n",
    "D\t1\t0\t0\n",
    "E\t0\t1\t1\n",
    "\n",
    "y_pred = [\n",
    "    [1, 0, 0],\n",
    "    [1, 1, 0],\n",
    "    [1, 0, 1],\n",
    "    [1, 0, 0],\n",
    "    [0, 1, 1]\n",
    "]\n",
    "\n",
    "#_______________________\n",
    "\n",
    "✅ 1. Macro F1\n",
    "    اول F1 برای هر کلاس جدا:\n",
    "\n",
    "کلاس ریاضی:\n",
    "\n",
    "    TP = 3 (A, B, D)\n",
    "    FP = 0\n",
    "    FN = 0\n",
    "    → F1 = 1.0\n",
    "\n",
    "کلاس فیزیک:\n",
    "\n",
    "    TP = 2 (B, E)\n",
    "    FN = 1 (D)\n",
    "    FP = 0\n",
    "    → F1 = 0.8\n",
    "\n",
    "کلاس ادبیات:\n",
    "\n",
    "    TP = 2 (C, E)\n",
    "    FN = 1 (A)\n",
    "    FP = 0\n",
    "    → F1 = 0.8\n",
    "\n",
    "📎 پس:\n",
    "F1_macro = (1.0 + 0.8 + 0.8) / 3 = 2.6 / 3 ≈ 0.87\n",
    "\n",
    "#_______________________\n",
    "\n",
    "✅ 2. Weighted F1\n",
    "\n",
    "فرض کنیم تعداد دانش‌آموز در هر کلاس:\n",
    "\n",
    "    ریاضی: 3\n",
    "\n",
    "    فیزیک: 3\n",
    "\n",
    "    ادبیات: 3\n",
    "    (چون همه تقریباً ظاهر شدن، پس وزن‌ها برابر می‌شه)\n",
    "\n",
    "F1_weighted = (3×1.0 + 3×0.8 + 3×0.8) / (3+3+3)\n",
    "            = (3.0 + 2.4 + 2.4) / 9 = 7.8 / 9 ≈ 0.867\n",
    "\n",
    "#_______________________\n",
    "\n",
    "✅ 3. Micro F1\n",
    "\n",
    "در Micro، همه‌ی کلاس‌ها رو قاطی می‌کنیم:\n",
    "\n",
    "TP = تعداد ۱هایی که درست پیش‌بینی شده‌اند = 7\n",
    "FP = تعداد ۱هایی که اشتباه پیش‌بینی شده‌اند = 1\n",
    "FN = تعداد ۰هایی که باید ۱ می‌شدند = 2\n",
    "\n",
    "Precision = TP / (TP + FP) = 7 / (7 + 1) = 7/8\n",
    "Recall    = TP / (TP + FN) = 7 / (7 + 2) = 7/9\n",
    "\n",
    "F1_micro = 2 * (Precision * Recall) / (Precision + Recall)\n",
    "         = 2 * (7/8 * 7/9) / (7/8 + 7/9)\n",
    "         ≈ 0.823\n",
    "\n",
    "#_______________________\n",
    "\n",
    "✅ 4. Samples F1\n",
    "\n",
    "برای هر دانش‌آموز جداگانه F1 می‌گیریم:\n",
    "دانش‌آموز\ttrue\tpred\tF1\n",
    "A\t1 0 1\t1 0 0\t0.66\n",
    "B\t1 1 0\t1 1 0\t1.0\n",
    "C\t0 0 1\t1 0 1\t0.66\n",
    "D\t1 1 0\t1 0 0\t0.66\n",
    "E\t0 1 1\t0 1 1\t1.0\n",
    "\n",
    "F1_samples = (0.66 + 1.0 + 0.66 + 0.66 + 1.0) / 5 = 4.0 / 5 = 0.8\n",
    "\n",
    "#_______________________\n",
    "\n",
    "✅ 5. Hamming Loss\n",
    "\n",
    "تعداد اشتباهات تقسیم بر تعداد کل پیش‌بینی‌ها:\n",
    "\n",
    "    کل مقدارها: 5 دانش‌آموز × 3 کلاس = 15\n",
    "\n",
    "    اشتباه‌ها = تعداد 0 یا 1 که با y_true فرق دارن = 3\n",
    "\n",
    "Hamming Loss = 3 / 15 = 0.2\n",
    "\n",
    "#_______________________\n",
    "\n",
    "✅ 6. Subset Accuracy (Exact Match)\n",
    "\n",
    "تعداد نمونه‌هایی که کاملاً درست پیش‌بینی شدن:\n",
    "\n",
    "    فقط دانش‌آموز B و E کاملاً درست پیش‌بینی شدن\n",
    "\n",
    "Subset Accuracy = 2 / 5 = 0.4\n",
    "\n",
    "#_______________________\n",
    "\n",
    "✅ 7. Classifier Chains\n",
    "\n",
    "این یکی متریک نیست، بلکه مدل آموزشی برای multi-output classification هست.\n",
    "🤖 ایده‌اش:\n",
    "\n",
    "در مدل‌های Multi-Label، ممکنه برچسب‌ها به هم وابسته باشن.\n",
    "\n",
    "مثلاً: کسی که ریاضی قبول شده، احتمالاً فیزیک هم قبول شده!\n",
    "Classifier Chain این کار رو می‌کنه:\n",
    "\n",
    "    مدل برای ریاضی می‌سازه\n",
    "\n",
    "    خروجی اون رو به عنوان ورودی می‌ده به مدل فیزیک\n",
    "\n",
    "    بعد فیزیک → ورودی مدل ادبیات\n",
    "\n",
    "یعنی:\n",
    "\n",
    "X → y1 → y2 → y3\n",
    "\n",
    "در واقع ترتیب می‌سازه بین برچسب‌ها.\n",
    "#_______________________\n",
    "\n",
    "✅ جمع‌بندی نهایی\n",
    "متریک\tتعریف\tمقدار\n",
    "F1_macro\tمیانگین F1 کلاس‌ها (وزن مساوی)\t≈ 0.87\n",
    "F1_weighted\tمیانگین F1 با وزن نسبت به تعداد نمونه در هر کلاس\t≈ 0.867\n",
    "F1_micro\tF1 روی کل نمونه‌ها بدون درنظرگرفتن کلاس\t≈ 0.823\n",
    "F1_samples\tمیانگین F1 برای هر نمونه\t0.8\n",
    "Hamming Loss\tتعداد اشتباهات تقسیم بر کل مقدارها\t0.2\n",
    "Subset Accuracy\tدرصد نمونه‌هایی که کاملاً درست پیش‌بینی شدن\t0.4\n",
    "Classifier Chains\tروشی برای یادگیری وابسته بین خروجی‌ها (نه متریک)\t—\n"
   ]
  },
  {
   "metadata": {},
   "cell_type": "markdown",
   "source": [
    "---\n",
    " # ✅ جمع‌بندی نهایی متریک‌های ارزیابی مدل‌ها\n",
    "\"\"\"\n",
    "#__________________________________________________\n",
    "#__________________________________________________\n",
    "\n",
    " 1. متریک‌های مناسب برای Classification (تمام انواع)\n",
    " \n",
    "#_______________________\n",
    "\n",
    "✅ برای Binary:\n",
    "\n",
    "Accuracy\t✅\tدرصد درست پیش‌بینی‌ها\n",
    "Precision, Recall, F1\t✅\tبرای داده نامتوازن عالی\n",
    "AUC-ROC\t✅\tعملکرد مدل برای تمام آستانه‌ها\n",
    "Confusion Matrix\t✅\tجدول شمارش درست/اشتباه\n",
    "Log Loss / Cross Entropy\t✅\tpenalize می‌کنه اطمینان اشتباه رو\n",
    "\n",
    "#_______________________\n",
    "\n",
    "\n",
    "✅ برای Multiclass:\n",
    "\n",
    "Accuracy\t✅\tدرست بودن کلی\n",
    "Macro Precision/Recall/F1\t✅\tمیانگین بدون توجه به فراوانی\n",
    "Micro Precision/Recall/F1\t✅\tمیانگین با تجمیع پیش‌بینی‌ها\n",
    "Weighted Precision/F1\t✅\tمیانگین با توجه به کلاس پرجمعیت\n",
    "Confusion Matrix\t✅\tابعاد بزرگ‌تر (کلاس × کلاس)\n",
    "Top-k Accuracy\t✅\tاگه جواب توی ۵ تا اول بود، موفقه\n",
    "Log Loss\t✅\tpenalize اطمینان اشتباه\n",
    "\n",
    "#_______________________\n",
    "\n",
    "✅ برای Multilabel:\n",
    "\n",
    "\n",
    "Accuracy (subset acc)\t✅\tفقط اگه تمام برچسب‌ها درست باشن\n",
    "Macro/Weighted/Micro F1\t✅\tروی همه‌ی کلاس‌ها یا پیش‌بینی‌ها\n",
    "Samples F1\t✅\tهر سطر یه F1، بعد میانگین\n",
    "Hamming Loss\t✅\tدرصد خطا در هر برچسب جدا\n",
    "Precision@k\t✅\tچندتا از top-k درست بودن؟\n",
    "Ranking Loss\t✅\tموقعیت درست/نادرست در رتبه‌بندی\n",
    "Coverage Error\t✅\tچقدر باید پیش‌بینی کنیم تا همه‌ی درست‌ها رو بگیریم\n",
    "Classifier Chains\t✅ مدل\tنه متریک، ولی برای یادگیری عالیه\n",
    "\n",
    "#_______________________\n",
    "\n",
    "✅ برای Multioutput Classification:\n",
    "\n",
    "یعنی مثلاً:\n",
    "y = [label_A, label_B, label_C]\n",
    "هر خروجی یه classification جداست (ولی مدل یکیه)\n",
    "\n",
    "    در این حالت می‌تونی از:\n",
    "        Hamming Loss ✅\n",
    "\n",
    "        Samples Accuracy / F1 ✅\n",
    "\n",
    "        Macro/Micro/Weighted ✅ (برای کل برچسب‌ها یا هر خروجی جدا)\n",
    "\n",
    "        Subset Accuracy ✅\n",
    "\n",
    "        Classifier Chains ✅ (برای خروجی‌های وابسته)\n",
    "#__________________________________________________\n",
    "#__________________________________________________\n",
    "\n",
    "📈 2. متریک‌های ارزیابی Regression\n",
    "\n",
    "#_______________________\n",
    "\n",
    "\n",
    "Mean Absolute Error (MAE)\t(مناسب برای همه نوع رگرسیون)\t\n",
    "توضیح: اختلاف میانگین قدر مطلق\n",
    "#_______________________\n",
    "\n",
    "\n",
    "Mean Squared Error (MSE)\t(مناسب برای همه نوع)\t\n",
    "توضیح:اختلاف به توان دو (خطاهای بزرگ‌تر بیشتر جریمه می‌شن)\n",
    "#_______________________\n",
    "\n",
    "Root Mean Squared Error (RMSE)\t(مناسب برای همه نوع)\t\n",
    "توضیح:ریشه‌ی MSE (هم‌مقیاس با خروجی)\n",
    "#_______________________\n",
    "\n",
    "R² Score (Coefficient of Determination)\t(مناسب برای همه نوع)\t\n",
    "توضیح:درصدی از واریانس که مدل توضیح می‌ده\n",
    "#_______________________\n",
    "\n",
    "Mean Absolute Percentage Error (MAPE)\t( مناسب برای نسبت‌ محور)\t\n",
    "توضیح:درصد خطای نسبی\n",
    "#_______________________\n",
    "\n",
    "Huber Loss\t( مناسب برای رگرسیون مقاوم)\tترکیب MAE و MSE\n",
    "#_______________________\n",
    "\n",
    "Explained Variance\t(مناسب برای رگرسیون چندگانه)\tچه درصدی از واریانس داده رو مدل گرفته\n",
    "\n",
    "\"\"\""
   ]
  }
 ]
}
